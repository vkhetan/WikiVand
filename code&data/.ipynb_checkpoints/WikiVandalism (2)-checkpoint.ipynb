{
 "cells": [
  {
   "cell_type": "markdown",
   "metadata": {},
   "source": [
    "# Relevant Code Starts at Next Header"
   ]
  },
  {
   "cell_type": "code",
   "execution_count": 80,
   "metadata": {
    "collapsed": false
   },
   "outputs": [],
   "source": [
    "import json\n",
    "import xmltodict, json"
   ]
  },
  {
   "cell_type": "code",
   "execution_count": 39,
   "metadata": {
    "collapsed": true
   },
   "outputs": [],
   "source": [
    "path='wdvc16_2012_10.json'"
   ]
  },
  {
   "cell_type": "code",
   "execution_count": 15,
   "metadata": {
    "collapsed": false
   },
   "outputs": [],
   "source": [
    "import json\n",
    "\n",
    "json_data = open(path)\n",
    "jdata = json.load(json_data)"
   ]
  },
  {
   "cell_type": "code",
   "execution_count": 16,
   "metadata": {
    "collapsed": true
   },
   "outputs": [],
   "source": [
    "df = pd.io.json.json_normalize(jdata)"
   ]
  },
  {
   "cell_type": "code",
   "execution_count": 17,
   "metadata": {
    "collapsed": true
   },
   "outputs": [],
   "source": [
    "df.columns = df.columns.map(lambda x: x.split(\".\")[-1])"
   ]
  },
  {
   "cell_type": "code",
   "execution_count": 25,
   "metadata": {
    "collapsed": false
   },
   "outputs": [
    {
     "data": {
      "text/plain": [
       "(1, 20)"
      ]
     },
     "execution_count": 25,
     "metadata": {},
     "output_type": "execute_result"
    }
   ],
   "source": [
    "df.shape"
   ]
  },
  {
   "cell_type": "code",
   "execution_count": 26,
   "metadata": {
    "collapsed": false,
    "scrolled": true
   },
   "outputs": [
    {
     "data": {
      "text/html": [
       "<div>\n",
       "<table border=\"1\" class=\"dataframe\">\n",
       "  <thead>\n",
       "    <tr style=\"text-align: right;\">\n",
       "      <th></th>\n",
       "      <th>10/}id</th>\n",
       "      <th>10/}ns</th>\n",
       "      <th>10/}comment</th>\n",
       "      <th>10/}id</th>\n",
       "      <th>10/}username</th>\n",
       "      <th>10/}format</th>\n",
       "      <th>10/}id</th>\n",
       "      <th>10/}model</th>\n",
       "      <th>10/}parentid</th>\n",
       "      <th>10/}sha1</th>\n",
       "      <th>10/}text</th>\n",
       "      <th>10/}timestamp</th>\n",
       "      <th>10/}title</th>\n",
       "      <th>10/}base</th>\n",
       "      <th>10/}case</th>\n",
       "      <th>10/}dbname</th>\n",
       "      <th>10/}generator</th>\n",
       "      <th>case</th>\n",
       "      <th>key</th>\n",
       "      <th>10/}sitename</th>\n",
       "    </tr>\n",
       "  </thead>\n",
       "  <tbody>\n",
       "    <tr>\n",
       "      <th>0</th>\n",
       "      <td>5350</td>\n",
       "      <td>0</td>\n",
       "      <td>/* wbsetdescription-set:1|de */ aus Bäumen auf...</td>\n",
       "      <td>2490</td>\n",
       "      <td>Morten Haan</td>\n",
       "      <td>application/json</td>\n",
       "      <td>269840</td>\n",
       "      <td>wikibase-item</td>\n",
       "      <td>269831</td>\n",
       "      <td>lcb9lkhzgpi8gytr7gs4a3jz2bpyp4z</td>\n",
       "      <td>{\"type\":\"item\",\"id\":\"Q4421\",\"labels\":{\"en\":{\"l...</td>\n",
       "      <td>2012-10-31T23:59:55Z</td>\n",
       "      <td>Q4421</td>\n",
       "      <td>http://www.wikidata.org/wiki/Wikidata:Main_Page</td>\n",
       "      <td>first-letter</td>\n",
       "      <td>wikidatawiki</td>\n",
       "      <td>None</td>\n",
       "      <td>first-letter</td>\n",
       "      <td>0</td>\n",
       "      <td>Wikidata</td>\n",
       "    </tr>\n",
       "  </tbody>\n",
       "</table>\n",
       "</div>"
      ],
      "text/plain": [
       "  10/}id 10/}ns                                        10/}comment 10/}id  \\\n",
       "0   5350      0  /* wbsetdescription-set:1|de */ aus Bäumen auf...   2490   \n",
       "\n",
       "  10/}username        10/}format  10/}id      10/}model 10/}parentid  \\\n",
       "0  Morten Haan  application/json  269840  wikibase-item       269831   \n",
       "\n",
       "                          10/}sha1  \\\n",
       "0  lcb9lkhzgpi8gytr7gs4a3jz2bpyp4z   \n",
       "\n",
       "                                            10/}text         10/}timestamp  \\\n",
       "0  {\"type\":\"item\",\"id\":\"Q4421\",\"labels\":{\"en\":{\"l...  2012-10-31T23:59:55Z   \n",
       "\n",
       "  10/}title                                         10/}base      10/}case  \\\n",
       "0     Q4421  http://www.wikidata.org/wiki/Wikidata:Main_Page  first-letter   \n",
       "\n",
       "     10/}dbname 10/}generator          case key 10/}sitename  \n",
       "0  wikidatawiki          None  first-letter   0     Wikidata  "
      ]
     },
     "execution_count": 26,
     "metadata": {},
     "output_type": "execute_result"
    }
   ],
   "source": [
    "df"
   ]
  },
  {
   "cell_type": "code",
   "execution_count": 41,
   "metadata": {
    "collapsed": true
   },
   "outputs": [],
   "source": [
    "path_xml = 'wdvc16_2012_10.xml'"
   ]
  },
  {
   "cell_type": "code",
   "execution_count": 48,
   "metadata": {
    "collapsed": false
   },
   "outputs": [
    {
     "name": "stdout",
     "output_type": "stream",
     "text": [
      "['<mediawiki xmlns=\"http://www.mediawiki.org/xml/export-0.10/\" xmlns:xsi=\"http://www.w3.org/2001/XMLSchema-instance\" xsi:schemaLocation=\"http://www.mediawiki.org/xml/export-0.10/ http://www.mediawiki.org/xml/export-0.10.xsd\" version=\"0.10\" xml:lang=\"en\">\\n']\n"
     ]
    }
   ],
   "source": [
    "lines = open(path_xml).readlines(7)\n",
    "print(lines)"
   ]
  },
  {
   "cell_type": "code",
   "execution_count": 45,
   "metadata": {
    "collapsed": false
   },
   "outputs": [
    {
     "ename": "ExpatError",
     "evalue": "syntax error: line 1, column 0",
     "output_type": "error",
     "traceback": [
      "\u001b[0;31m---------------------------------------------------------------------------\u001b[0m",
      "\u001b[0;31mTypeError\u001b[0m                                 Traceback (most recent call last)",
      "\u001b[0;32m/Users/admin/anaconda/lib/python3.5/site-packages/xmltodict.py\u001b[0m in \u001b[0;36mparse\u001b[0;34m(xml_input, encoding, expat, process_namespaces, namespace_separator, **kwargs)\u001b[0m\n\u001b[1;32m    308\u001b[0m     \u001b[0;32mtry\u001b[0m\u001b[0;34m:\u001b[0m\u001b[0;34m\u001b[0m\u001b[0m\n\u001b[0;32m--> 309\u001b[0;31m         \u001b[0mparser\u001b[0m\u001b[0;34m.\u001b[0m\u001b[0mParseFile\u001b[0m\u001b[0;34m(\u001b[0m\u001b[0mxml_input\u001b[0m\u001b[0;34m)\u001b[0m\u001b[0;34m\u001b[0m\u001b[0m\n\u001b[0m\u001b[1;32m    310\u001b[0m     \u001b[0;32mexcept\u001b[0m \u001b[0;34m(\u001b[0m\u001b[0mTypeError\u001b[0m\u001b[0;34m,\u001b[0m \u001b[0mAttributeError\u001b[0m\u001b[0;34m)\u001b[0m\u001b[0;34m:\u001b[0m\u001b[0;34m\u001b[0m\u001b[0m\n",
      "\u001b[0;31mTypeError\u001b[0m: argument must have 'read' attribute",
      "\nDuring handling of the above exception, another exception occurred:\n",
      "\u001b[0;31mExpatError\u001b[0m                                Traceback (most recent call last)",
      "\u001b[0;32m<ipython-input-45-9937ae4c69c8>\u001b[0m in \u001b[0;36m<module>\u001b[0;34m()\u001b[0m\n\u001b[0;32m----> 1\u001b[0;31m \u001b[0mo\u001b[0m \u001b[0;34m=\u001b[0m \u001b[0mxmltodict\u001b[0m\u001b[0;34m.\u001b[0m\u001b[0mparse\u001b[0m\u001b[0;34m(\u001b[0m\u001b[0;34m'lines'\u001b[0m\u001b[0;34m)\u001b[0m\u001b[0;34m\u001b[0m\u001b[0m\n\u001b[0m",
      "\u001b[0;32m/Users/admin/anaconda/lib/python3.5/site-packages/xmltodict.py\u001b[0m in \u001b[0;36mparse\u001b[0;34m(xml_input, encoding, expat, process_namespaces, namespace_separator, **kwargs)\u001b[0m\n\u001b[1;32m    309\u001b[0m         \u001b[0mparser\u001b[0m\u001b[0;34m.\u001b[0m\u001b[0mParseFile\u001b[0m\u001b[0;34m(\u001b[0m\u001b[0mxml_input\u001b[0m\u001b[0;34m)\u001b[0m\u001b[0;34m\u001b[0m\u001b[0m\n\u001b[1;32m    310\u001b[0m     \u001b[0;32mexcept\u001b[0m \u001b[0;34m(\u001b[0m\u001b[0mTypeError\u001b[0m\u001b[0;34m,\u001b[0m \u001b[0mAttributeError\u001b[0m\u001b[0;34m)\u001b[0m\u001b[0;34m:\u001b[0m\u001b[0;34m\u001b[0m\u001b[0m\n\u001b[0;32m--> 311\u001b[0;31m         \u001b[0mparser\u001b[0m\u001b[0;34m.\u001b[0m\u001b[0mParse\u001b[0m\u001b[0;34m(\u001b[0m\u001b[0mxml_input\u001b[0m\u001b[0;34m,\u001b[0m \u001b[0;32mTrue\u001b[0m\u001b[0;34m)\u001b[0m\u001b[0;34m\u001b[0m\u001b[0m\n\u001b[0m\u001b[1;32m    312\u001b[0m     \u001b[0;32mreturn\u001b[0m \u001b[0mhandler\u001b[0m\u001b[0;34m.\u001b[0m\u001b[0mitem\u001b[0m\u001b[0;34m\u001b[0m\u001b[0m\n\u001b[1;32m    313\u001b[0m \u001b[0;34m\u001b[0m\u001b[0m\n",
      "\u001b[0;31mExpatError\u001b[0m: syntax error: line 1, column 0"
     ]
    }
   ],
   "source": [
    "o = xmltodict.parse('lines')"
   ]
  },
  {
   "cell_type": "code",
   "execution_count": 67,
   "metadata": {
    "collapsed": false
   },
   "outputs": [],
   "source": [
    "import xmltodict, json\n",
    "import io\n",
    "\n",
    "output = []\n",
    "\n",
    "def handle(path, item):\n",
    "    #do stuff\n",
    "    return\n",
    "\n",
    "doc_file = open(\"wdvc16_2012_10.xml\",\"r\")\n",
    "doc = doc_file.read()        \n",
    "xmltodict.parse(doc)\n",
    "\n",
    "f = open('jbtest.json', 'w')\n",
    "json.dump(output,f)"
   ]
  },
  {
   "cell_type": "code",
   "execution_count": null,
   "metadata": {
    "collapsed": false
   },
   "outputs": [],
   "source": [
    "doc_file = open(\"wdvc16_2012_10.xml\",\"r\")\n",
    "doc = doc_file.read()        \n",
    "x = xmltodict.parse(doc)"
   ]
  },
  {
   "cell_type": "code",
   "execution_count": 62,
   "metadata": {
    "collapsed": false
   },
   "outputs": [
    {
     "ename": "NameError",
     "evalue": "name 'new_json' is not defined",
     "output_type": "error",
     "traceback": [
      "\u001b[0;31m---------------------------------------------------------------------------\u001b[0m",
      "\u001b[0;31mNameError\u001b[0m                                 Traceback (most recent call last)",
      "\u001b[0;32m<ipython-input-62-6bad9ae93029>\u001b[0m in \u001b[0;36m<module>\u001b[0;34m()\u001b[0m\n\u001b[1;32m      4\u001b[0m         \u001b[0mnew_json\u001b[0m \u001b[0;34m=\u001b[0m \u001b[0mjson\u001b[0m\u001b[0;34m.\u001b[0m\u001b[0mdumps\u001b[0m\u001b[0;34m(\u001b[0m\u001b[0md\u001b[0m\u001b[0;34m,\u001b[0m \u001b[0mindent\u001b[0m\u001b[0;34m=\u001b[0m\u001b[0;36m4\u001b[0m\u001b[0;34m)\u001b[0m\u001b[0;34m\u001b[0m\u001b[0m\n\u001b[1;32m      5\u001b[0m \u001b[0;34m\u001b[0m\u001b[0m\n\u001b[0;32m----> 6\u001b[0;31m \u001b[0mprint\u001b[0m\u001b[0;34m(\u001b[0m\u001b[0mnew_json\u001b[0m\u001b[0;34m)\u001b[0m\u001b[0;34m\u001b[0m\u001b[0m\n\u001b[0m",
      "\u001b[0;31mNameError\u001b[0m: name 'new_json' is not defined"
     ]
    }
   ],
   "source": [
    "def convert(xml_file, xml_attribs=True):\n",
    "    with open(path_xml, \"rb\") as f:    # notice the \"rb\" mode\n",
    "        d = xmltodict.parse(f, xml_attribs=xml_attribs)\n",
    "        new_json = json.dumps(d, indent=4)\n",
    "        \n",
    "print(new_json)"
   ]
  },
  {
   "cell_type": "code",
   "execution_count": null,
   "metadata": {
    "collapsed": false
   },
   "outputs": [],
   "source": []
  },
  {
   "cell_type": "code",
   "execution_count": 3,
   "metadata": {
    "collapsed": true
   },
   "outputs": [],
   "source": [
    "lines=open(path).readlines()"
   ]
  },
  {
   "cell_type": "code",
   "execution_count": 4,
   "metadata": {
    "collapsed": true
   },
   "outputs": [],
   "source": [
    "records=[json.loads(line) for line in lines]"
   ]
  },
  {
   "cell_type": "code",
   "execution_count": 5,
   "metadata": {
    "collapsed": true
   },
   "outputs": [],
   "source": [
    "from pandas import DataFrame, Series"
   ]
  },
  {
   "cell_type": "code",
   "execution_count": 6,
   "metadata": {
    "collapsed": true
   },
   "outputs": [],
   "source": [
    "import pandas as pd"
   ]
  },
  {
   "cell_type": "code",
   "execution_count": 7,
   "metadata": {
    "collapsed": true
   },
   "outputs": [],
   "source": [
    "frame = DataFrame(records)"
   ]
  },
  {
   "cell_type": "code",
   "execution_count": 10,
   "metadata": {
    "collapsed": false
   },
   "outputs": [
    {
     "data": {
      "text/html": [
       "<div>\n",
       "<table border=\"1\" class=\"dataframe\">\n",
       "  <thead>\n",
       "    <tr style=\"text-align: right;\">\n",
       "      <th></th>\n",
       "      <th>{http://www.mediawiki.org/xml/export-0.10/}mediawiki</th>\n",
       "    </tr>\n",
       "  </thead>\n",
       "  <tbody>\n",
       "    <tr>\n",
       "      <th>0</th>\n",
       "      <td>{'{http://www.mediawiki.org/xml/export-0.10/}p...</td>\n",
       "    </tr>\n",
       "  </tbody>\n",
       "</table>\n",
       "</div>"
      ],
      "text/plain": [
       "  {http://www.mediawiki.org/xml/export-0.10/}mediawiki\n",
       "0  {'{http://www.mediawiki.org/xml/export-0.10/}p...  "
      ]
     },
     "execution_count": 10,
     "metadata": {},
     "output_type": "execute_result"
    }
   ],
   "source": [
    "frame"
   ]
  },
  {
   "cell_type": "code",
   "execution_count": 73,
   "metadata": {
    "collapsed": true
   },
   "outputs": [],
   "source": [
    "import io, xmltodict, json"
   ]
  },
  {
   "cell_type": "code",
   "execution_count": 76,
   "metadata": {
    "collapsed": false
   },
   "outputs": [
    {
     "ename": "NameError",
     "evalue": "name 'unicode' is not defined",
     "output_type": "error",
     "traceback": [
      "\u001b[0;31m---------------------------------------------------------------------------\u001b[0m",
      "\u001b[0;31mNameError\u001b[0m                                 Traceback (most recent call last)",
      "\u001b[0;32m<ipython-input-76-6d82c73f1118>\u001b[0m in \u001b[0;36m<module>\u001b[0;34m()\u001b[0m\n\u001b[1;32m      2\u001b[0m \u001b[0moutfile\u001b[0m \u001b[0;34m=\u001b[0m \u001b[0mio\u001b[0m\u001b[0;34m.\u001b[0m\u001b[0mopen\u001b[0m\u001b[0;34m(\u001b[0m\u001b[0;34m\"jbtest.json\"\u001b[0m\u001b[0;34m,\u001b[0m \u001b[0;34m'wb'\u001b[0m\u001b[0;34m)\u001b[0m\u001b[0;34m\u001b[0m\u001b[0m\n\u001b[1;32m      3\u001b[0m \u001b[0mo\u001b[0m \u001b[0;34m=\u001b[0m \u001b[0mxmltodict\u001b[0m\u001b[0;34m.\u001b[0m\u001b[0mparse\u001b[0m\u001b[0;34m(\u001b[0m \u001b[0minfile\u001b[0m\u001b[0;34m.\u001b[0m\u001b[0mread\u001b[0m\u001b[0;34m(\u001b[0m\u001b[0;34m)\u001b[0m \u001b[0;34m)\u001b[0m\u001b[0;34m\u001b[0m\u001b[0m\n\u001b[0;32m----> 4\u001b[0;31m \u001b[0mjson\u001b[0m\u001b[0;34m.\u001b[0m\u001b[0mdump\u001b[0m\u001b[0;34m(\u001b[0m\u001b[0municode\u001b[0m\u001b[0;34m(\u001b[0m\u001b[0mo\u001b[0m\u001b[0;34m)\u001b[0m \u001b[0;34m,\u001b[0m \u001b[0moutfile\u001b[0m \u001b[0;34m)\u001b[0m\u001b[0;34m\u001b[0m\u001b[0m\n\u001b[0m",
      "\u001b[0;31mNameError\u001b[0m: name 'unicode' is not defined"
     ]
    }
   ],
   "source": [
    "infile = io.open(\"wdvc16_2012_10.xml\", 'r')\n",
    "outfile = io.open(\"jbtest.json\", 'wb')\n",
    "o = xmltodict.parse( infile.read() )\n",
    "json.dump(o , outfile )"
   ]
  },
  {
   "cell_type": "code",
   "execution_count": 79,
   "metadata": {
    "collapsed": false,
    "scrolled": true
   },
   "outputs": [],
   "source": [
    "infile = io.open(\"wdvc16_2012_10.xml\", 'r')\n",
    "o = xmltodict.parse( infile.read() )\n",
    "with io.open(\"testJson.json\",'w',encoding=\"utf-8\") as outfile:\n",
    "  outfile.write(str(json.dumps(o, ensure_ascii=False)))"
   ]
  },
  {
   "cell_type": "code",
   "execution_count": 60,
   "metadata": {
    "collapsed": false
   },
   "outputs": [],
   "source": [
    "import csv\n",
    "import pandas as pd\n",
    "import numpy as np"
   ]
  },
  {
   "cell_type": "code",
   "execution_count": 25,
   "metadata": {
    "collapsed": false
   },
   "outputs": [],
   "source": [
    "wiki = pd.read_csv(\"first.csv\", delimiter=',')"
   ]
  },
  {
   "cell_type": "code",
   "execution_count": 26,
   "metadata": {
    "collapsed": false
   },
   "outputs": [
    {
     "data": {
      "text/plain": [
       "(250300, 5)"
      ]
     },
     "execution_count": 26,
     "metadata": {},
     "output_type": "execute_result"
    }
   ],
   "source": [
    "wiki.shape"
   ]
  },
  {
   "cell_type": "code",
   "execution_count": 27,
   "metadata": {
    "collapsed": false
   },
   "outputs": [
    {
     "data": {
      "text/html": [
       "<div>\n",
       "<table border=\"1\" class=\"dataframe\">\n",
       "  <thead>\n",
       "    <tr style=\"text-align: right;\">\n",
       "      <th></th>\n",
       "      <th>Unnamed: 0</th>\n",
       "      <th>title</th>\n",
       "      <th>ns</th>\n",
       "      <th>id</th>\n",
       "      <th>revision</th>\n",
       "    </tr>\n",
       "  </thead>\n",
       "  <tbody>\n",
       "    <tr>\n",
       "      <th>0</th>\n",
       "      <td>1</td>\n",
       "      <td>Q15</td>\n",
       "      <td>0</td>\n",
       "      <td>111</td>\n",
       "      <td>{'timestamp': '2012-10-29T17:03:21Z', 'comment...</td>\n",
       "    </tr>\n",
       "    <tr>\n",
       "      <th>1</th>\n",
       "      <td>2</td>\n",
       "      <td>Q16</td>\n",
       "      <td>0</td>\n",
       "      <td>4162476</td>\n",
       "      <td>{'timestamp': '2012-10-29T17:05:52Z', 'comment...</td>\n",
       "    </tr>\n",
       "    <tr>\n",
       "      <th>2</th>\n",
       "      <td>3</td>\n",
       "      <td>Q15</td>\n",
       "      <td>0</td>\n",
       "      <td>111</td>\n",
       "      <td>{'timestamp': 16, 'comment': &lt;Element {http://...</td>\n",
       "    </tr>\n",
       "    <tr>\n",
       "      <th>3</th>\n",
       "      <td>4</td>\n",
       "      <td>Q17</td>\n",
       "      <td>0</td>\n",
       "      <td>114</td>\n",
       "      <td>{'timestamp': '2012-10-29T17:20:22Z', 'comment...</td>\n",
       "    </tr>\n",
       "    <tr>\n",
       "      <th>4</th>\n",
       "      <td>5</td>\n",
       "      <td>Q18</td>\n",
       "      <td>0</td>\n",
       "      <td>115</td>\n",
       "      <td>{'timestamp': '2012-10-29T17:28:09Z', 'comment...</td>\n",
       "    </tr>\n",
       "  </tbody>\n",
       "</table>\n",
       "</div>"
      ],
      "text/plain": [
       "   Unnamed: 0 title  ns       id  \\\n",
       "0           1   Q15   0      111   \n",
       "1           2   Q16   0  4162476   \n",
       "2           3   Q15   0      111   \n",
       "3           4   Q17   0      114   \n",
       "4           5   Q18   0      115   \n",
       "\n",
       "                                            revision  \n",
       "0  {'timestamp': '2012-10-29T17:03:21Z', 'comment...  \n",
       "1  {'timestamp': '2012-10-29T17:05:52Z', 'comment...  \n",
       "2  {'timestamp': 16, 'comment': <Element {http://...  \n",
       "3  {'timestamp': '2012-10-29T17:20:22Z', 'comment...  \n",
       "4  {'timestamp': '2012-10-29T17:28:09Z', 'comment...  "
      ]
     },
     "execution_count": 27,
     "metadata": {},
     "output_type": "execute_result"
    }
   ],
   "source": [
    "wiki.head()"
   ]
  },
  {
   "cell_type": "code",
   "execution_count": 33,
   "metadata": {
    "collapsed": false
   },
   "outputs": [
    {
     "name": "stdout",
     "output_type": "stream",
     "text": [
      "{'timestamp': '2012-10-29T17:03:21Z', 'comment': 'Created page with \"A continent\"', 'contributor': {'username': 'Denny', 'id': 713}, 'sha1': 'hmfipnvrbxi8qvtd15gu35iqprqbdnb', 'id': 16, 'format': 'application/json', 'model': 'wikibase-item', 'text': '{\"type\":\"item\",\"id\":\"Q15\",\"labels\":{\"en\":{\"language\":\"en\",\"value\":\"Africa\"}},\"descriptions\":{\"en\":{\"language\":\"en\",\"value\":\"A continent\"}},\"aliases\":[],\"claims\":[],\"sitelinks\":[]}'}\n",
      "{\n"
     ]
    }
   ],
   "source": [
    "revision1= wiki[\"revision\"][0]\n",
    "print(revision1)\n",
    "print(revision1[0][0])"
   ]
  },
  {
   "cell_type": "code",
   "execution_count": 47,
   "metadata": {
    "collapsed": false
   },
   "outputs": [],
   "source": [
    "revision_list=wiki[\"revision\"].str.split(\",\")"
   ]
  },
  {
   "cell_type": "code",
   "execution_count": 48,
   "metadata": {
    "collapsed": false
   },
   "outputs": [
    {
     "data": {
      "text/plain": [
       "0    [{'timestamp': '2012-10-29T17:03:21Z',  'comme...\n",
       "1    [{'timestamp': '2012-10-29T17:05:52Z',  'comme...\n",
       "2    [{'timestamp': 16,  'comment': <Element {http:...\n",
       "3    [{'timestamp': '2012-10-29T17:20:22Z',  'comme...\n",
       "4    [{'timestamp': '2012-10-29T17:28:09Z',  'comme...\n",
       "Name: revision, dtype: object"
      ]
     },
     "execution_count": 48,
     "metadata": {},
     "output_type": "execute_result"
    }
   ],
   "source": [
    "revision_list.head()"
   ]
  },
  {
   "cell_type": "code",
   "execution_count": 49,
   "metadata": {
    "collapsed": false
   },
   "outputs": [
    {
     "name": "stdout",
     "output_type": "stream",
     "text": [
      "[\"{'timestamp': '2012-10-29T17:03:21Z'\", ' \\'comment\\': \\'Created page with \"A continent\"\\'', \" 'contributor': {'username': 'Denny'\", \" 'id': 713}\", \" 'sha1': 'hmfipnvrbxi8qvtd15gu35iqprqbdnb'\", \" 'id': 16\", \" 'format': 'application/json'\", \" 'model': 'wikibase-item'\", ' \\'text\\': \\'{\"type\":\"item\"', '\"id\":\"Q15\"', '\"labels\":{\"en\":{\"language\":\"en\"', '\"value\":\"Africa\"}}', '\"descriptions\":{\"en\":{\"language\":\"en\"', '\"value\":\"A continent\"}}', '\"aliases\":[]', '\"claims\":[]', '\"sitelinks\":[]}\\'}']\n"
     ]
    }
   ],
   "source": [
    "print(revision_list[0])"
   ]
  },
  {
   "cell_type": "code",
   "execution_count": 73,
   "metadata": {
    "collapsed": false
   },
   "outputs": [
    {
     "name": "stdout",
     "output_type": "stream",
     "text": [
      "{'timestamp': '2012-10-29T17:03:21Z'\n",
      " 'comment': 'Created page with \"A continent\"'\n",
      " 'id': 16\n"
     ]
    }
   ],
   "source": [
    "print(revision_list[0][0])\n",
    "print(revision_list[0][1])\n",
    "print(revision_list[0][5])"
   ]
  },
  {
   "cell_type": "code",
   "execution_count": 53,
   "metadata": {
    "collapsed": true
   },
   "outputs": [],
   "source": [
    "timestamp_list = []\n",
    "for item in revision_list:\n",
    "    timestamp_list.append(item[0])"
   ]
  },
  {
   "cell_type": "code",
   "execution_count": 54,
   "metadata": {
    "collapsed": false
   },
   "outputs": [
    {
     "name": "stdout",
     "output_type": "stream",
     "text": [
      "{'timestamp': '2012-10-29T17:03:21Z'\n"
     ]
    }
   ],
   "source": [
    "print(timestamp_list[0])"
   ]
  },
  {
   "cell_type": "code",
   "execution_count": 58,
   "metadata": {
    "collapsed": false
   },
   "outputs": [
    {
     "name": "stdout",
     "output_type": "stream",
     "text": [
      "250300\n"
     ]
    }
   ],
   "source": [
    "print(len(timestamp_list))"
   ]
  },
  {
   "cell_type": "code",
   "execution_count": 64,
   "metadata": {
    "collapsed": false
   },
   "outputs": [],
   "source": [
    "wiki['timestamp']= timestamp_list"
   ]
  },
  {
   "cell_type": "code",
   "execution_count": 65,
   "metadata": {
    "collapsed": false
   },
   "outputs": [
    {
     "data": {
      "text/html": [
       "<div>\n",
       "<table border=\"1\" class=\"dataframe\">\n",
       "  <thead>\n",
       "    <tr style=\"text-align: right;\">\n",
       "      <th></th>\n",
       "      <th>Unnamed: 0</th>\n",
       "      <th>title</th>\n",
       "      <th>ns</th>\n",
       "      <th>id</th>\n",
       "      <th>revision</th>\n",
       "      <th>timestamp</th>\n",
       "    </tr>\n",
       "  </thead>\n",
       "  <tbody>\n",
       "    <tr>\n",
       "      <th>0</th>\n",
       "      <td>1</td>\n",
       "      <td>Q15</td>\n",
       "      <td>0</td>\n",
       "      <td>111</td>\n",
       "      <td>{'timestamp': '2012-10-29T17:03:21Z', 'comment...</td>\n",
       "      <td>{'timestamp': '2012-10-29T17:03:21Z'</td>\n",
       "    </tr>\n",
       "    <tr>\n",
       "      <th>1</th>\n",
       "      <td>2</td>\n",
       "      <td>Q16</td>\n",
       "      <td>0</td>\n",
       "      <td>4162476</td>\n",
       "      <td>{'timestamp': '2012-10-29T17:05:52Z', 'comment...</td>\n",
       "      <td>{'timestamp': '2012-10-29T17:05:52Z'</td>\n",
       "    </tr>\n",
       "    <tr>\n",
       "      <th>2</th>\n",
       "      <td>3</td>\n",
       "      <td>Q15</td>\n",
       "      <td>0</td>\n",
       "      <td>111</td>\n",
       "      <td>{'timestamp': 16, 'comment': &lt;Element {http://...</td>\n",
       "      <td>{'timestamp': 16</td>\n",
       "    </tr>\n",
       "    <tr>\n",
       "      <th>3</th>\n",
       "      <td>4</td>\n",
       "      <td>Q17</td>\n",
       "      <td>0</td>\n",
       "      <td>114</td>\n",
       "      <td>{'timestamp': '2012-10-29T17:20:22Z', 'comment...</td>\n",
       "      <td>{'timestamp': '2012-10-29T17:20:22Z'</td>\n",
       "    </tr>\n",
       "    <tr>\n",
       "      <th>4</th>\n",
       "      <td>5</td>\n",
       "      <td>Q18</td>\n",
       "      <td>0</td>\n",
       "      <td>115</td>\n",
       "      <td>{'timestamp': '2012-10-29T17:28:09Z', 'comment...</td>\n",
       "      <td>{'timestamp': '2012-10-29T17:28:09Z'</td>\n",
       "    </tr>\n",
       "  </tbody>\n",
       "</table>\n",
       "</div>"
      ],
      "text/plain": [
       "   Unnamed: 0 title  ns       id  \\\n",
       "0           1   Q15   0      111   \n",
       "1           2   Q16   0  4162476   \n",
       "2           3   Q15   0      111   \n",
       "3           4   Q17   0      114   \n",
       "4           5   Q18   0      115   \n",
       "\n",
       "                                            revision  \\\n",
       "0  {'timestamp': '2012-10-29T17:03:21Z', 'comment...   \n",
       "1  {'timestamp': '2012-10-29T17:05:52Z', 'comment...   \n",
       "2  {'timestamp': 16, 'comment': <Element {http://...   \n",
       "3  {'timestamp': '2012-10-29T17:20:22Z', 'comment...   \n",
       "4  {'timestamp': '2012-10-29T17:28:09Z', 'comment...   \n",
       "\n",
       "                              timestamp  \n",
       "0  {'timestamp': '2012-10-29T17:03:21Z'  \n",
       "1  {'timestamp': '2012-10-29T17:05:52Z'  \n",
       "2                      {'timestamp': 16  \n",
       "3  {'timestamp': '2012-10-29T17:20:22Z'  \n",
       "4  {'timestamp': '2012-10-29T17:28:09Z'  "
      ]
     },
     "execution_count": 65,
     "metadata": {},
     "output_type": "execute_result"
    }
   ],
   "source": [
    "wiki.head()"
   ]
  },
  {
   "cell_type": "code",
   "execution_count": 66,
   "metadata": {
    "collapsed": true
   },
   "outputs": [],
   "source": [
    "comment_list = []\n",
    "for item in revision_list:\n",
    "    comment_list.append(item[1])"
   ]
  },
  {
   "cell_type": "code",
   "execution_count": 67,
   "metadata": {
    "collapsed": true
   },
   "outputs": [],
   "source": [
    "wiki['comment']= comment_list"
   ]
  },
  {
   "cell_type": "code",
   "execution_count": 68,
   "metadata": {
    "collapsed": false
   },
   "outputs": [
    {
     "data": {
      "text/html": [
       "<div>\n",
       "<table border=\"1\" class=\"dataframe\">\n",
       "  <thead>\n",
       "    <tr style=\"text-align: right;\">\n",
       "      <th></th>\n",
       "      <th>Unnamed: 0</th>\n",
       "      <th>title</th>\n",
       "      <th>ns</th>\n",
       "      <th>id</th>\n",
       "      <th>revision</th>\n",
       "      <th>timestamp</th>\n",
       "      <th>comment</th>\n",
       "    </tr>\n",
       "  </thead>\n",
       "  <tbody>\n",
       "    <tr>\n",
       "      <th>0</th>\n",
       "      <td>1</td>\n",
       "      <td>Q15</td>\n",
       "      <td>0</td>\n",
       "      <td>111</td>\n",
       "      <td>{'timestamp': '2012-10-29T17:03:21Z', 'comment...</td>\n",
       "      <td>{'timestamp': '2012-10-29T17:03:21Z'</td>\n",
       "      <td>'comment': 'Created page with \"A continent\"'</td>\n",
       "    </tr>\n",
       "    <tr>\n",
       "      <th>1</th>\n",
       "      <td>2</td>\n",
       "      <td>Q16</td>\n",
       "      <td>0</td>\n",
       "      <td>4162476</td>\n",
       "      <td>{'timestamp': '2012-10-29T17:05:52Z', 'comment...</td>\n",
       "      <td>{'timestamp': '2012-10-29T17:05:52Z'</td>\n",
       "      <td>'comment': 'Created page with \"country\"'</td>\n",
       "    </tr>\n",
       "    <tr>\n",
       "      <th>2</th>\n",
       "      <td>3</td>\n",
       "      <td>Q15</td>\n",
       "      <td>0</td>\n",
       "      <td>111</td>\n",
       "      <td>{'timestamp': 16, 'comment': &lt;Element {http://...</td>\n",
       "      <td>{'timestamp': 16</td>\n",
       "      <td>'comment': &lt;Element {http://www.mediawiki.org...</td>\n",
       "    </tr>\n",
       "    <tr>\n",
       "      <th>3</th>\n",
       "      <td>4</td>\n",
       "      <td>Q17</td>\n",
       "      <td>0</td>\n",
       "      <td>114</td>\n",
       "      <td>{'timestamp': '2012-10-29T17:20:22Z', 'comment...</td>\n",
       "      <td>{'timestamp': '2012-10-29T17:20:22Z'</td>\n",
       "      <td>'comment': 'Created page with \"country\"'</td>\n",
       "    </tr>\n",
       "    <tr>\n",
       "      <th>4</th>\n",
       "      <td>5</td>\n",
       "      <td>Q18</td>\n",
       "      <td>0</td>\n",
       "      <td>115</td>\n",
       "      <td>{'timestamp': '2012-10-29T17:28:09Z', 'comment...</td>\n",
       "      <td>{'timestamp': '2012-10-29T17:28:09Z'</td>\n",
       "      <td>'comment': 'Created page with \"Ein Kontinent\"'</td>\n",
       "    </tr>\n",
       "  </tbody>\n",
       "</table>\n",
       "</div>"
      ],
      "text/plain": [
       "   Unnamed: 0 title  ns       id  \\\n",
       "0           1   Q15   0      111   \n",
       "1           2   Q16   0  4162476   \n",
       "2           3   Q15   0      111   \n",
       "3           4   Q17   0      114   \n",
       "4           5   Q18   0      115   \n",
       "\n",
       "                                            revision  \\\n",
       "0  {'timestamp': '2012-10-29T17:03:21Z', 'comment...   \n",
       "1  {'timestamp': '2012-10-29T17:05:52Z', 'comment...   \n",
       "2  {'timestamp': 16, 'comment': <Element {http://...   \n",
       "3  {'timestamp': '2012-10-29T17:20:22Z', 'comment...   \n",
       "4  {'timestamp': '2012-10-29T17:28:09Z', 'comment...   \n",
       "\n",
       "                              timestamp  \\\n",
       "0  {'timestamp': '2012-10-29T17:03:21Z'   \n",
       "1  {'timestamp': '2012-10-29T17:05:52Z'   \n",
       "2                      {'timestamp': 16   \n",
       "3  {'timestamp': '2012-10-29T17:20:22Z'   \n",
       "4  {'timestamp': '2012-10-29T17:28:09Z'   \n",
       "\n",
       "                                             comment  \n",
       "0       'comment': 'Created page with \"A continent\"'  \n",
       "1           'comment': 'Created page with \"country\"'  \n",
       "2   'comment': <Element {http://www.mediawiki.org...  \n",
       "3           'comment': 'Created page with \"country\"'  \n",
       "4     'comment': 'Created page with \"Ein Kontinent\"'  "
      ]
     },
     "execution_count": 68,
     "metadata": {},
     "output_type": "execute_result"
    }
   ],
   "source": [
    "wiki.head()"
   ]
  },
  {
   "cell_type": "code",
   "execution_count": 85,
   "metadata": {
    "collapsed": true
   },
   "outputs": [],
   "source": [
    "revision_id_list = []\n",
    "for item in revision_list:\n",
    "    revision_id_list.append(item[5])"
   ]
  },
  {
   "cell_type": "code",
   "execution_count": 86,
   "metadata": {
    "collapsed": false
   },
   "outputs": [],
   "source": [
    "wiki['revision_id']= revision_id_list"
   ]
  },
  {
   "cell_type": "code",
   "execution_count": 87,
   "metadata": {
    "collapsed": false
   },
   "outputs": [
    {
     "data": {
      "text/html": [
       "<div>\n",
       "<table border=\"1\" class=\"dataframe\">\n",
       "  <thead>\n",
       "    <tr style=\"text-align: right;\">\n",
       "      <th></th>\n",
       "      <th>Unnamed: 0</th>\n",
       "      <th>title</th>\n",
       "      <th>ns</th>\n",
       "      <th>id</th>\n",
       "      <th>revision</th>\n",
       "      <th>timestamp</th>\n",
       "      <th>comment</th>\n",
       "      <th>revision_id</th>\n",
       "    </tr>\n",
       "  </thead>\n",
       "  <tbody>\n",
       "    <tr>\n",
       "      <th>0</th>\n",
       "      <td>1</td>\n",
       "      <td>Q15</td>\n",
       "      <td>0</td>\n",
       "      <td>111</td>\n",
       "      <td>{'timestamp': '2012-10-29T17:03:21Z', 'comment...</td>\n",
       "      <td>{'timestamp': '2012-10-29T17:03:21Z'</td>\n",
       "      <td>'comment': 'Created page with \"A continent\"'</td>\n",
       "      <td>'id': 16</td>\n",
       "    </tr>\n",
       "    <tr>\n",
       "      <th>1</th>\n",
       "      <td>2</td>\n",
       "      <td>Q16</td>\n",
       "      <td>0</td>\n",
       "      <td>4162476</td>\n",
       "      <td>{'timestamp': '2012-10-29T17:05:52Z', 'comment...</td>\n",
       "      <td>{'timestamp': '2012-10-29T17:05:52Z'</td>\n",
       "      <td>'comment': 'Created page with \"country\"'</td>\n",
       "      <td>'id': 19</td>\n",
       "    </tr>\n",
       "    <tr>\n",
       "      <th>2</th>\n",
       "      <td>3</td>\n",
       "      <td>Q15</td>\n",
       "      <td>0</td>\n",
       "      <td>111</td>\n",
       "      <td>{'timestamp': 16, 'comment': &lt;Element {http://...</td>\n",
       "      <td>{'timestamp': 16</td>\n",
       "      <td>'comment': &lt;Element {http://www.mediawiki.org...</td>\n",
       "      <td>\"labels\":{\"en\":{\"language\":\"en\"</td>\n",
       "    </tr>\n",
       "    <tr>\n",
       "      <th>3</th>\n",
       "      <td>4</td>\n",
       "      <td>Q17</td>\n",
       "      <td>0</td>\n",
       "      <td>114</td>\n",
       "      <td>{'timestamp': '2012-10-29T17:20:22Z', 'comment...</td>\n",
       "      <td>{'timestamp': '2012-10-29T17:20:22Z'</td>\n",
       "      <td>'comment': 'Created page with \"country\"'</td>\n",
       "      <td>'id': 22</td>\n",
       "    </tr>\n",
       "    <tr>\n",
       "      <th>4</th>\n",
       "      <td>5</td>\n",
       "      <td>Q18</td>\n",
       "      <td>0</td>\n",
       "      <td>115</td>\n",
       "      <td>{'timestamp': '2012-10-29T17:28:09Z', 'comment...</td>\n",
       "      <td>{'timestamp': '2012-10-29T17:28:09Z'</td>\n",
       "      <td>'comment': 'Created page with \"Ein Kontinent\"'</td>\n",
       "      <td>'id': 24</td>\n",
       "    </tr>\n",
       "  </tbody>\n",
       "</table>\n",
       "</div>"
      ],
      "text/plain": [
       "   Unnamed: 0 title  ns       id  \\\n",
       "0           1   Q15   0      111   \n",
       "1           2   Q16   0  4162476   \n",
       "2           3   Q15   0      111   \n",
       "3           4   Q17   0      114   \n",
       "4           5   Q18   0      115   \n",
       "\n",
       "                                            revision  \\\n",
       "0  {'timestamp': '2012-10-29T17:03:21Z', 'comment...   \n",
       "1  {'timestamp': '2012-10-29T17:05:52Z', 'comment...   \n",
       "2  {'timestamp': 16, 'comment': <Element {http://...   \n",
       "3  {'timestamp': '2012-10-29T17:20:22Z', 'comment...   \n",
       "4  {'timestamp': '2012-10-29T17:28:09Z', 'comment...   \n",
       "\n",
       "                              timestamp  \\\n",
       "0  {'timestamp': '2012-10-29T17:03:21Z'   \n",
       "1  {'timestamp': '2012-10-29T17:05:52Z'   \n",
       "2                      {'timestamp': 16   \n",
       "3  {'timestamp': '2012-10-29T17:20:22Z'   \n",
       "4  {'timestamp': '2012-10-29T17:28:09Z'   \n",
       "\n",
       "                                             comment  \\\n",
       "0       'comment': 'Created page with \"A continent\"'   \n",
       "1           'comment': 'Created page with \"country\"'   \n",
       "2   'comment': <Element {http://www.mediawiki.org...   \n",
       "3           'comment': 'Created page with \"country\"'   \n",
       "4     'comment': 'Created page with \"Ein Kontinent\"'   \n",
       "\n",
       "                       revision_id  \n",
       "0                         'id': 16  \n",
       "1                         'id': 19  \n",
       "2  \"labels\":{\"en\":{\"language\":\"en\"  \n",
       "3                         'id': 22  \n",
       "4                         'id': 24  "
      ]
     },
     "execution_count": 87,
     "metadata": {},
     "output_type": "execute_result"
    }
   ],
   "source": [
    "wiki.head()"
   ]
  },
  {
   "cell_type": "code",
   "execution_count": null,
   "metadata": {
    "collapsed": true
   },
   "outputs": [],
   "source": []
  },
  {
   "cell_type": "code",
   "execution_count": 88,
   "metadata": {
    "collapsed": true
   },
   "outputs": [],
   "source": [
    "import numpy as np \n",
    "import pandas as pd \n",
    "from pandas import DataFrame\n"
   ]
  },
  {
   "cell_type": "code",
   "execution_count": 89,
   "metadata": {
    "collapsed": true
   },
   "outputs": [],
   "source": [
    "first = pd.read_csv('first.csv')"
   ]
  },
  {
   "cell_type": "code",
   "execution_count": 93,
   "metadata": {
    "collapsed": false
   },
   "outputs": [
    {
     "name": "stderr",
     "output_type": "stream",
     "text": [
      "/Users/admin/anaconda/lib/python3.5/site-packages/IPython/core/interactiveshell.py:2717: DtypeWarning: Columns (7,8) have mixed types. Specify dtype option on import or set low_memory=False.\n",
      "  interactivity=interactivity, compiler=compiler, result=result)\n"
     ]
    }
   ],
   "source": [
    "meta = pd.read_csv('wdvc16_meta.csv')"
   ]
  },
  {
   "cell_type": "code",
   "execution_count": 91,
   "metadata": {
    "collapsed": false
   },
   "outputs": [],
   "source": [
    "truth = pd.read_csv('wdvc16_truth.csv')"
   ]
  },
  {
   "cell_type": "code",
   "execution_count": 94,
   "metadata": {
    "collapsed": false
   },
   "outputs": [],
   "source": [
    "first.rename(columns = {'Unnamed: 0':'REVISION_ID'}, inplace = True)"
   ]
  },
  {
   "cell_type": "code",
   "execution_count": 95,
   "metadata": {
    "collapsed": true
   },
   "outputs": [],
   "source": [
    "mid = pd.merge(left = first, right = meta, left_on = 'REVISION_ID', right_on = 'REVISION_ID')"
   ]
  },
  {
   "cell_type": "code",
   "execution_count": 96,
   "metadata": {
    "collapsed": true
   },
   "outputs": [],
   "source": [
    "final = pd.merge(left = mid, right = truth, left_on= 'REVISION_ID', right_on = 'REVISION_ID')"
   ]
  },
  {
   "cell_type": "code",
   "execution_count": 97,
   "metadata": {
    "collapsed": false
   },
   "outputs": [
    {
     "data": {
      "text/html": [
       "<div>\n",
       "<table border=\"1\" class=\"dataframe\">\n",
       "  <thead>\n",
       "    <tr style=\"text-align: right;\">\n",
       "      <th></th>\n",
       "      <th>REVISION_ID</th>\n",
       "      <th>title</th>\n",
       "      <th>ns</th>\n",
       "      <th>id</th>\n",
       "      <th>revision</th>\n",
       "      <th>REVISION_SESSION_ID</th>\n",
       "      <th>USER_COUNTRY_CODE</th>\n",
       "      <th>USER_CONTINENT_CODE</th>\n",
       "      <th>USER_TIME_ZONE</th>\n",
       "      <th>USER_REGION_CODE</th>\n",
       "      <th>USER_CITY_NAME</th>\n",
       "      <th>USER_COUNTY_NAME</th>\n",
       "      <th>REVISION_TAGS</th>\n",
       "      <th>ROLLBACK_REVERTED</th>\n",
       "      <th>UNDO_RESTORE_REVERTED</th>\n",
       "    </tr>\n",
       "  </thead>\n",
       "  <tbody>\n",
       "    <tr>\n",
       "      <th>0</th>\n",
       "      <td>16</td>\n",
       "      <td>Q15</td>\n",
       "      <td>0</td>\n",
       "      <td>111</td>\n",
       "      <td>{'timestamp': 38, 'comment': &lt;Element {http://...</td>\n",
       "      <td>16</td>\n",
       "      <td>NaN</td>\n",
       "      <td>NaN</td>\n",
       "      <td>NaN</td>\n",
       "      <td>NaN</td>\n",
       "      <td>NaN</td>\n",
       "      <td>NaN</td>\n",
       "      <td>NaN</td>\n",
       "      <td>F</td>\n",
       "      <td>F</td>\n",
       "    </tr>\n",
       "    <tr>\n",
       "      <th>1</th>\n",
       "      <td>19</td>\n",
       "      <td>Q26</td>\n",
       "      <td>0</td>\n",
       "      <td>122</td>\n",
       "      <td>{'timestamp': '2012-10-29T17:44:01Z', 'comment...</td>\n",
       "      <td>19</td>\n",
       "      <td>NaN</td>\n",
       "      <td>NaN</td>\n",
       "      <td>NaN</td>\n",
       "      <td>NaN</td>\n",
       "      <td>NaN</td>\n",
       "      <td>NaN</td>\n",
       "      <td>NaN</td>\n",
       "      <td>F</td>\n",
       "      <td>F</td>\n",
       "    </tr>\n",
       "    <tr>\n",
       "      <th>2</th>\n",
       "      <td>20</td>\n",
       "      <td>Q17</td>\n",
       "      <td>0</td>\n",
       "      <td>114</td>\n",
       "      <td>{'timestamp': 30, 'comment': &lt;Element {http://...</td>\n",
       "      <td>16</td>\n",
       "      <td>NaN</td>\n",
       "      <td>NaN</td>\n",
       "      <td>NaN</td>\n",
       "      <td>NaN</td>\n",
       "      <td>NaN</td>\n",
       "      <td>NaN</td>\n",
       "      <td>NaN</td>\n",
       "      <td>F</td>\n",
       "      <td>F</td>\n",
       "    </tr>\n",
       "    <tr>\n",
       "      <th>3</th>\n",
       "      <td>21</td>\n",
       "      <td>Q27</td>\n",
       "      <td>0</td>\n",
       "      <td>123</td>\n",
       "      <td>{'timestamp': '2012-10-29T17:49:04Z', 'comment...</td>\n",
       "      <td>16</td>\n",
       "      <td>NaN</td>\n",
       "      <td>NaN</td>\n",
       "      <td>NaN</td>\n",
       "      <td>NaN</td>\n",
       "      <td>NaN</td>\n",
       "      <td>NaN</td>\n",
       "      <td>NaN</td>\n",
       "      <td>F</td>\n",
       "      <td>F</td>\n",
       "    </tr>\n",
       "    <tr>\n",
       "      <th>4</th>\n",
       "      <td>22</td>\n",
       "      <td>Q20</td>\n",
       "      <td>0</td>\n",
       "      <td>118</td>\n",
       "      <td>{'timestamp': 49, 'comment': &lt;Element {http://...</td>\n",
       "      <td>22</td>\n",
       "      <td>NaN</td>\n",
       "      <td>NaN</td>\n",
       "      <td>NaN</td>\n",
       "      <td>NaN</td>\n",
       "      <td>NaN</td>\n",
       "      <td>NaN</td>\n",
       "      <td>NaN</td>\n",
       "      <td>F</td>\n",
       "      <td>F</td>\n",
       "    </tr>\n",
       "  </tbody>\n",
       "</table>\n",
       "</div>"
      ],
      "text/plain": [
       "   REVISION_ID title  ns   id  \\\n",
       "0           16   Q15   0  111   \n",
       "1           19   Q26   0  122   \n",
       "2           20   Q17   0  114   \n",
       "3           21   Q27   0  123   \n",
       "4           22   Q20   0  118   \n",
       "\n",
       "                                            revision  REVISION_SESSION_ID  \\\n",
       "0  {'timestamp': 38, 'comment': <Element {http://...                   16   \n",
       "1  {'timestamp': '2012-10-29T17:44:01Z', 'comment...                   19   \n",
       "2  {'timestamp': 30, 'comment': <Element {http://...                   16   \n",
       "3  {'timestamp': '2012-10-29T17:49:04Z', 'comment...                   16   \n",
       "4  {'timestamp': 49, 'comment': <Element {http://...                   22   \n",
       "\n",
       "  USER_COUNTRY_CODE USER_CONTINENT_CODE USER_TIME_ZONE USER_REGION_CODE  \\\n",
       "0               NaN                 NaN            NaN              NaN   \n",
       "1               NaN                 NaN            NaN              NaN   \n",
       "2               NaN                 NaN            NaN              NaN   \n",
       "3               NaN                 NaN            NaN              NaN   \n",
       "4               NaN                 NaN            NaN              NaN   \n",
       "\n",
       "  USER_CITY_NAME USER_COUNTY_NAME REVISION_TAGS ROLLBACK_REVERTED  \\\n",
       "0            NaN              NaN           NaN                 F   \n",
       "1            NaN              NaN           NaN                 F   \n",
       "2            NaN              NaN           NaN                 F   \n",
       "3            NaN              NaN           NaN                 F   \n",
       "4            NaN              NaN           NaN                 F   \n",
       "\n",
       "  UNDO_RESTORE_REVERTED  \n",
       "0                     F  \n",
       "1                     F  \n",
       "2                     F  \n",
       "3                     F  \n",
       "4                     F  "
      ]
     },
     "execution_count": 97,
     "metadata": {},
     "output_type": "execute_result"
    }
   ],
   "source": [
    "final.head()"
   ]
  },
  {
   "cell_type": "code",
   "execution_count": 99,
   "metadata": {
    "collapsed": false
   },
   "outputs": [],
   "source": [
    "revision_list=final[\"revision\"].str.split(\",\")"
   ]
  },
  {
   "cell_type": "code",
   "execution_count": 100,
   "metadata": {
    "collapsed": true
   },
   "outputs": [],
   "source": [
    "timestamp_list_final = []\n",
    "for item in revision_list:\n",
    "    timestamp_list_final.append(item[0])"
   ]
  },
  {
   "cell_type": "code",
   "execution_count": 102,
   "metadata": {
    "collapsed": true
   },
   "outputs": [],
   "source": [
    "final['timestamp']= timestamp_list_final"
   ]
  },
  {
   "cell_type": "code",
   "execution_count": 103,
   "metadata": {
    "collapsed": false
   },
   "outputs": [
    {
     "data": {
      "text/html": [
       "<div>\n",
       "<table border=\"1\" class=\"dataframe\">\n",
       "  <thead>\n",
       "    <tr style=\"text-align: right;\">\n",
       "      <th></th>\n",
       "      <th>REVISION_ID</th>\n",
       "      <th>title</th>\n",
       "      <th>ns</th>\n",
       "      <th>id</th>\n",
       "      <th>revision</th>\n",
       "      <th>REVISION_SESSION_ID</th>\n",
       "      <th>USER_COUNTRY_CODE</th>\n",
       "      <th>USER_CONTINENT_CODE</th>\n",
       "      <th>USER_TIME_ZONE</th>\n",
       "      <th>USER_REGION_CODE</th>\n",
       "      <th>USER_CITY_NAME</th>\n",
       "      <th>USER_COUNTY_NAME</th>\n",
       "      <th>REVISION_TAGS</th>\n",
       "      <th>ROLLBACK_REVERTED</th>\n",
       "      <th>UNDO_RESTORE_REVERTED</th>\n",
       "      <th>timestamp</th>\n",
       "    </tr>\n",
       "  </thead>\n",
       "  <tbody>\n",
       "    <tr>\n",
       "      <th>0</th>\n",
       "      <td>16</td>\n",
       "      <td>Q15</td>\n",
       "      <td>0</td>\n",
       "      <td>111</td>\n",
       "      <td>{'timestamp': 38, 'comment': &lt;Element {http://...</td>\n",
       "      <td>16</td>\n",
       "      <td>NaN</td>\n",
       "      <td>NaN</td>\n",
       "      <td>NaN</td>\n",
       "      <td>NaN</td>\n",
       "      <td>NaN</td>\n",
       "      <td>NaN</td>\n",
       "      <td>NaN</td>\n",
       "      <td>F</td>\n",
       "      <td>F</td>\n",
       "      <td>{'timestamp': 38</td>\n",
       "    </tr>\n",
       "    <tr>\n",
       "      <th>1</th>\n",
       "      <td>19</td>\n",
       "      <td>Q26</td>\n",
       "      <td>0</td>\n",
       "      <td>122</td>\n",
       "      <td>{'timestamp': '2012-10-29T17:44:01Z', 'comment...</td>\n",
       "      <td>19</td>\n",
       "      <td>NaN</td>\n",
       "      <td>NaN</td>\n",
       "      <td>NaN</td>\n",
       "      <td>NaN</td>\n",
       "      <td>NaN</td>\n",
       "      <td>NaN</td>\n",
       "      <td>NaN</td>\n",
       "      <td>F</td>\n",
       "      <td>F</td>\n",
       "      <td>{'timestamp': '2012-10-29T17:44:01Z'</td>\n",
       "    </tr>\n",
       "    <tr>\n",
       "      <th>2</th>\n",
       "      <td>20</td>\n",
       "      <td>Q17</td>\n",
       "      <td>0</td>\n",
       "      <td>114</td>\n",
       "      <td>{'timestamp': 30, 'comment': &lt;Element {http://...</td>\n",
       "      <td>16</td>\n",
       "      <td>NaN</td>\n",
       "      <td>NaN</td>\n",
       "      <td>NaN</td>\n",
       "      <td>NaN</td>\n",
       "      <td>NaN</td>\n",
       "      <td>NaN</td>\n",
       "      <td>NaN</td>\n",
       "      <td>F</td>\n",
       "      <td>F</td>\n",
       "      <td>{'timestamp': 30</td>\n",
       "    </tr>\n",
       "    <tr>\n",
       "      <th>3</th>\n",
       "      <td>21</td>\n",
       "      <td>Q27</td>\n",
       "      <td>0</td>\n",
       "      <td>123</td>\n",
       "      <td>{'timestamp': '2012-10-29T17:49:04Z', 'comment...</td>\n",
       "      <td>16</td>\n",
       "      <td>NaN</td>\n",
       "      <td>NaN</td>\n",
       "      <td>NaN</td>\n",
       "      <td>NaN</td>\n",
       "      <td>NaN</td>\n",
       "      <td>NaN</td>\n",
       "      <td>NaN</td>\n",
       "      <td>F</td>\n",
       "      <td>F</td>\n",
       "      <td>{'timestamp': '2012-10-29T17:49:04Z'</td>\n",
       "    </tr>\n",
       "    <tr>\n",
       "      <th>4</th>\n",
       "      <td>22</td>\n",
       "      <td>Q20</td>\n",
       "      <td>0</td>\n",
       "      <td>118</td>\n",
       "      <td>{'timestamp': 49, 'comment': &lt;Element {http://...</td>\n",
       "      <td>22</td>\n",
       "      <td>NaN</td>\n",
       "      <td>NaN</td>\n",
       "      <td>NaN</td>\n",
       "      <td>NaN</td>\n",
       "      <td>NaN</td>\n",
       "      <td>NaN</td>\n",
       "      <td>NaN</td>\n",
       "      <td>F</td>\n",
       "      <td>F</td>\n",
       "      <td>{'timestamp': 49</td>\n",
       "    </tr>\n",
       "  </tbody>\n",
       "</table>\n",
       "</div>"
      ],
      "text/plain": [
       "   REVISION_ID title  ns   id  \\\n",
       "0           16   Q15   0  111   \n",
       "1           19   Q26   0  122   \n",
       "2           20   Q17   0  114   \n",
       "3           21   Q27   0  123   \n",
       "4           22   Q20   0  118   \n",
       "\n",
       "                                            revision  REVISION_SESSION_ID  \\\n",
       "0  {'timestamp': 38, 'comment': <Element {http://...                   16   \n",
       "1  {'timestamp': '2012-10-29T17:44:01Z', 'comment...                   19   \n",
       "2  {'timestamp': 30, 'comment': <Element {http://...                   16   \n",
       "3  {'timestamp': '2012-10-29T17:49:04Z', 'comment...                   16   \n",
       "4  {'timestamp': 49, 'comment': <Element {http://...                   22   \n",
       "\n",
       "  USER_COUNTRY_CODE USER_CONTINENT_CODE USER_TIME_ZONE USER_REGION_CODE  \\\n",
       "0               NaN                 NaN            NaN              NaN   \n",
       "1               NaN                 NaN            NaN              NaN   \n",
       "2               NaN                 NaN            NaN              NaN   \n",
       "3               NaN                 NaN            NaN              NaN   \n",
       "4               NaN                 NaN            NaN              NaN   \n",
       "\n",
       "  USER_CITY_NAME USER_COUNTY_NAME REVISION_TAGS ROLLBACK_REVERTED  \\\n",
       "0            NaN              NaN           NaN                 F   \n",
       "1            NaN              NaN           NaN                 F   \n",
       "2            NaN              NaN           NaN                 F   \n",
       "3            NaN              NaN           NaN                 F   \n",
       "4            NaN              NaN           NaN                 F   \n",
       "\n",
       "  UNDO_RESTORE_REVERTED                             timestamp  \n",
       "0                     F                      {'timestamp': 38  \n",
       "1                     F  {'timestamp': '2012-10-29T17:44:01Z'  \n",
       "2                     F                      {'timestamp': 30  \n",
       "3                     F  {'timestamp': '2012-10-29T17:49:04Z'  \n",
       "4                     F                      {'timestamp': 49  "
      ]
     },
     "execution_count": 103,
     "metadata": {},
     "output_type": "execute_result"
    }
   ],
   "source": [
    "final.head()"
   ]
  },
  {
   "cell_type": "code",
   "execution_count": 105,
   "metadata": {
    "collapsed": false
   },
   "outputs": [],
   "source": [
    "comment_list_final = []\n",
    "for item in revision_list:\n",
    "    comment_list_final.append(item[1])"
   ]
  },
  {
   "cell_type": "code",
   "execution_count": 106,
   "metadata": {
    "collapsed": true
   },
   "outputs": [],
   "source": [
    "final['comment']= comment_list_final"
   ]
  },
  {
   "cell_type": "code",
   "execution_count": 107,
   "metadata": {
    "collapsed": false
   },
   "outputs": [
    {
     "data": {
      "text/html": [
       "<div>\n",
       "<table border=\"1\" class=\"dataframe\">\n",
       "  <thead>\n",
       "    <tr style=\"text-align: right;\">\n",
       "      <th></th>\n",
       "      <th>REVISION_ID</th>\n",
       "      <th>title</th>\n",
       "      <th>ns</th>\n",
       "      <th>id</th>\n",
       "      <th>revision</th>\n",
       "      <th>REVISION_SESSION_ID</th>\n",
       "      <th>USER_COUNTRY_CODE</th>\n",
       "      <th>USER_CONTINENT_CODE</th>\n",
       "      <th>USER_TIME_ZONE</th>\n",
       "      <th>USER_REGION_CODE</th>\n",
       "      <th>USER_CITY_NAME</th>\n",
       "      <th>USER_COUNTY_NAME</th>\n",
       "      <th>REVISION_TAGS</th>\n",
       "      <th>ROLLBACK_REVERTED</th>\n",
       "      <th>UNDO_RESTORE_REVERTED</th>\n",
       "      <th>timestamp</th>\n",
       "      <th>comment</th>\n",
       "    </tr>\n",
       "  </thead>\n",
       "  <tbody>\n",
       "    <tr>\n",
       "      <th>0</th>\n",
       "      <td>16</td>\n",
       "      <td>Q15</td>\n",
       "      <td>0</td>\n",
       "      <td>111</td>\n",
       "      <td>{'timestamp': 38, 'comment': &lt;Element {http://...</td>\n",
       "      <td>16</td>\n",
       "      <td>NaN</td>\n",
       "      <td>NaN</td>\n",
       "      <td>NaN</td>\n",
       "      <td>NaN</td>\n",
       "      <td>NaN</td>\n",
       "      <td>NaN</td>\n",
       "      <td>NaN</td>\n",
       "      <td>F</td>\n",
       "      <td>F</td>\n",
       "      <td>{'timestamp': 38</td>\n",
       "      <td>'comment': &lt;Element {http://www.mediawiki.org...</td>\n",
       "    </tr>\n",
       "    <tr>\n",
       "      <th>1</th>\n",
       "      <td>19</td>\n",
       "      <td>Q26</td>\n",
       "      <td>0</td>\n",
       "      <td>122</td>\n",
       "      <td>{'timestamp': '2012-10-29T17:44:01Z', 'comment...</td>\n",
       "      <td>19</td>\n",
       "      <td>NaN</td>\n",
       "      <td>NaN</td>\n",
       "      <td>NaN</td>\n",
       "      <td>NaN</td>\n",
       "      <td>NaN</td>\n",
       "      <td>NaN</td>\n",
       "      <td>NaN</td>\n",
       "      <td>F</td>\n",
       "      <td>F</td>\n",
       "      <td>{'timestamp': '2012-10-29T17:44:01Z'</td>\n",
       "      <td>'comment': 'Created page with \"Country in Nor...</td>\n",
       "    </tr>\n",
       "    <tr>\n",
       "      <th>2</th>\n",
       "      <td>20</td>\n",
       "      <td>Q17</td>\n",
       "      <td>0</td>\n",
       "      <td>114</td>\n",
       "      <td>{'timestamp': 30, 'comment': &lt;Element {http://...</td>\n",
       "      <td>16</td>\n",
       "      <td>NaN</td>\n",
       "      <td>NaN</td>\n",
       "      <td>NaN</td>\n",
       "      <td>NaN</td>\n",
       "      <td>NaN</td>\n",
       "      <td>NaN</td>\n",
       "      <td>NaN</td>\n",
       "      <td>F</td>\n",
       "      <td>F</td>\n",
       "      <td>{'timestamp': 30</td>\n",
       "      <td>'comment': &lt;Element {http://www.mediawiki.org...</td>\n",
       "    </tr>\n",
       "    <tr>\n",
       "      <th>3</th>\n",
       "      <td>21</td>\n",
       "      <td>Q27</td>\n",
       "      <td>0</td>\n",
       "      <td>123</td>\n",
       "      <td>{'timestamp': '2012-10-29T17:49:04Z', 'comment...</td>\n",
       "      <td>16</td>\n",
       "      <td>NaN</td>\n",
       "      <td>NaN</td>\n",
       "      <td>NaN</td>\n",
       "      <td>NaN</td>\n",
       "      <td>NaN</td>\n",
       "      <td>NaN</td>\n",
       "      <td>NaN</td>\n",
       "      <td>F</td>\n",
       "      <td>F</td>\n",
       "      <td>{'timestamp': '2012-10-29T17:49:04Z'</td>\n",
       "      <td>'comment': 'Created page with \"Country in Nor...</td>\n",
       "    </tr>\n",
       "    <tr>\n",
       "      <th>4</th>\n",
       "      <td>22</td>\n",
       "      <td>Q20</td>\n",
       "      <td>0</td>\n",
       "      <td>118</td>\n",
       "      <td>{'timestamp': 49, 'comment': &lt;Element {http://...</td>\n",
       "      <td>22</td>\n",
       "      <td>NaN</td>\n",
       "      <td>NaN</td>\n",
       "      <td>NaN</td>\n",
       "      <td>NaN</td>\n",
       "      <td>NaN</td>\n",
       "      <td>NaN</td>\n",
       "      <td>NaN</td>\n",
       "      <td>F</td>\n",
       "      <td>F</td>\n",
       "      <td>{'timestamp': 49</td>\n",
       "      <td>'comment': &lt;Element {http://www.mediawiki.org...</td>\n",
       "    </tr>\n",
       "  </tbody>\n",
       "</table>\n",
       "</div>"
      ],
      "text/plain": [
       "   REVISION_ID title  ns   id  \\\n",
       "0           16   Q15   0  111   \n",
       "1           19   Q26   0  122   \n",
       "2           20   Q17   0  114   \n",
       "3           21   Q27   0  123   \n",
       "4           22   Q20   0  118   \n",
       "\n",
       "                                            revision  REVISION_SESSION_ID  \\\n",
       "0  {'timestamp': 38, 'comment': <Element {http://...                   16   \n",
       "1  {'timestamp': '2012-10-29T17:44:01Z', 'comment...                   19   \n",
       "2  {'timestamp': 30, 'comment': <Element {http://...                   16   \n",
       "3  {'timestamp': '2012-10-29T17:49:04Z', 'comment...                   16   \n",
       "4  {'timestamp': 49, 'comment': <Element {http://...                   22   \n",
       "\n",
       "  USER_COUNTRY_CODE USER_CONTINENT_CODE USER_TIME_ZONE USER_REGION_CODE  \\\n",
       "0               NaN                 NaN            NaN              NaN   \n",
       "1               NaN                 NaN            NaN              NaN   \n",
       "2               NaN                 NaN            NaN              NaN   \n",
       "3               NaN                 NaN            NaN              NaN   \n",
       "4               NaN                 NaN            NaN              NaN   \n",
       "\n",
       "  USER_CITY_NAME USER_COUNTY_NAME REVISION_TAGS ROLLBACK_REVERTED  \\\n",
       "0            NaN              NaN           NaN                 F   \n",
       "1            NaN              NaN           NaN                 F   \n",
       "2            NaN              NaN           NaN                 F   \n",
       "3            NaN              NaN           NaN                 F   \n",
       "4            NaN              NaN           NaN                 F   \n",
       "\n",
       "  UNDO_RESTORE_REVERTED                             timestamp  \\\n",
       "0                     F                      {'timestamp': 38   \n",
       "1                     F  {'timestamp': '2012-10-29T17:44:01Z'   \n",
       "2                     F                      {'timestamp': 30   \n",
       "3                     F  {'timestamp': '2012-10-29T17:49:04Z'   \n",
       "4                     F                      {'timestamp': 49   \n",
       "\n",
       "                                             comment  \n",
       "0   'comment': <Element {http://www.mediawiki.org...  \n",
       "1   'comment': 'Created page with \"Country in Nor...  \n",
       "2   'comment': <Element {http://www.mediawiki.org...  \n",
       "3   'comment': 'Created page with \"Country in Nor...  \n",
       "4   'comment': <Element {http://www.mediawiki.org...  "
      ]
     },
     "execution_count": 107,
     "metadata": {},
     "output_type": "execute_result"
    }
   ],
   "source": [
    "final.head()"
   ]
  },
  {
   "cell_type": "code",
   "execution_count": 110,
   "metadata": {
    "collapsed": false
   },
   "outputs": [],
   "source": [
    "text_list_final = []\n",
    "for item in revision_list:\n",
    "    text_list_final.append(item[7])"
   ]
  },
  {
   "cell_type": "code",
   "execution_count": 111,
   "metadata": {
    "collapsed": true
   },
   "outputs": [],
   "source": [
    "final['text']= text_list_final"
   ]
  },
  {
   "cell_type": "code",
   "execution_count": null,
   "metadata": {
    "collapsed": false
   },
   "outputs": [],
   "source": []
  },
  {
   "cell_type": "code",
   "execution_count": 120,
   "metadata": {
    "collapsed": false
   },
   "outputs": [
    {
     "data": {
      "text/html": [
       "<div>\n",
       "<table border=\"1\" class=\"dataframe\">\n",
       "  <thead>\n",
       "    <tr style=\"text-align: right;\">\n",
       "      <th></th>\n",
       "      <th>REVISION_ID</th>\n",
       "      <th>title</th>\n",
       "      <th>ns</th>\n",
       "      <th>id</th>\n",
       "      <th>revision</th>\n",
       "      <th>REVISION_SESSION_ID</th>\n",
       "      <th>USER_COUNTRY_CODE</th>\n",
       "      <th>USER_CONTINENT_CODE</th>\n",
       "      <th>USER_TIME_ZONE</th>\n",
       "      <th>USER_REGION_CODE</th>\n",
       "      <th>USER_CITY_NAME</th>\n",
       "      <th>USER_COUNTY_NAME</th>\n",
       "      <th>REVISION_TAGS</th>\n",
       "      <th>ROLLBACK_REVERTED</th>\n",
       "      <th>UNDO_RESTORE_REVERTED</th>\n",
       "      <th>timestamp</th>\n",
       "      <th>comment</th>\n",
       "      <th>text</th>\n",
       "    </tr>\n",
       "  </thead>\n",
       "  <tbody>\n",
       "    <tr>\n",
       "      <th>246235</th>\n",
       "      <td>250296</td>\n",
       "      <td>Q4615</td>\n",
       "      <td>0</td>\n",
       "      <td>5560</td>\n",
       "      <td>{'timestamp': 269827, 'comment': &lt;Element {htt...</td>\n",
       "      <td>250258</td>\n",
       "      <td>NaN</td>\n",
       "      <td>NaN</td>\n",
       "      <td>NaN</td>\n",
       "      <td>NaN</td>\n",
       "      <td>NaN</td>\n",
       "      <td>NaN</td>\n",
       "      <td>NaN</td>\n",
       "      <td>F</td>\n",
       "      <td>F</td>\n",
       "      <td>{'timestamp': 269827</td>\n",
       "      <td>'comment': &lt;Element {http://www.mediawiki.org...</td>\n",
       "      <td>\"fr\":{\"language\":\"fr\"</td>\n",
       "    </tr>\n",
       "    <tr>\n",
       "      <th>246236</th>\n",
       "      <td>250297</td>\n",
       "      <td>Q4616</td>\n",
       "      <td>0</td>\n",
       "      <td>5561</td>\n",
       "      <td>{'timestamp': 269829, 'comment': &lt;Element {htt...</td>\n",
       "      <td>250263</td>\n",
       "      <td>NaN</td>\n",
       "      <td>NaN</td>\n",
       "      <td>NaN</td>\n",
       "      <td>NaN</td>\n",
       "      <td>NaN</td>\n",
       "      <td>NaN</td>\n",
       "      <td>NaN</td>\n",
       "      <td>F</td>\n",
       "      <td>F</td>\n",
       "      <td>{'timestamp': 269829</td>\n",
       "      <td>'comment': &lt;Element {http://www.mediawiki.org...</td>\n",
       "      <td>\"de\":{\"language\":\"de\"</td>\n",
       "    </tr>\n",
       "    <tr>\n",
       "      <th>246237</th>\n",
       "      <td>250298</td>\n",
       "      <td>Q4618</td>\n",
       "      <td>0</td>\n",
       "      <td>5563</td>\n",
       "      <td>{'timestamp': '2012-10-31T23:59:35Z', 'comment...</td>\n",
       "      <td>250258</td>\n",
       "      <td>NaN</td>\n",
       "      <td>NaN</td>\n",
       "      <td>NaN</td>\n",
       "      <td>NaN</td>\n",
       "      <td>NaN</td>\n",
       "      <td>NaN</td>\n",
       "      <td>NaN</td>\n",
       "      <td>F</td>\n",
       "      <td>F</td>\n",
       "      <td>{'timestamp': '2012-10-31T23:59:35Z'</td>\n",
       "      <td>'comment': 'Created page with \"Brauchtum vor ...</td>\n",
       "      <td>'model': 'wikibase-item'</td>\n",
       "    </tr>\n",
       "    <tr>\n",
       "      <th>246238</th>\n",
       "      <td>250299</td>\n",
       "      <td>Q1063</td>\n",
       "      <td>0</td>\n",
       "      <td>1402</td>\n",
       "      <td>{'timestamp': 95483, 'comment': &lt;Element {http...</td>\n",
       "      <td>250263</td>\n",
       "      <td>NaN</td>\n",
       "      <td>NaN</td>\n",
       "      <td>NaN</td>\n",
       "      <td>NaN</td>\n",
       "      <td>NaN</td>\n",
       "      <td>NaN</td>\n",
       "      <td>NaN</td>\n",
       "      <td>F</td>\n",
       "      <td>F</td>\n",
       "      <td>{'timestamp': 95483</td>\n",
       "      <td>'comment': &lt;Element {http://www.mediawiki.org...</td>\n",
       "      <td>\"ru\":{\"language\":\"ru\"</td>\n",
       "    </tr>\n",
       "    <tr>\n",
       "      <th>246239</th>\n",
       "      <td>250300</td>\n",
       "      <td>Q4421</td>\n",
       "      <td>0</td>\n",
       "      <td>5350</td>\n",
       "      <td>{'timestamp': 269831, 'comment': &lt;Element {htt...</td>\n",
       "      <td>250263</td>\n",
       "      <td>NaN</td>\n",
       "      <td>NaN</td>\n",
       "      <td>NaN</td>\n",
       "      <td>NaN</td>\n",
       "      <td>NaN</td>\n",
       "      <td>NaN</td>\n",
       "      <td>NaN</td>\n",
       "      <td>F</td>\n",
       "      <td>F</td>\n",
       "      <td>{'timestamp': 269831</td>\n",
       "      <td>'comment': &lt;Element {http://www.mediawiki.org...</td>\n",
       "      <td>\"de\":{\"language\":\"de\"</td>\n",
       "    </tr>\n",
       "  </tbody>\n",
       "</table>\n",
       "</div>"
      ],
      "text/plain": [
       "        REVISION_ID  title  ns    id  \\\n",
       "246235       250296  Q4615   0  5560   \n",
       "246236       250297  Q4616   0  5561   \n",
       "246237       250298  Q4618   0  5563   \n",
       "246238       250299  Q1063   0  1402   \n",
       "246239       250300  Q4421   0  5350   \n",
       "\n",
       "                                                 revision  \\\n",
       "246235  {'timestamp': 269827, 'comment': <Element {htt...   \n",
       "246236  {'timestamp': 269829, 'comment': <Element {htt...   \n",
       "246237  {'timestamp': '2012-10-31T23:59:35Z', 'comment...   \n",
       "246238  {'timestamp': 95483, 'comment': <Element {http...   \n",
       "246239  {'timestamp': 269831, 'comment': <Element {htt...   \n",
       "\n",
       "        REVISION_SESSION_ID USER_COUNTRY_CODE USER_CONTINENT_CODE  \\\n",
       "246235               250258               NaN                 NaN   \n",
       "246236               250263               NaN                 NaN   \n",
       "246237               250258               NaN                 NaN   \n",
       "246238               250263               NaN                 NaN   \n",
       "246239               250263               NaN                 NaN   \n",
       "\n",
       "       USER_TIME_ZONE USER_REGION_CODE USER_CITY_NAME USER_COUNTY_NAME  \\\n",
       "246235            NaN              NaN            NaN              NaN   \n",
       "246236            NaN              NaN            NaN              NaN   \n",
       "246237            NaN              NaN            NaN              NaN   \n",
       "246238            NaN              NaN            NaN              NaN   \n",
       "246239            NaN              NaN            NaN              NaN   \n",
       "\n",
       "       REVISION_TAGS ROLLBACK_REVERTED UNDO_RESTORE_REVERTED  \\\n",
       "246235           NaN                 F                     F   \n",
       "246236           NaN                 F                     F   \n",
       "246237           NaN                 F                     F   \n",
       "246238           NaN                 F                     F   \n",
       "246239           NaN                 F                     F   \n",
       "\n",
       "                                   timestamp  \\\n",
       "246235                  {'timestamp': 269827   \n",
       "246236                  {'timestamp': 269829   \n",
       "246237  {'timestamp': '2012-10-31T23:59:35Z'   \n",
       "246238                   {'timestamp': 95483   \n",
       "246239                  {'timestamp': 269831   \n",
       "\n",
       "                                                  comment  \\\n",
       "246235   'comment': <Element {http://www.mediawiki.org...   \n",
       "246236   'comment': <Element {http://www.mediawiki.org...   \n",
       "246237   'comment': 'Created page with \"Brauchtum vor ...   \n",
       "246238   'comment': <Element {http://www.mediawiki.org...   \n",
       "246239   'comment': <Element {http://www.mediawiki.org...   \n",
       "\n",
       "                             text  \n",
       "246235      \"fr\":{\"language\":\"fr\"  \n",
       "246236      \"de\":{\"language\":\"de\"  \n",
       "246237   'model': 'wikibase-item'  \n",
       "246238      \"ru\":{\"language\":\"ru\"  \n",
       "246239      \"de\":{\"language\":\"de\"  "
      ]
     },
     "execution_count": 120,
     "metadata": {},
     "output_type": "execute_result"
    }
   ],
   "source": [
    "final.tail()"
   ]
  },
  {
   "cell_type": "markdown",
   "metadata": {},
   "source": [
    "# Wiki Vandalism Models Using New Data"
   ]
  },
  {
   "cell_type": "code",
   "execution_count": 5,
   "metadata": {
    "collapsed": false
   },
   "outputs": [],
   "source": [
    "wiki_edits = pd.read_csv(\"edits.csv\")"
   ]
  },
  {
   "cell_type": "code",
   "execution_count": 6,
   "metadata": {
    "collapsed": false
   },
   "outputs": [
    {
     "data": {
      "text/html": [
       "<div>\n",
       "<table border=\"1\" class=\"dataframe\">\n",
       "  <thead>\n",
       "    <tr style=\"text-align: right;\">\n",
       "      <th></th>\n",
       "      <th>editid</th>\n",
       "      <th>editor</th>\n",
       "      <th>oldrevisionid</th>\n",
       "      <th>newrevisionid</th>\n",
       "      <th>diffurl</th>\n",
       "      <th>edittime</th>\n",
       "      <th>editcomment</th>\n",
       "      <th>articleid</th>\n",
       "      <th>articletitle</th>\n",
       "    </tr>\n",
       "  </thead>\n",
       "  <tbody>\n",
       "    <tr>\n",
       "      <th>0</th>\n",
       "      <td>1</td>\n",
       "      <td>TheHeartbreakKid15</td>\n",
       "      <td>328391343</td>\n",
       "      <td>328391582</td>\n",
       "      <td>http://en.wikipedia.org/w/index.php?diff=32839...</td>\n",
       "      <td>2009-11-28T15:21:18Z</td>\n",
       "      <td>/* Episodes */</td>\n",
       "      <td>24477266</td>\n",
       "      <td>Top Gear (series 14)</td>\n",
       "    </tr>\n",
       "    <tr>\n",
       "      <th>1</th>\n",
       "      <td>2</td>\n",
       "      <td>Stepopen</td>\n",
       "      <td>327585467</td>\n",
       "      <td>327607921</td>\n",
       "      <td>http://en.wikipedia.org/w/index.php?diff=32760...</td>\n",
       "      <td>2009-11-24T04:43:37Z</td>\n",
       "      <td>removed factually wrong information</td>\n",
       "      <td>476288</td>\n",
       "      <td>List of United Nations resolutions concerning ...</td>\n",
       "    </tr>\n",
       "    <tr>\n",
       "      <th>2</th>\n",
       "      <td>3</td>\n",
       "      <td>93.6.135.185</td>\n",
       "      <td>328227083</td>\n",
       "      <td>328242890</td>\n",
       "      <td>http://en.wikipedia.org/w/index.php?diff=32824...</td>\n",
       "      <td>2009-11-27T18:22:12Z</td>\n",
       "      <td>/* History */</td>\n",
       "      <td>174853</td>\n",
       "      <td>W.A.S.P.</td>\n",
       "    </tr>\n",
       "    <tr>\n",
       "      <th>3</th>\n",
       "      <td>4</td>\n",
       "      <td>Plasticspork</td>\n",
       "      <td>314955274</td>\n",
       "      <td>327191082</td>\n",
       "      <td>http://en.wikipedia.org/w/index.php?diff=32719...</td>\n",
       "      <td>2009-11-21T23:12:24Z</td>\n",
       "      <td>Clean infobox + general fixes using [[Project:...</td>\n",
       "      <td>1418363</td>\n",
       "      <td>Psusennes II</td>\n",
       "    </tr>\n",
       "    <tr>\n",
       "      <th>4</th>\n",
       "      <td>5</td>\n",
       "      <td>Thatguyflint</td>\n",
       "      <td>329276563</td>\n",
       "      <td>329276581</td>\n",
       "      <td>http://en.wikipedia.org/w/index.php?diff=32927...</td>\n",
       "      <td>2009-12-02T17:45:02Z</td>\n",
       "      <td>Reverted edits by [[Special:Contributions/151....</td>\n",
       "      <td>1930796</td>\n",
       "      <td>James W. Robinson, Jr.</td>\n",
       "    </tr>\n",
       "  </tbody>\n",
       "</table>\n",
       "</div>"
      ],
      "text/plain": [
       "   editid              editor  oldrevisionid  newrevisionid  \\\n",
       "0       1  TheHeartbreakKid15      328391343      328391582   \n",
       "1       2            Stepopen      327585467      327607921   \n",
       "2       3        93.6.135.185      328227083      328242890   \n",
       "3       4        Plasticspork      314955274      327191082   \n",
       "4       5        Thatguyflint      329276563      329276581   \n",
       "\n",
       "                                             diffurl              edittime  \\\n",
       "0  http://en.wikipedia.org/w/index.php?diff=32839...  2009-11-28T15:21:18Z   \n",
       "1  http://en.wikipedia.org/w/index.php?diff=32760...  2009-11-24T04:43:37Z   \n",
       "2  http://en.wikipedia.org/w/index.php?diff=32824...  2009-11-27T18:22:12Z   \n",
       "3  http://en.wikipedia.org/w/index.php?diff=32719...  2009-11-21T23:12:24Z   \n",
       "4  http://en.wikipedia.org/w/index.php?diff=32927...  2009-12-02T17:45:02Z   \n",
       "\n",
       "                                         editcomment  articleid  \\\n",
       "0                                     /* Episodes */   24477266   \n",
       "1                removed factually wrong information     476288   \n",
       "2                                      /* History */     174853   \n",
       "3  Clean infobox + general fixes using [[Project:...    1418363   \n",
       "4  Reverted edits by [[Special:Contributions/151....    1930796   \n",
       "\n",
       "                                        articletitle  \n",
       "0                               Top Gear (series 14)  \n",
       "1  List of United Nations resolutions concerning ...  \n",
       "2                                           W.A.S.P.  \n",
       "3                                       Psusennes II  \n",
       "4                             James W. Robinson, Jr.  "
      ]
     },
     "execution_count": 6,
     "metadata": {},
     "output_type": "execute_result"
    }
   ],
   "source": [
    "wiki_edits.head()"
   ]
  },
  {
   "cell_type": "code",
   "execution_count": 7,
   "metadata": {
    "collapsed": true
   },
   "outputs": [],
   "source": [
    "wiki_gold_annotations = pd.read_csv(\"gold-annotations.csv\")"
   ]
  },
  {
   "cell_type": "code",
   "execution_count": 8,
   "metadata": {
    "collapsed": false
   },
   "outputs": [
    {
     "data": {
      "text/html": [
       "<div>\n",
       "<table border=\"1\" class=\"dataframe\">\n",
       "  <thead>\n",
       "    <tr style=\"text-align: right;\">\n",
       "      <th></th>\n",
       "      <th>editid</th>\n",
       "      <th>class</th>\n",
       "      <th>annotators</th>\n",
       "      <th>totalannotators</th>\n",
       "    </tr>\n",
       "  </thead>\n",
       "  <tbody>\n",
       "    <tr>\n",
       "      <th>0</th>\n",
       "      <td>1</td>\n",
       "      <td>regular</td>\n",
       "      <td>3</td>\n",
       "      <td>3</td>\n",
       "    </tr>\n",
       "    <tr>\n",
       "      <th>1</th>\n",
       "      <td>2</td>\n",
       "      <td>regular</td>\n",
       "      <td>10</td>\n",
       "      <td>18</td>\n",
       "    </tr>\n",
       "    <tr>\n",
       "      <th>2</th>\n",
       "      <td>3</td>\n",
       "      <td>regular</td>\n",
       "      <td>3</td>\n",
       "      <td>3</td>\n",
       "    </tr>\n",
       "    <tr>\n",
       "      <th>3</th>\n",
       "      <td>4</td>\n",
       "      <td>regular</td>\n",
       "      <td>3</td>\n",
       "      <td>3</td>\n",
       "    </tr>\n",
       "    <tr>\n",
       "      <th>4</th>\n",
       "      <td>5</td>\n",
       "      <td>regular</td>\n",
       "      <td>5</td>\n",
       "      <td>6</td>\n",
       "    </tr>\n",
       "  </tbody>\n",
       "</table>\n",
       "</div>"
      ],
      "text/plain": [
       "   editid    class  annotators  totalannotators\n",
       "0       1  regular           3                3\n",
       "1       2  regular          10               18\n",
       "2       3  regular           3                3\n",
       "3       4  regular           3                3\n",
       "4       5  regular           5                6"
      ]
     },
     "execution_count": 8,
     "metadata": {},
     "output_type": "execute_result"
    }
   ],
   "source": [
    "wiki_gold_annotations.head()"
   ]
  },
  {
   "cell_type": "code",
   "execution_count": 9,
   "metadata": {
    "collapsed": true
   },
   "outputs": [],
   "source": [
    "wiki_annotations = pd.read_csv(\"annotations.csv\")"
   ]
  },
  {
   "cell_type": "code",
   "execution_count": 10,
   "metadata": {
    "collapsed": false
   },
   "outputs": [
    {
     "data": {
      "text/html": [
       "<div>\n",
       "<table border=\"1\" class=\"dataframe\">\n",
       "  <thead>\n",
       "    <tr style=\"text-align: right;\">\n",
       "      <th></th>\n",
       "      <th>editid</th>\n",
       "      <th>annotatorid</th>\n",
       "      <th>class</th>\n",
       "      <th>decisiontime</th>\n",
       "      <th>submittime</th>\n",
       "    </tr>\n",
       "  </thead>\n",
       "  <tbody>\n",
       "    <tr>\n",
       "      <th>0</th>\n",
       "      <td>1642</td>\n",
       "      <td>83</td>\n",
       "      <td>no</td>\n",
       "      <td>7755</td>\n",
       "      <td>Tue Mar 02 19:46:32 GMT 2010</td>\n",
       "    </tr>\n",
       "    <tr>\n",
       "      <th>1</th>\n",
       "      <td>1643</td>\n",
       "      <td>83</td>\n",
       "      <td>no</td>\n",
       "      <td>21713</td>\n",
       "      <td>Tue Mar 02 19:46:32 GMT 2010</td>\n",
       "    </tr>\n",
       "    <tr>\n",
       "      <th>2</th>\n",
       "      <td>1641</td>\n",
       "      <td>83</td>\n",
       "      <td>no</td>\n",
       "      <td>11653</td>\n",
       "      <td>Tue Mar 02 19:46:32 GMT 2010</td>\n",
       "    </tr>\n",
       "    <tr>\n",
       "      <th>3</th>\n",
       "      <td>1640</td>\n",
       "      <td>83</td>\n",
       "      <td>no</td>\n",
       "      <td>10387</td>\n",
       "      <td>Tue Mar 02 19:46:32 GMT 2010</td>\n",
       "    </tr>\n",
       "    <tr>\n",
       "      <th>4</th>\n",
       "      <td>1639</td>\n",
       "      <td>83</td>\n",
       "      <td>no</td>\n",
       "      <td>10776</td>\n",
       "      <td>Tue Mar 02 19:46:32 GMT 2010</td>\n",
       "    </tr>\n",
       "  </tbody>\n",
       "</table>\n",
       "</div>"
      ],
      "text/plain": [
       "   editid  annotatorid class  decisiontime                    submittime\n",
       "0    1642           83    no          7755  Tue Mar 02 19:46:32 GMT 2010\n",
       "1    1643           83    no         21713  Tue Mar 02 19:46:32 GMT 2010\n",
       "2    1641           83    no         11653  Tue Mar 02 19:46:32 GMT 2010\n",
       "3    1640           83    no         10387  Tue Mar 02 19:46:32 GMT 2010\n",
       "4    1639           83    no         10776  Tue Mar 02 19:46:32 GMT 2010"
      ]
     },
     "execution_count": 10,
     "metadata": {},
     "output_type": "execute_result"
    }
   ],
   "source": [
    "wiki_annotations.head()"
   ]
  },
  {
   "cell_type": "code",
   "execution_count": 11,
   "metadata": {
    "collapsed": true
   },
   "outputs": [],
   "source": [
    "wiki_annotators = pd.read_csv(\"annotators.csv\")"
   ]
  },
  {
   "cell_type": "code",
   "execution_count": 12,
   "metadata": {
    "collapsed": false
   },
   "outputs": [
    {
     "data": {
      "text/html": [
       "<div>\n",
       "<table border=\"1\" class=\"dataframe\">\n",
       "  <thead>\n",
       "    <tr style=\"text-align: right;\">\n",
       "      <th></th>\n",
       "      <th>annotatorid</th>\n",
       "      <th>age</th>\n",
       "      <th>sex</th>\n",
       "      <th>reading</th>\n",
       "      <th>editing</th>\n",
       "      <th>vandalizing</th>\n",
       "      <th>noticing</th>\n",
       "    </tr>\n",
       "  </thead>\n",
       "  <tbody>\n",
       "    <tr>\n",
       "      <th>0</th>\n",
       "      <td>1</td>\n",
       "      <td>23.0</td>\n",
       "      <td>male</td>\n",
       "      <td>daily</td>\n",
       "      <td>less</td>\n",
       "      <td>no</td>\n",
       "      <td>weekly</td>\n",
       "    </tr>\n",
       "    <tr>\n",
       "      <th>1</th>\n",
       "      <td>2</td>\n",
       "      <td>23.0</td>\n",
       "      <td>male</td>\n",
       "      <td>daily</td>\n",
       "      <td>less</td>\n",
       "      <td>no</td>\n",
       "      <td>less</td>\n",
       "    </tr>\n",
       "    <tr>\n",
       "      <th>2</th>\n",
       "      <td>3</td>\n",
       "      <td>26.0</td>\n",
       "      <td>male</td>\n",
       "      <td>daily</td>\n",
       "      <td>less</td>\n",
       "      <td>yes</td>\n",
       "      <td>monthly</td>\n",
       "    </tr>\n",
       "    <tr>\n",
       "      <th>3</th>\n",
       "      <td>4</td>\n",
       "      <td>30.0</td>\n",
       "      <td>male</td>\n",
       "      <td>daily</td>\n",
       "      <td>never</td>\n",
       "      <td>no</td>\n",
       "      <td>never</td>\n",
       "    </tr>\n",
       "    <tr>\n",
       "      <th>4</th>\n",
       "      <td>5</td>\n",
       "      <td>27.0</td>\n",
       "      <td>male</td>\n",
       "      <td>weekly</td>\n",
       "      <td>never</td>\n",
       "      <td>no</td>\n",
       "      <td>never</td>\n",
       "    </tr>\n",
       "  </tbody>\n",
       "</table>\n",
       "</div>"
      ],
      "text/plain": [
       "   annotatorid   age   sex reading editing vandalizing noticing\n",
       "0            1  23.0  male   daily    less          no   weekly\n",
       "1            2  23.0  male   daily    less          no     less\n",
       "2            3  26.0  male   daily    less         yes  monthly\n",
       "3            4  30.0  male   daily   never          no    never\n",
       "4            5  27.0  male  weekly   never          no    never"
      ]
     },
     "execution_count": 12,
     "metadata": {},
     "output_type": "execute_result"
    }
   ],
   "source": [
    "wiki_annotators.head()"
   ]
  },
  {
   "cell_type": "code",
   "execution_count": 13,
   "metadata": {
    "collapsed": false
   },
   "outputs": [],
   "source": [
    "#wiki_combined = pd.merge(wiki_edits, wiki_annotations, \"editid\", \"editid\")\n",
    "wiki_combined = pd.merge(left = wiki_edits, right = wiki_gold_annotations, left_on= 'editid', right_on = 'editid')"
   ]
  },
  {
   "cell_type": "code",
   "execution_count": 14,
   "metadata": {
    "collapsed": false
   },
   "outputs": [
    {
     "data": {
      "text/html": [
       "<div>\n",
       "<table border=\"1\" class=\"dataframe\">\n",
       "  <thead>\n",
       "    <tr style=\"text-align: right;\">\n",
       "      <th></th>\n",
       "      <th>editid</th>\n",
       "      <th>editor</th>\n",
       "      <th>oldrevisionid</th>\n",
       "      <th>newrevisionid</th>\n",
       "      <th>diffurl</th>\n",
       "      <th>edittime</th>\n",
       "      <th>editcomment</th>\n",
       "      <th>articleid</th>\n",
       "      <th>articletitle</th>\n",
       "      <th>class</th>\n",
       "      <th>annotators</th>\n",
       "      <th>totalannotators</th>\n",
       "    </tr>\n",
       "  </thead>\n",
       "  <tbody>\n",
       "    <tr>\n",
       "      <th>0</th>\n",
       "      <td>1</td>\n",
       "      <td>TheHeartbreakKid15</td>\n",
       "      <td>328391343</td>\n",
       "      <td>328391582</td>\n",
       "      <td>http://en.wikipedia.org/w/index.php?diff=32839...</td>\n",
       "      <td>2009-11-28T15:21:18Z</td>\n",
       "      <td>/* Episodes */</td>\n",
       "      <td>24477266</td>\n",
       "      <td>Top Gear (series 14)</td>\n",
       "      <td>regular</td>\n",
       "      <td>3</td>\n",
       "      <td>3</td>\n",
       "    </tr>\n",
       "    <tr>\n",
       "      <th>1</th>\n",
       "      <td>2</td>\n",
       "      <td>Stepopen</td>\n",
       "      <td>327585467</td>\n",
       "      <td>327607921</td>\n",
       "      <td>http://en.wikipedia.org/w/index.php?diff=32760...</td>\n",
       "      <td>2009-11-24T04:43:37Z</td>\n",
       "      <td>removed factually wrong information</td>\n",
       "      <td>476288</td>\n",
       "      <td>List of United Nations resolutions concerning ...</td>\n",
       "      <td>regular</td>\n",
       "      <td>10</td>\n",
       "      <td>18</td>\n",
       "    </tr>\n",
       "    <tr>\n",
       "      <th>2</th>\n",
       "      <td>3</td>\n",
       "      <td>93.6.135.185</td>\n",
       "      <td>328227083</td>\n",
       "      <td>328242890</td>\n",
       "      <td>http://en.wikipedia.org/w/index.php?diff=32824...</td>\n",
       "      <td>2009-11-27T18:22:12Z</td>\n",
       "      <td>/* History */</td>\n",
       "      <td>174853</td>\n",
       "      <td>W.A.S.P.</td>\n",
       "      <td>regular</td>\n",
       "      <td>3</td>\n",
       "      <td>3</td>\n",
       "    </tr>\n",
       "    <tr>\n",
       "      <th>3</th>\n",
       "      <td>4</td>\n",
       "      <td>Plasticspork</td>\n",
       "      <td>314955274</td>\n",
       "      <td>327191082</td>\n",
       "      <td>http://en.wikipedia.org/w/index.php?diff=32719...</td>\n",
       "      <td>2009-11-21T23:12:24Z</td>\n",
       "      <td>Clean infobox + general fixes using [[Project:...</td>\n",
       "      <td>1418363</td>\n",
       "      <td>Psusennes II</td>\n",
       "      <td>regular</td>\n",
       "      <td>3</td>\n",
       "      <td>3</td>\n",
       "    </tr>\n",
       "    <tr>\n",
       "      <th>4</th>\n",
       "      <td>5</td>\n",
       "      <td>Thatguyflint</td>\n",
       "      <td>329276563</td>\n",
       "      <td>329276581</td>\n",
       "      <td>http://en.wikipedia.org/w/index.php?diff=32927...</td>\n",
       "      <td>2009-12-02T17:45:02Z</td>\n",
       "      <td>Reverted edits by [[Special:Contributions/151....</td>\n",
       "      <td>1930796</td>\n",
       "      <td>James W. Robinson, Jr.</td>\n",
       "      <td>regular</td>\n",
       "      <td>5</td>\n",
       "      <td>6</td>\n",
       "    </tr>\n",
       "    <tr>\n",
       "      <th>5</th>\n",
       "      <td>6</td>\n",
       "      <td>VasuVR</td>\n",
       "      <td>329841675</td>\n",
       "      <td>329866254</td>\n",
       "      <td>http://en.wikipedia.org/w/index.php?diff=32986...</td>\n",
       "      <td>2009-12-05T13:17:05Z</td>\n",
       "      <td>[[WP:UNDO|Undid]] revision 329841675 by [[Spec...</td>\n",
       "      <td>9478115</td>\n",
       "      <td>Kalyani (raga)</td>\n",
       "      <td>regular</td>\n",
       "      <td>3</td>\n",
       "      <td>3</td>\n",
       "    </tr>\n",
       "    <tr>\n",
       "      <th>6</th>\n",
       "      <td>8</td>\n",
       "      <td>192.248.16.90</td>\n",
       "      <td>326774345</td>\n",
       "      <td>328165617</td>\n",
       "      <td>http://en.wikipedia.org/w/index.php?diff=32816...</td>\n",
       "      <td>2009-11-27T06:20:17Z</td>\n",
       "      <td>null</td>\n",
       "      <td>9262</td>\n",
       "      <td>Entertainment</td>\n",
       "      <td>regular</td>\n",
       "      <td>3</td>\n",
       "      <td>3</td>\n",
       "    </tr>\n",
       "    <tr>\n",
       "      <th>7</th>\n",
       "      <td>10</td>\n",
       "      <td>Tom Danson</td>\n",
       "      <td>329184394</td>\n",
       "      <td>329543241</td>\n",
       "      <td>http://en.wikipedia.org/w/index.php?diff=32954...</td>\n",
       "      <td>2009-12-03T22:00:54Z</td>\n",
       "      <td>/* 2010 CIFL Teams */</td>\n",
       "      <td>3161803</td>\n",
       "      <td>Continental Indoor Football League</td>\n",
       "      <td>regular</td>\n",
       "      <td>3</td>\n",
       "      <td>3</td>\n",
       "    </tr>\n",
       "    <tr>\n",
       "      <th>8</th>\n",
       "      <td>11</td>\n",
       "      <td>201.138.110.121</td>\n",
       "      <td>326612420</td>\n",
       "      <td>327045443</td>\n",
       "      <td>http://en.wikipedia.org/w/index.php?diff=32704...</td>\n",
       "      <td>2009-11-21T02:50:53Z</td>\n",
       "      <td>/* Sequels */</td>\n",
       "      <td>5895564</td>\n",
       "      <td>Diner Dash</td>\n",
       "      <td>regular</td>\n",
       "      <td>4</td>\n",
       "      <td>4</td>\n",
       "    </tr>\n",
       "    <tr>\n",
       "      <th>9</th>\n",
       "      <td>12</td>\n",
       "      <td>Updatehelper</td>\n",
       "      <td>316711069</td>\n",
       "      <td>329081572</td>\n",
       "      <td>http://en.wikipedia.org/w/index.php?diff=32908...</td>\n",
       "      <td>2009-12-01T18:39:24Z</td>\n",
       "      <td>/* External links */Original geocities.com/......</td>\n",
       "      <td>1967620</td>\n",
       "      <td>Irene (musical)</td>\n",
       "      <td>regular</td>\n",
       "      <td>3</td>\n",
       "      <td>4</td>\n",
       "    </tr>\n",
       "  </tbody>\n",
       "</table>\n",
       "</div>"
      ],
      "text/plain": [
       "   editid              editor  oldrevisionid  newrevisionid  \\\n",
       "0       1  TheHeartbreakKid15      328391343      328391582   \n",
       "1       2            Stepopen      327585467      327607921   \n",
       "2       3        93.6.135.185      328227083      328242890   \n",
       "3       4        Plasticspork      314955274      327191082   \n",
       "4       5        Thatguyflint      329276563      329276581   \n",
       "5       6              VasuVR      329841675      329866254   \n",
       "6       8       192.248.16.90      326774345      328165617   \n",
       "7      10          Tom Danson      329184394      329543241   \n",
       "8      11     201.138.110.121      326612420      327045443   \n",
       "9      12        Updatehelper      316711069      329081572   \n",
       "\n",
       "                                             diffurl              edittime  \\\n",
       "0  http://en.wikipedia.org/w/index.php?diff=32839...  2009-11-28T15:21:18Z   \n",
       "1  http://en.wikipedia.org/w/index.php?diff=32760...  2009-11-24T04:43:37Z   \n",
       "2  http://en.wikipedia.org/w/index.php?diff=32824...  2009-11-27T18:22:12Z   \n",
       "3  http://en.wikipedia.org/w/index.php?diff=32719...  2009-11-21T23:12:24Z   \n",
       "4  http://en.wikipedia.org/w/index.php?diff=32927...  2009-12-02T17:45:02Z   \n",
       "5  http://en.wikipedia.org/w/index.php?diff=32986...  2009-12-05T13:17:05Z   \n",
       "6  http://en.wikipedia.org/w/index.php?diff=32816...  2009-11-27T06:20:17Z   \n",
       "7  http://en.wikipedia.org/w/index.php?diff=32954...  2009-12-03T22:00:54Z   \n",
       "8  http://en.wikipedia.org/w/index.php?diff=32704...  2009-11-21T02:50:53Z   \n",
       "9  http://en.wikipedia.org/w/index.php?diff=32908...  2009-12-01T18:39:24Z   \n",
       "\n",
       "                                         editcomment  articleid  \\\n",
       "0                                     /* Episodes */   24477266   \n",
       "1                removed factually wrong information     476288   \n",
       "2                                      /* History */     174853   \n",
       "3  Clean infobox + general fixes using [[Project:...    1418363   \n",
       "4  Reverted edits by [[Special:Contributions/151....    1930796   \n",
       "5  [[WP:UNDO|Undid]] revision 329841675 by [[Spec...    9478115   \n",
       "6                                               null       9262   \n",
       "7                              /* 2010 CIFL Teams */    3161803   \n",
       "8                                      /* Sequels */    5895564   \n",
       "9  /* External links */Original geocities.com/......    1967620   \n",
       "\n",
       "                                        articletitle    class  annotators  \\\n",
       "0                               Top Gear (series 14)  regular           3   \n",
       "1  List of United Nations resolutions concerning ...  regular          10   \n",
       "2                                           W.A.S.P.  regular           3   \n",
       "3                                       Psusennes II  regular           3   \n",
       "4                             James W. Robinson, Jr.  regular           5   \n",
       "5                                     Kalyani (raga)  regular           3   \n",
       "6                                      Entertainment  regular           3   \n",
       "7                 Continental Indoor Football League  regular           3   \n",
       "8                                         Diner Dash  regular           4   \n",
       "9                                    Irene (musical)  regular           3   \n",
       "\n",
       "   totalannotators  \n",
       "0                3  \n",
       "1               18  \n",
       "2                3  \n",
       "3                3  \n",
       "4                6  \n",
       "5                3  \n",
       "6                3  \n",
       "7                3  \n",
       "8                4  \n",
       "9                4  "
      ]
     },
     "execution_count": 14,
     "metadata": {},
     "output_type": "execute_result"
    }
   ],
   "source": [
    "wiki_combined.head(n=10)"
   ]
  },
  {
   "cell_type": "code",
   "execution_count": 15,
   "metadata": {
    "collapsed": true
   },
   "outputs": [],
   "source": [
    "wiki_combined_2 = pd.merge(left = wiki_combined, right = wiki_annotations, left_on= 'editid', right_on = 'editid')"
   ]
  },
  {
   "cell_type": "code",
   "execution_count": 16,
   "metadata": {
    "collapsed": false
   },
   "outputs": [
    {
     "data": {
      "text/html": [
       "<div>\n",
       "<table border=\"1\" class=\"dataframe\">\n",
       "  <thead>\n",
       "    <tr style=\"text-align: right;\">\n",
       "      <th></th>\n",
       "      <th>editid</th>\n",
       "      <th>editor</th>\n",
       "      <th>oldrevisionid</th>\n",
       "      <th>newrevisionid</th>\n",
       "      <th>diffurl</th>\n",
       "      <th>edittime</th>\n",
       "      <th>editcomment</th>\n",
       "      <th>articleid</th>\n",
       "      <th>articletitle</th>\n",
       "      <th>class_x</th>\n",
       "      <th>annotators</th>\n",
       "      <th>totalannotators</th>\n",
       "      <th>annotatorid</th>\n",
       "      <th>class_y</th>\n",
       "      <th>decisiontime</th>\n",
       "      <th>submittime</th>\n",
       "    </tr>\n",
       "  </thead>\n",
       "  <tbody>\n",
       "    <tr>\n",
       "      <th>0</th>\n",
       "      <td>1</td>\n",
       "      <td>TheHeartbreakKid15</td>\n",
       "      <td>328391343</td>\n",
       "      <td>328391582</td>\n",
       "      <td>http://en.wikipedia.org/w/index.php?diff=32839...</td>\n",
       "      <td>2009-11-28T15:21:18Z</td>\n",
       "      <td>/* Episodes */</td>\n",
       "      <td>24477266</td>\n",
       "      <td>Top Gear (series 14)</td>\n",
       "      <td>regular</td>\n",
       "      <td>3</td>\n",
       "      <td>3</td>\n",
       "      <td>2</td>\n",
       "      <td>no</td>\n",
       "      <td>14156</td>\n",
       "      <td>Sat Feb 27 14:55:29 GMT 2010</td>\n",
       "    </tr>\n",
       "    <tr>\n",
       "      <th>1</th>\n",
       "      <td>1</td>\n",
       "      <td>TheHeartbreakKid15</td>\n",
       "      <td>328391343</td>\n",
       "      <td>328391582</td>\n",
       "      <td>http://en.wikipedia.org/w/index.php?diff=32839...</td>\n",
       "      <td>2009-11-28T15:21:18Z</td>\n",
       "      <td>/* Episodes */</td>\n",
       "      <td>24477266</td>\n",
       "      <td>Top Gear (series 14)</td>\n",
       "      <td>regular</td>\n",
       "      <td>3</td>\n",
       "      <td>3</td>\n",
       "      <td>1</td>\n",
       "      <td>no</td>\n",
       "      <td>43453</td>\n",
       "      <td>Sat Feb 27 03:41:24 GMT 2010</td>\n",
       "    </tr>\n",
       "    <tr>\n",
       "      <th>2</th>\n",
       "      <td>1</td>\n",
       "      <td>TheHeartbreakKid15</td>\n",
       "      <td>328391343</td>\n",
       "      <td>328391582</td>\n",
       "      <td>http://en.wikipedia.org/w/index.php?diff=32839...</td>\n",
       "      <td>2009-11-28T15:21:18Z</td>\n",
       "      <td>/* Episodes */</td>\n",
       "      <td>24477266</td>\n",
       "      <td>Top Gear (series 14)</td>\n",
       "      <td>regular</td>\n",
       "      <td>3</td>\n",
       "      <td>3</td>\n",
       "      <td>3</td>\n",
       "      <td>no</td>\n",
       "      <td>22190</td>\n",
       "      <td>Sun Feb 28 03:19:09 GMT 2010</td>\n",
       "    </tr>\n",
       "    <tr>\n",
       "      <th>3</th>\n",
       "      <td>2</td>\n",
       "      <td>Stepopen</td>\n",
       "      <td>327585467</td>\n",
       "      <td>327607921</td>\n",
       "      <td>http://en.wikipedia.org/w/index.php?diff=32760...</td>\n",
       "      <td>2009-11-24T04:43:37Z</td>\n",
       "      <td>removed factually wrong information</td>\n",
       "      <td>476288</td>\n",
       "      <td>List of United Nations resolutions concerning ...</td>\n",
       "      <td>regular</td>\n",
       "      <td>10</td>\n",
       "      <td>18</td>\n",
       "      <td>411</td>\n",
       "      <td>no</td>\n",
       "      <td>6308</td>\n",
       "      <td>Mon Mar 22 22:25:04 GMT 2010</td>\n",
       "    </tr>\n",
       "    <tr>\n",
       "      <th>4</th>\n",
       "      <td>2</td>\n",
       "      <td>Stepopen</td>\n",
       "      <td>327585467</td>\n",
       "      <td>327607921</td>\n",
       "      <td>http://en.wikipedia.org/w/index.php?diff=32760...</td>\n",
       "      <td>2009-11-24T04:43:37Z</td>\n",
       "      <td>removed factually wrong information</td>\n",
       "      <td>476288</td>\n",
       "      <td>List of United Nations resolutions concerning ...</td>\n",
       "      <td>regular</td>\n",
       "      <td>10</td>\n",
       "      <td>18</td>\n",
       "      <td>495</td>\n",
       "      <td>no</td>\n",
       "      <td>10067</td>\n",
       "      <td>Sun Mar 14 01:34:06 GMT 2010</td>\n",
       "    </tr>\n",
       "    <tr>\n",
       "      <th>5</th>\n",
       "      <td>2</td>\n",
       "      <td>Stepopen</td>\n",
       "      <td>327585467</td>\n",
       "      <td>327607921</td>\n",
       "      <td>http://en.wikipedia.org/w/index.php?diff=32760...</td>\n",
       "      <td>2009-11-24T04:43:37Z</td>\n",
       "      <td>removed factually wrong information</td>\n",
       "      <td>476288</td>\n",
       "      <td>List of United Nations resolutions concerning ...</td>\n",
       "      <td>regular</td>\n",
       "      <td>10</td>\n",
       "      <td>18</td>\n",
       "      <td>27</td>\n",
       "      <td>no</td>\n",
       "      <td>3264</td>\n",
       "      <td>Wed Mar 10 04:24:35 GMT 2010</td>\n",
       "    </tr>\n",
       "    <tr>\n",
       "      <th>6</th>\n",
       "      <td>2</td>\n",
       "      <td>Stepopen</td>\n",
       "      <td>327585467</td>\n",
       "      <td>327607921</td>\n",
       "      <td>http://en.wikipedia.org/w/index.php?diff=32760...</td>\n",
       "      <td>2009-11-24T04:43:37Z</td>\n",
       "      <td>removed factually wrong information</td>\n",
       "      <td>476288</td>\n",
       "      <td>List of United Nations resolutions concerning ...</td>\n",
       "      <td>regular</td>\n",
       "      <td>10</td>\n",
       "      <td>18</td>\n",
       "      <td>27</td>\n",
       "      <td>no</td>\n",
       "      <td>6210</td>\n",
       "      <td>Sat Mar 20 14:50:21 GMT 2010</td>\n",
       "    </tr>\n",
       "    <tr>\n",
       "      <th>7</th>\n",
       "      <td>2</td>\n",
       "      <td>Stepopen</td>\n",
       "      <td>327585467</td>\n",
       "      <td>327607921</td>\n",
       "      <td>http://en.wikipedia.org/w/index.php?diff=32760...</td>\n",
       "      <td>2009-11-24T04:43:37Z</td>\n",
       "      <td>removed factually wrong information</td>\n",
       "      <td>476288</td>\n",
       "      <td>List of United Nations resolutions concerning ...</td>\n",
       "      <td>regular</td>\n",
       "      <td>10</td>\n",
       "      <td>18</td>\n",
       "      <td>679</td>\n",
       "      <td>yes</td>\n",
       "      <td>4499</td>\n",
       "      <td>Tue Mar 16 00:47:31 GMT 2010</td>\n",
       "    </tr>\n",
       "    <tr>\n",
       "      <th>8</th>\n",
       "      <td>2</td>\n",
       "      <td>Stepopen</td>\n",
       "      <td>327585467</td>\n",
       "      <td>327607921</td>\n",
       "      <td>http://en.wikipedia.org/w/index.php?diff=32760...</td>\n",
       "      <td>2009-11-24T04:43:37Z</td>\n",
       "      <td>removed factually wrong information</td>\n",
       "      <td>476288</td>\n",
       "      <td>List of United Nations resolutions concerning ...</td>\n",
       "      <td>regular</td>\n",
       "      <td>10</td>\n",
       "      <td>18</td>\n",
       "      <td>291</td>\n",
       "      <td>dunno</td>\n",
       "      <td>43742</td>\n",
       "      <td>Tue Mar 23 08:33:20 GMT 2010</td>\n",
       "    </tr>\n",
       "    <tr>\n",
       "      <th>9</th>\n",
       "      <td>2</td>\n",
       "      <td>Stepopen</td>\n",
       "      <td>327585467</td>\n",
       "      <td>327607921</td>\n",
       "      <td>http://en.wikipedia.org/w/index.php?diff=32760...</td>\n",
       "      <td>2009-11-24T04:43:37Z</td>\n",
       "      <td>removed factually wrong information</td>\n",
       "      <td>476288</td>\n",
       "      <td>List of United Nations resolutions concerning ...</td>\n",
       "      <td>regular</td>\n",
       "      <td>10</td>\n",
       "      <td>18</td>\n",
       "      <td>93</td>\n",
       "      <td>no</td>\n",
       "      <td>20213</td>\n",
       "      <td>Tue Mar 23 00:45:19 GMT 2010</td>\n",
       "    </tr>\n",
       "    <tr>\n",
       "      <th>10</th>\n",
       "      <td>2</td>\n",
       "      <td>Stepopen</td>\n",
       "      <td>327585467</td>\n",
       "      <td>327607921</td>\n",
       "      <td>http://en.wikipedia.org/w/index.php?diff=32760...</td>\n",
       "      <td>2009-11-24T04:43:37Z</td>\n",
       "      <td>removed factually wrong information</td>\n",
       "      <td>476288</td>\n",
       "      <td>List of United Nations resolutions concerning ...</td>\n",
       "      <td>regular</td>\n",
       "      <td>10</td>\n",
       "      <td>18</td>\n",
       "      <td>6</td>\n",
       "      <td>no</td>\n",
       "      <td>6541</td>\n",
       "      <td>Tue Mar 16 03:26:05 GMT 2010</td>\n",
       "    </tr>\n",
       "    <tr>\n",
       "      <th>11</th>\n",
       "      <td>2</td>\n",
       "      <td>Stepopen</td>\n",
       "      <td>327585467</td>\n",
       "      <td>327607921</td>\n",
       "      <td>http://en.wikipedia.org/w/index.php?diff=32760...</td>\n",
       "      <td>2009-11-24T04:43:37Z</td>\n",
       "      <td>removed factually wrong information</td>\n",
       "      <td>476288</td>\n",
       "      <td>List of United Nations resolutions concerning ...</td>\n",
       "      <td>regular</td>\n",
       "      <td>10</td>\n",
       "      <td>18</td>\n",
       "      <td>6</td>\n",
       "      <td>yes</td>\n",
       "      <td>27554</td>\n",
       "      <td>Fri Mar 19 04:17:56 GMT 2010</td>\n",
       "    </tr>\n",
       "    <tr>\n",
       "      <th>12</th>\n",
       "      <td>2</td>\n",
       "      <td>Stepopen</td>\n",
       "      <td>327585467</td>\n",
       "      <td>327607921</td>\n",
       "      <td>http://en.wikipedia.org/w/index.php?diff=32760...</td>\n",
       "      <td>2009-11-24T04:43:37Z</td>\n",
       "      <td>removed factually wrong information</td>\n",
       "      <td>476288</td>\n",
       "      <td>List of United Nations resolutions concerning ...</td>\n",
       "      <td>regular</td>\n",
       "      <td>10</td>\n",
       "      <td>18</td>\n",
       "      <td>544</td>\n",
       "      <td>yes</td>\n",
       "      <td>4161</td>\n",
       "      <td>Sat Mar 13 19:26:30 GMT 2010</td>\n",
       "    </tr>\n",
       "    <tr>\n",
       "      <th>13</th>\n",
       "      <td>2</td>\n",
       "      <td>Stepopen</td>\n",
       "      <td>327585467</td>\n",
       "      <td>327607921</td>\n",
       "      <td>http://en.wikipedia.org/w/index.php?diff=32760...</td>\n",
       "      <td>2009-11-24T04:43:37Z</td>\n",
       "      <td>removed factually wrong information</td>\n",
       "      <td>476288</td>\n",
       "      <td>List of United Nations resolutions concerning ...</td>\n",
       "      <td>regular</td>\n",
       "      <td>10</td>\n",
       "      <td>18</td>\n",
       "      <td>328</td>\n",
       "      <td>yes</td>\n",
       "      <td>17750</td>\n",
       "      <td>Wed Mar 10 17:12:59 GMT 2010</td>\n",
       "    </tr>\n",
       "    <tr>\n",
       "      <th>14</th>\n",
       "      <td>2</td>\n",
       "      <td>Stepopen</td>\n",
       "      <td>327585467</td>\n",
       "      <td>327607921</td>\n",
       "      <td>http://en.wikipedia.org/w/index.php?diff=32760...</td>\n",
       "      <td>2009-11-24T04:43:37Z</td>\n",
       "      <td>removed factually wrong information</td>\n",
       "      <td>476288</td>\n",
       "      <td>List of United Nations resolutions concerning ...</td>\n",
       "      <td>regular</td>\n",
       "      <td>10</td>\n",
       "      <td>18</td>\n",
       "      <td>2</td>\n",
       "      <td>yes</td>\n",
       "      <td>25283</td>\n",
       "      <td>Sat Feb 27 14:55:29 GMT 2010</td>\n",
       "    </tr>\n",
       "    <tr>\n",
       "      <th>15</th>\n",
       "      <td>2</td>\n",
       "      <td>Stepopen</td>\n",
       "      <td>327585467</td>\n",
       "      <td>327607921</td>\n",
       "      <td>http://en.wikipedia.org/w/index.php?diff=32760...</td>\n",
       "      <td>2009-11-24T04:43:37Z</td>\n",
       "      <td>removed factually wrong information</td>\n",
       "      <td>476288</td>\n",
       "      <td>List of United Nations resolutions concerning ...</td>\n",
       "      <td>regular</td>\n",
       "      <td>10</td>\n",
       "      <td>18</td>\n",
       "      <td>86</td>\n",
       "      <td>no</td>\n",
       "      <td>9212</td>\n",
       "      <td>Wed Mar 10 20:17:29 GMT 2010</td>\n",
       "    </tr>\n",
       "    <tr>\n",
       "      <th>16</th>\n",
       "      <td>2</td>\n",
       "      <td>Stepopen</td>\n",
       "      <td>327585467</td>\n",
       "      <td>327607921</td>\n",
       "      <td>http://en.wikipedia.org/w/index.php?diff=32760...</td>\n",
       "      <td>2009-11-24T04:43:37Z</td>\n",
       "      <td>removed factually wrong information</td>\n",
       "      <td>476288</td>\n",
       "      <td>List of United Nations resolutions concerning ...</td>\n",
       "      <td>regular</td>\n",
       "      <td>10</td>\n",
       "      <td>18</td>\n",
       "      <td>415</td>\n",
       "      <td>no</td>\n",
       "      <td>5360</td>\n",
       "      <td>Sat Mar 13 20:12:40 GMT 2010</td>\n",
       "    </tr>\n",
       "    <tr>\n",
       "      <th>17</th>\n",
       "      <td>2</td>\n",
       "      <td>Stepopen</td>\n",
       "      <td>327585467</td>\n",
       "      <td>327607921</td>\n",
       "      <td>http://en.wikipedia.org/w/index.php?diff=32760...</td>\n",
       "      <td>2009-11-24T04:43:37Z</td>\n",
       "      <td>removed factually wrong information</td>\n",
       "      <td>476288</td>\n",
       "      <td>List of United Nations resolutions concerning ...</td>\n",
       "      <td>regular</td>\n",
       "      <td>10</td>\n",
       "      <td>18</td>\n",
       "      <td>1</td>\n",
       "      <td>no</td>\n",
       "      <td>24203</td>\n",
       "      <td>Sat Feb 27 03:41:24 GMT 2010</td>\n",
       "    </tr>\n",
       "    <tr>\n",
       "      <th>18</th>\n",
       "      <td>2</td>\n",
       "      <td>Stepopen</td>\n",
       "      <td>327585467</td>\n",
       "      <td>327607921</td>\n",
       "      <td>http://en.wikipedia.org/w/index.php?diff=32760...</td>\n",
       "      <td>2009-11-24T04:43:37Z</td>\n",
       "      <td>removed factually wrong information</td>\n",
       "      <td>476288</td>\n",
       "      <td>List of United Nations resolutions concerning ...</td>\n",
       "      <td>regular</td>\n",
       "      <td>10</td>\n",
       "      <td>18</td>\n",
       "      <td>3</td>\n",
       "      <td>yes</td>\n",
       "      <td>169859</td>\n",
       "      <td>Sun Feb 28 03:19:09 GMT 2010</td>\n",
       "    </tr>\n",
       "    <tr>\n",
       "      <th>19</th>\n",
       "      <td>2</td>\n",
       "      <td>Stepopen</td>\n",
       "      <td>327585467</td>\n",
       "      <td>327607921</td>\n",
       "      <td>http://en.wikipedia.org/w/index.php?diff=32760...</td>\n",
       "      <td>2009-11-24T04:43:37Z</td>\n",
       "      <td>removed factually wrong information</td>\n",
       "      <td>476288</td>\n",
       "      <td>List of United Nations resolutions concerning ...</td>\n",
       "      <td>regular</td>\n",
       "      <td>10</td>\n",
       "      <td>18</td>\n",
       "      <td>570</td>\n",
       "      <td>no</td>\n",
       "      <td>65685</td>\n",
       "      <td>Thu Mar 18 00:19:57 GMT 2010</td>\n",
       "    </tr>\n",
       "  </tbody>\n",
       "</table>\n",
       "</div>"
      ],
      "text/plain": [
       "    editid              editor  oldrevisionid  newrevisionid  \\\n",
       "0        1  TheHeartbreakKid15      328391343      328391582   \n",
       "1        1  TheHeartbreakKid15      328391343      328391582   \n",
       "2        1  TheHeartbreakKid15      328391343      328391582   \n",
       "3        2            Stepopen      327585467      327607921   \n",
       "4        2            Stepopen      327585467      327607921   \n",
       "5        2            Stepopen      327585467      327607921   \n",
       "6        2            Stepopen      327585467      327607921   \n",
       "7        2            Stepopen      327585467      327607921   \n",
       "8        2            Stepopen      327585467      327607921   \n",
       "9        2            Stepopen      327585467      327607921   \n",
       "10       2            Stepopen      327585467      327607921   \n",
       "11       2            Stepopen      327585467      327607921   \n",
       "12       2            Stepopen      327585467      327607921   \n",
       "13       2            Stepopen      327585467      327607921   \n",
       "14       2            Stepopen      327585467      327607921   \n",
       "15       2            Stepopen      327585467      327607921   \n",
       "16       2            Stepopen      327585467      327607921   \n",
       "17       2            Stepopen      327585467      327607921   \n",
       "18       2            Stepopen      327585467      327607921   \n",
       "19       2            Stepopen      327585467      327607921   \n",
       "\n",
       "                                              diffurl              edittime  \\\n",
       "0   http://en.wikipedia.org/w/index.php?diff=32839...  2009-11-28T15:21:18Z   \n",
       "1   http://en.wikipedia.org/w/index.php?diff=32839...  2009-11-28T15:21:18Z   \n",
       "2   http://en.wikipedia.org/w/index.php?diff=32839...  2009-11-28T15:21:18Z   \n",
       "3   http://en.wikipedia.org/w/index.php?diff=32760...  2009-11-24T04:43:37Z   \n",
       "4   http://en.wikipedia.org/w/index.php?diff=32760...  2009-11-24T04:43:37Z   \n",
       "5   http://en.wikipedia.org/w/index.php?diff=32760...  2009-11-24T04:43:37Z   \n",
       "6   http://en.wikipedia.org/w/index.php?diff=32760...  2009-11-24T04:43:37Z   \n",
       "7   http://en.wikipedia.org/w/index.php?diff=32760...  2009-11-24T04:43:37Z   \n",
       "8   http://en.wikipedia.org/w/index.php?diff=32760...  2009-11-24T04:43:37Z   \n",
       "9   http://en.wikipedia.org/w/index.php?diff=32760...  2009-11-24T04:43:37Z   \n",
       "10  http://en.wikipedia.org/w/index.php?diff=32760...  2009-11-24T04:43:37Z   \n",
       "11  http://en.wikipedia.org/w/index.php?diff=32760...  2009-11-24T04:43:37Z   \n",
       "12  http://en.wikipedia.org/w/index.php?diff=32760...  2009-11-24T04:43:37Z   \n",
       "13  http://en.wikipedia.org/w/index.php?diff=32760...  2009-11-24T04:43:37Z   \n",
       "14  http://en.wikipedia.org/w/index.php?diff=32760...  2009-11-24T04:43:37Z   \n",
       "15  http://en.wikipedia.org/w/index.php?diff=32760...  2009-11-24T04:43:37Z   \n",
       "16  http://en.wikipedia.org/w/index.php?diff=32760...  2009-11-24T04:43:37Z   \n",
       "17  http://en.wikipedia.org/w/index.php?diff=32760...  2009-11-24T04:43:37Z   \n",
       "18  http://en.wikipedia.org/w/index.php?diff=32760...  2009-11-24T04:43:37Z   \n",
       "19  http://en.wikipedia.org/w/index.php?diff=32760...  2009-11-24T04:43:37Z   \n",
       "\n",
       "                            editcomment  articleid  \\\n",
       "0                        /* Episodes */   24477266   \n",
       "1                        /* Episodes */   24477266   \n",
       "2                        /* Episodes */   24477266   \n",
       "3   removed factually wrong information     476288   \n",
       "4   removed factually wrong information     476288   \n",
       "5   removed factually wrong information     476288   \n",
       "6   removed factually wrong information     476288   \n",
       "7   removed factually wrong information     476288   \n",
       "8   removed factually wrong information     476288   \n",
       "9   removed factually wrong information     476288   \n",
       "10  removed factually wrong information     476288   \n",
       "11  removed factually wrong information     476288   \n",
       "12  removed factually wrong information     476288   \n",
       "13  removed factually wrong information     476288   \n",
       "14  removed factually wrong information     476288   \n",
       "15  removed factually wrong information     476288   \n",
       "16  removed factually wrong information     476288   \n",
       "17  removed factually wrong information     476288   \n",
       "18  removed factually wrong information     476288   \n",
       "19  removed factually wrong information     476288   \n",
       "\n",
       "                                         articletitle  class_x  annotators  \\\n",
       "0                                Top Gear (series 14)  regular           3   \n",
       "1                                Top Gear (series 14)  regular           3   \n",
       "2                                Top Gear (series 14)  regular           3   \n",
       "3   List of United Nations resolutions concerning ...  regular          10   \n",
       "4   List of United Nations resolutions concerning ...  regular          10   \n",
       "5   List of United Nations resolutions concerning ...  regular          10   \n",
       "6   List of United Nations resolutions concerning ...  regular          10   \n",
       "7   List of United Nations resolutions concerning ...  regular          10   \n",
       "8   List of United Nations resolutions concerning ...  regular          10   \n",
       "9   List of United Nations resolutions concerning ...  regular          10   \n",
       "10  List of United Nations resolutions concerning ...  regular          10   \n",
       "11  List of United Nations resolutions concerning ...  regular          10   \n",
       "12  List of United Nations resolutions concerning ...  regular          10   \n",
       "13  List of United Nations resolutions concerning ...  regular          10   \n",
       "14  List of United Nations resolutions concerning ...  regular          10   \n",
       "15  List of United Nations resolutions concerning ...  regular          10   \n",
       "16  List of United Nations resolutions concerning ...  regular          10   \n",
       "17  List of United Nations resolutions concerning ...  regular          10   \n",
       "18  List of United Nations resolutions concerning ...  regular          10   \n",
       "19  List of United Nations resolutions concerning ...  regular          10   \n",
       "\n",
       "    totalannotators  annotatorid class_y  decisiontime  \\\n",
       "0                 3            2      no         14156   \n",
       "1                 3            1      no         43453   \n",
       "2                 3            3      no         22190   \n",
       "3                18          411      no          6308   \n",
       "4                18          495      no         10067   \n",
       "5                18           27      no          3264   \n",
       "6                18           27      no          6210   \n",
       "7                18          679     yes          4499   \n",
       "8                18          291   dunno         43742   \n",
       "9                18           93      no         20213   \n",
       "10               18            6      no          6541   \n",
       "11               18            6     yes         27554   \n",
       "12               18          544     yes          4161   \n",
       "13               18          328     yes         17750   \n",
       "14               18            2     yes         25283   \n",
       "15               18           86      no          9212   \n",
       "16               18          415      no          5360   \n",
       "17               18            1      no         24203   \n",
       "18               18            3     yes        169859   \n",
       "19               18          570      no         65685   \n",
       "\n",
       "                      submittime  \n",
       "0   Sat Feb 27 14:55:29 GMT 2010  \n",
       "1   Sat Feb 27 03:41:24 GMT 2010  \n",
       "2   Sun Feb 28 03:19:09 GMT 2010  \n",
       "3   Mon Mar 22 22:25:04 GMT 2010  \n",
       "4   Sun Mar 14 01:34:06 GMT 2010  \n",
       "5   Wed Mar 10 04:24:35 GMT 2010  \n",
       "6   Sat Mar 20 14:50:21 GMT 2010  \n",
       "7   Tue Mar 16 00:47:31 GMT 2010  \n",
       "8   Tue Mar 23 08:33:20 GMT 2010  \n",
       "9   Tue Mar 23 00:45:19 GMT 2010  \n",
       "10  Tue Mar 16 03:26:05 GMT 2010  \n",
       "11  Fri Mar 19 04:17:56 GMT 2010  \n",
       "12  Sat Mar 13 19:26:30 GMT 2010  \n",
       "13  Wed Mar 10 17:12:59 GMT 2010  \n",
       "14  Sat Feb 27 14:55:29 GMT 2010  \n",
       "15  Wed Mar 10 20:17:29 GMT 2010  \n",
       "16  Sat Mar 13 20:12:40 GMT 2010  \n",
       "17  Sat Feb 27 03:41:24 GMT 2010  \n",
       "18  Sun Feb 28 03:19:09 GMT 2010  \n",
       "19  Thu Mar 18 00:19:57 GMT 2010  "
      ]
     },
     "execution_count": 16,
     "metadata": {},
     "output_type": "execute_result"
    }
   ],
   "source": [
    "wiki_combined_2.head(n=20)"
   ]
  },
  {
   "cell_type": "code",
   "execution_count": 17,
   "metadata": {
    "collapsed": true
   },
   "outputs": [],
   "source": [
    "wiki_combined_2=wiki_combined_2.rename(columns = {'class_x':'agreed_classification'})"
   ]
  },
  {
   "cell_type": "code",
   "execution_count": 18,
   "metadata": {
    "collapsed": true
   },
   "outputs": [],
   "source": [
    "wiki_combined_2=wiki_combined_2.rename(columns = {'class_y':'individual_classification'})"
   ]
  },
  {
   "cell_type": "code",
   "execution_count": 19,
   "metadata": {
    "collapsed": false
   },
   "outputs": [
    {
     "data": {
      "text/html": [
       "<div>\n",
       "<table border=\"1\" class=\"dataframe\">\n",
       "  <thead>\n",
       "    <tr style=\"text-align: right;\">\n",
       "      <th></th>\n",
       "      <th>editid</th>\n",
       "      <th>editor</th>\n",
       "      <th>oldrevisionid</th>\n",
       "      <th>newrevisionid</th>\n",
       "      <th>diffurl</th>\n",
       "      <th>edittime</th>\n",
       "      <th>editcomment</th>\n",
       "      <th>articleid</th>\n",
       "      <th>articletitle</th>\n",
       "      <th>agreed_classification</th>\n",
       "      <th>annotators</th>\n",
       "      <th>totalannotators</th>\n",
       "      <th>annotatorid</th>\n",
       "      <th>individual_classification</th>\n",
       "      <th>decisiontime</th>\n",
       "      <th>submittime</th>\n",
       "    </tr>\n",
       "  </thead>\n",
       "  <tbody>\n",
       "    <tr>\n",
       "      <th>0</th>\n",
       "      <td>1</td>\n",
       "      <td>TheHeartbreakKid15</td>\n",
       "      <td>328391343</td>\n",
       "      <td>328391582</td>\n",
       "      <td>http://en.wikipedia.org/w/index.php?diff=32839...</td>\n",
       "      <td>2009-11-28T15:21:18Z</td>\n",
       "      <td>/* Episodes */</td>\n",
       "      <td>24477266</td>\n",
       "      <td>Top Gear (series 14)</td>\n",
       "      <td>regular</td>\n",
       "      <td>3</td>\n",
       "      <td>3</td>\n",
       "      <td>2</td>\n",
       "      <td>no</td>\n",
       "      <td>14156</td>\n",
       "      <td>Sat Feb 27 14:55:29 GMT 2010</td>\n",
       "    </tr>\n",
       "    <tr>\n",
       "      <th>1</th>\n",
       "      <td>1</td>\n",
       "      <td>TheHeartbreakKid15</td>\n",
       "      <td>328391343</td>\n",
       "      <td>328391582</td>\n",
       "      <td>http://en.wikipedia.org/w/index.php?diff=32839...</td>\n",
       "      <td>2009-11-28T15:21:18Z</td>\n",
       "      <td>/* Episodes */</td>\n",
       "      <td>24477266</td>\n",
       "      <td>Top Gear (series 14)</td>\n",
       "      <td>regular</td>\n",
       "      <td>3</td>\n",
       "      <td>3</td>\n",
       "      <td>1</td>\n",
       "      <td>no</td>\n",
       "      <td>43453</td>\n",
       "      <td>Sat Feb 27 03:41:24 GMT 2010</td>\n",
       "    </tr>\n",
       "    <tr>\n",
       "      <th>2</th>\n",
       "      <td>1</td>\n",
       "      <td>TheHeartbreakKid15</td>\n",
       "      <td>328391343</td>\n",
       "      <td>328391582</td>\n",
       "      <td>http://en.wikipedia.org/w/index.php?diff=32839...</td>\n",
       "      <td>2009-11-28T15:21:18Z</td>\n",
       "      <td>/* Episodes */</td>\n",
       "      <td>24477266</td>\n",
       "      <td>Top Gear (series 14)</td>\n",
       "      <td>regular</td>\n",
       "      <td>3</td>\n",
       "      <td>3</td>\n",
       "      <td>3</td>\n",
       "      <td>no</td>\n",
       "      <td>22190</td>\n",
       "      <td>Sun Feb 28 03:19:09 GMT 2010</td>\n",
       "    </tr>\n",
       "    <tr>\n",
       "      <th>3</th>\n",
       "      <td>2</td>\n",
       "      <td>Stepopen</td>\n",
       "      <td>327585467</td>\n",
       "      <td>327607921</td>\n",
       "      <td>http://en.wikipedia.org/w/index.php?diff=32760...</td>\n",
       "      <td>2009-11-24T04:43:37Z</td>\n",
       "      <td>removed factually wrong information</td>\n",
       "      <td>476288</td>\n",
       "      <td>List of United Nations resolutions concerning ...</td>\n",
       "      <td>regular</td>\n",
       "      <td>10</td>\n",
       "      <td>18</td>\n",
       "      <td>411</td>\n",
       "      <td>no</td>\n",
       "      <td>6308</td>\n",
       "      <td>Mon Mar 22 22:25:04 GMT 2010</td>\n",
       "    </tr>\n",
       "    <tr>\n",
       "      <th>4</th>\n",
       "      <td>2</td>\n",
       "      <td>Stepopen</td>\n",
       "      <td>327585467</td>\n",
       "      <td>327607921</td>\n",
       "      <td>http://en.wikipedia.org/w/index.php?diff=32760...</td>\n",
       "      <td>2009-11-24T04:43:37Z</td>\n",
       "      <td>removed factually wrong information</td>\n",
       "      <td>476288</td>\n",
       "      <td>List of United Nations resolutions concerning ...</td>\n",
       "      <td>regular</td>\n",
       "      <td>10</td>\n",
       "      <td>18</td>\n",
       "      <td>495</td>\n",
       "      <td>no</td>\n",
       "      <td>10067</td>\n",
       "      <td>Sun Mar 14 01:34:06 GMT 2010</td>\n",
       "    </tr>\n",
       "  </tbody>\n",
       "</table>\n",
       "</div>"
      ],
      "text/plain": [
       "   editid              editor  oldrevisionid  newrevisionid  \\\n",
       "0       1  TheHeartbreakKid15      328391343      328391582   \n",
       "1       1  TheHeartbreakKid15      328391343      328391582   \n",
       "2       1  TheHeartbreakKid15      328391343      328391582   \n",
       "3       2            Stepopen      327585467      327607921   \n",
       "4       2            Stepopen      327585467      327607921   \n",
       "\n",
       "                                             diffurl              edittime  \\\n",
       "0  http://en.wikipedia.org/w/index.php?diff=32839...  2009-11-28T15:21:18Z   \n",
       "1  http://en.wikipedia.org/w/index.php?diff=32839...  2009-11-28T15:21:18Z   \n",
       "2  http://en.wikipedia.org/w/index.php?diff=32839...  2009-11-28T15:21:18Z   \n",
       "3  http://en.wikipedia.org/w/index.php?diff=32760...  2009-11-24T04:43:37Z   \n",
       "4  http://en.wikipedia.org/w/index.php?diff=32760...  2009-11-24T04:43:37Z   \n",
       "\n",
       "                           editcomment  articleid  \\\n",
       "0                       /* Episodes */   24477266   \n",
       "1                       /* Episodes */   24477266   \n",
       "2                       /* Episodes */   24477266   \n",
       "3  removed factually wrong information     476288   \n",
       "4  removed factually wrong information     476288   \n",
       "\n",
       "                                        articletitle agreed_classification  \\\n",
       "0                               Top Gear (series 14)               regular   \n",
       "1                               Top Gear (series 14)               regular   \n",
       "2                               Top Gear (series 14)               regular   \n",
       "3  List of United Nations resolutions concerning ...               regular   \n",
       "4  List of United Nations resolutions concerning ...               regular   \n",
       "\n",
       "   annotators  totalannotators  annotatorid individual_classification  \\\n",
       "0           3                3            2                        no   \n",
       "1           3                3            1                        no   \n",
       "2           3                3            3                        no   \n",
       "3          10               18          411                        no   \n",
       "4          10               18          495                        no   \n",
       "\n",
       "   decisiontime                    submittime  \n",
       "0         14156  Sat Feb 27 14:55:29 GMT 2010  \n",
       "1         43453  Sat Feb 27 03:41:24 GMT 2010  \n",
       "2         22190  Sun Feb 28 03:19:09 GMT 2010  \n",
       "3          6308  Mon Mar 22 22:25:04 GMT 2010  \n",
       "4         10067  Sun Mar 14 01:34:06 GMT 2010  "
      ]
     },
     "execution_count": 19,
     "metadata": {},
     "output_type": "execute_result"
    }
   ],
   "source": [
    "wiki_combined_2.head()"
   ]
  },
  {
   "cell_type": "code",
   "execution_count": 20,
   "metadata": {
    "collapsed": true
   },
   "outputs": [],
   "source": [
    "wiki_no_revision = wiki_combined_2.copy()"
   ]
  },
  {
   "cell_type": "code",
   "execution_count": 251,
   "metadata": {
    "collapsed": false
   },
   "outputs": [],
   "source": [
    "#del wiki_no_revision['agreed_classification']"
   ]
  },
  {
   "cell_type": "code",
   "execution_count": 21,
   "metadata": {
    "collapsed": true
   },
   "outputs": [],
   "source": [
    "del wiki_no_revision['submittime']"
   ]
  },
  {
   "cell_type": "code",
   "execution_count": 22,
   "metadata": {
    "collapsed": false,
    "scrolled": true
   },
   "outputs": [
    {
     "data": {
      "text/html": [
       "<div>\n",
       "<table border=\"1\" class=\"dataframe\">\n",
       "  <thead>\n",
       "    <tr style=\"text-align: right;\">\n",
       "      <th></th>\n",
       "      <th>editid</th>\n",
       "      <th>editor</th>\n",
       "      <th>oldrevisionid</th>\n",
       "      <th>newrevisionid</th>\n",
       "      <th>diffurl</th>\n",
       "      <th>edittime</th>\n",
       "      <th>editcomment</th>\n",
       "      <th>articleid</th>\n",
       "      <th>articletitle</th>\n",
       "      <th>agreed_classification</th>\n",
       "      <th>annotators</th>\n",
       "      <th>totalannotators</th>\n",
       "      <th>annotatorid</th>\n",
       "      <th>individual_classification</th>\n",
       "      <th>decisiontime</th>\n",
       "    </tr>\n",
       "  </thead>\n",
       "  <tbody>\n",
       "    <tr>\n",
       "      <th>0</th>\n",
       "      <td>1</td>\n",
       "      <td>TheHeartbreakKid15</td>\n",
       "      <td>328391343</td>\n",
       "      <td>328391582</td>\n",
       "      <td>http://en.wikipedia.org/w/index.php?diff=32839...</td>\n",
       "      <td>2009-11-28T15:21:18Z</td>\n",
       "      <td>/* Episodes */</td>\n",
       "      <td>24477266</td>\n",
       "      <td>Top Gear (series 14)</td>\n",
       "      <td>regular</td>\n",
       "      <td>3</td>\n",
       "      <td>3</td>\n",
       "      <td>2</td>\n",
       "      <td>no</td>\n",
       "      <td>14156</td>\n",
       "    </tr>\n",
       "    <tr>\n",
       "      <th>1</th>\n",
       "      <td>1</td>\n",
       "      <td>TheHeartbreakKid15</td>\n",
       "      <td>328391343</td>\n",
       "      <td>328391582</td>\n",
       "      <td>http://en.wikipedia.org/w/index.php?diff=32839...</td>\n",
       "      <td>2009-11-28T15:21:18Z</td>\n",
       "      <td>/* Episodes */</td>\n",
       "      <td>24477266</td>\n",
       "      <td>Top Gear (series 14)</td>\n",
       "      <td>regular</td>\n",
       "      <td>3</td>\n",
       "      <td>3</td>\n",
       "      <td>1</td>\n",
       "      <td>no</td>\n",
       "      <td>43453</td>\n",
       "    </tr>\n",
       "    <tr>\n",
       "      <th>2</th>\n",
       "      <td>1</td>\n",
       "      <td>TheHeartbreakKid15</td>\n",
       "      <td>328391343</td>\n",
       "      <td>328391582</td>\n",
       "      <td>http://en.wikipedia.org/w/index.php?diff=32839...</td>\n",
       "      <td>2009-11-28T15:21:18Z</td>\n",
       "      <td>/* Episodes */</td>\n",
       "      <td>24477266</td>\n",
       "      <td>Top Gear (series 14)</td>\n",
       "      <td>regular</td>\n",
       "      <td>3</td>\n",
       "      <td>3</td>\n",
       "      <td>3</td>\n",
       "      <td>no</td>\n",
       "      <td>22190</td>\n",
       "    </tr>\n",
       "    <tr>\n",
       "      <th>3</th>\n",
       "      <td>2</td>\n",
       "      <td>Stepopen</td>\n",
       "      <td>327585467</td>\n",
       "      <td>327607921</td>\n",
       "      <td>http://en.wikipedia.org/w/index.php?diff=32760...</td>\n",
       "      <td>2009-11-24T04:43:37Z</td>\n",
       "      <td>removed factually wrong information</td>\n",
       "      <td>476288</td>\n",
       "      <td>List of United Nations resolutions concerning ...</td>\n",
       "      <td>regular</td>\n",
       "      <td>10</td>\n",
       "      <td>18</td>\n",
       "      <td>411</td>\n",
       "      <td>no</td>\n",
       "      <td>6308</td>\n",
       "    </tr>\n",
       "    <tr>\n",
       "      <th>4</th>\n",
       "      <td>2</td>\n",
       "      <td>Stepopen</td>\n",
       "      <td>327585467</td>\n",
       "      <td>327607921</td>\n",
       "      <td>http://en.wikipedia.org/w/index.php?diff=32760...</td>\n",
       "      <td>2009-11-24T04:43:37Z</td>\n",
       "      <td>removed factually wrong information</td>\n",
       "      <td>476288</td>\n",
       "      <td>List of United Nations resolutions concerning ...</td>\n",
       "      <td>regular</td>\n",
       "      <td>10</td>\n",
       "      <td>18</td>\n",
       "      <td>495</td>\n",
       "      <td>no</td>\n",
       "      <td>10067</td>\n",
       "    </tr>\n",
       "  </tbody>\n",
       "</table>\n",
       "</div>"
      ],
      "text/plain": [
       "   editid              editor  oldrevisionid  newrevisionid  \\\n",
       "0       1  TheHeartbreakKid15      328391343      328391582   \n",
       "1       1  TheHeartbreakKid15      328391343      328391582   \n",
       "2       1  TheHeartbreakKid15      328391343      328391582   \n",
       "3       2            Stepopen      327585467      327607921   \n",
       "4       2            Stepopen      327585467      327607921   \n",
       "\n",
       "                                             diffurl              edittime  \\\n",
       "0  http://en.wikipedia.org/w/index.php?diff=32839...  2009-11-28T15:21:18Z   \n",
       "1  http://en.wikipedia.org/w/index.php?diff=32839...  2009-11-28T15:21:18Z   \n",
       "2  http://en.wikipedia.org/w/index.php?diff=32839...  2009-11-28T15:21:18Z   \n",
       "3  http://en.wikipedia.org/w/index.php?diff=32760...  2009-11-24T04:43:37Z   \n",
       "4  http://en.wikipedia.org/w/index.php?diff=32760...  2009-11-24T04:43:37Z   \n",
       "\n",
       "                           editcomment  articleid  \\\n",
       "0                       /* Episodes */   24477266   \n",
       "1                       /* Episodes */   24477266   \n",
       "2                       /* Episodes */   24477266   \n",
       "3  removed factually wrong information     476288   \n",
       "4  removed factually wrong information     476288   \n",
       "\n",
       "                                        articletitle agreed_classification  \\\n",
       "0                               Top Gear (series 14)               regular   \n",
       "1                               Top Gear (series 14)               regular   \n",
       "2                               Top Gear (series 14)               regular   \n",
       "3  List of United Nations resolutions concerning ...               regular   \n",
       "4  List of United Nations resolutions concerning ...               regular   \n",
       "\n",
       "   annotators  totalannotators  annotatorid individual_classification  \\\n",
       "0           3                3            2                        no   \n",
       "1           3                3            1                        no   \n",
       "2           3                3            3                        no   \n",
       "3          10               18          411                        no   \n",
       "4          10               18          495                        no   \n",
       "\n",
       "   decisiontime  \n",
       "0         14156  \n",
       "1         43453  \n",
       "2         22190  \n",
       "3          6308  \n",
       "4         10067  "
      ]
     },
     "execution_count": 22,
     "metadata": {},
     "output_type": "execute_result"
    }
   ],
   "source": [
    "wiki_no_revision.head()"
   ]
  },
  {
   "cell_type": "code",
   "execution_count": 23,
   "metadata": {
    "collapsed": false,
    "scrolled": true
   },
   "outputs": [
    {
     "data": {
      "text/html": [
       "<div>\n",
       "<table border=\"1\" class=\"dataframe\">\n",
       "  <thead>\n",
       "    <tr style=\"text-align: right;\">\n",
       "      <th></th>\n",
       "      <th>editid</th>\n",
       "      <th>editor</th>\n",
       "      <th>oldrevisionid</th>\n",
       "      <th>newrevisionid</th>\n",
       "      <th>diffurl</th>\n",
       "      <th>edittime</th>\n",
       "      <th>editcomment</th>\n",
       "      <th>articleid</th>\n",
       "      <th>articletitle</th>\n",
       "      <th>agreed_classification</th>\n",
       "      <th>annotators</th>\n",
       "      <th>totalannotators</th>\n",
       "      <th>annotatorid</th>\n",
       "      <th>individual_classification</th>\n",
       "      <th>decisiontime</th>\n",
       "      <th>submittime</th>\n",
       "    </tr>\n",
       "  </thead>\n",
       "  <tbody>\n",
       "    <tr>\n",
       "      <th>0</th>\n",
       "      <td>1</td>\n",
       "      <td>TheHeartbreakKid15</td>\n",
       "      <td>328391343</td>\n",
       "      <td>328391582</td>\n",
       "      <td>http://en.wikipedia.org/w/index.php?diff=32839...</td>\n",
       "      <td>2009-11-28T15:21:18Z</td>\n",
       "      <td>/* Episodes */</td>\n",
       "      <td>24477266</td>\n",
       "      <td>Top Gear (series 14)</td>\n",
       "      <td>regular</td>\n",
       "      <td>3</td>\n",
       "      <td>3</td>\n",
       "      <td>2</td>\n",
       "      <td>no</td>\n",
       "      <td>14156</td>\n",
       "      <td>Sat Feb 27 14:55:29 GMT 2010</td>\n",
       "    </tr>\n",
       "    <tr>\n",
       "      <th>1</th>\n",
       "      <td>1</td>\n",
       "      <td>TheHeartbreakKid15</td>\n",
       "      <td>328391343</td>\n",
       "      <td>328391582</td>\n",
       "      <td>http://en.wikipedia.org/w/index.php?diff=32839...</td>\n",
       "      <td>2009-11-28T15:21:18Z</td>\n",
       "      <td>/* Episodes */</td>\n",
       "      <td>24477266</td>\n",
       "      <td>Top Gear (series 14)</td>\n",
       "      <td>regular</td>\n",
       "      <td>3</td>\n",
       "      <td>3</td>\n",
       "      <td>1</td>\n",
       "      <td>no</td>\n",
       "      <td>43453</td>\n",
       "      <td>Sat Feb 27 03:41:24 GMT 2010</td>\n",
       "    </tr>\n",
       "    <tr>\n",
       "      <th>2</th>\n",
       "      <td>1</td>\n",
       "      <td>TheHeartbreakKid15</td>\n",
       "      <td>328391343</td>\n",
       "      <td>328391582</td>\n",
       "      <td>http://en.wikipedia.org/w/index.php?diff=32839...</td>\n",
       "      <td>2009-11-28T15:21:18Z</td>\n",
       "      <td>/* Episodes */</td>\n",
       "      <td>24477266</td>\n",
       "      <td>Top Gear (series 14)</td>\n",
       "      <td>regular</td>\n",
       "      <td>3</td>\n",
       "      <td>3</td>\n",
       "      <td>3</td>\n",
       "      <td>no</td>\n",
       "      <td>22190</td>\n",
       "      <td>Sun Feb 28 03:19:09 GMT 2010</td>\n",
       "    </tr>\n",
       "    <tr>\n",
       "      <th>3</th>\n",
       "      <td>2</td>\n",
       "      <td>Stepopen</td>\n",
       "      <td>327585467</td>\n",
       "      <td>327607921</td>\n",
       "      <td>http://en.wikipedia.org/w/index.php?diff=32760...</td>\n",
       "      <td>2009-11-24T04:43:37Z</td>\n",
       "      <td>removed factually wrong information</td>\n",
       "      <td>476288</td>\n",
       "      <td>List of United Nations resolutions concerning ...</td>\n",
       "      <td>regular</td>\n",
       "      <td>10</td>\n",
       "      <td>18</td>\n",
       "      <td>411</td>\n",
       "      <td>no</td>\n",
       "      <td>6308</td>\n",
       "      <td>Mon Mar 22 22:25:04 GMT 2010</td>\n",
       "    </tr>\n",
       "    <tr>\n",
       "      <th>4</th>\n",
       "      <td>2</td>\n",
       "      <td>Stepopen</td>\n",
       "      <td>327585467</td>\n",
       "      <td>327607921</td>\n",
       "      <td>http://en.wikipedia.org/w/index.php?diff=32760...</td>\n",
       "      <td>2009-11-24T04:43:37Z</td>\n",
       "      <td>removed factually wrong information</td>\n",
       "      <td>476288</td>\n",
       "      <td>List of United Nations resolutions concerning ...</td>\n",
       "      <td>regular</td>\n",
       "      <td>10</td>\n",
       "      <td>18</td>\n",
       "      <td>495</td>\n",
       "      <td>no</td>\n",
       "      <td>10067</td>\n",
       "      <td>Sun Mar 14 01:34:06 GMT 2010</td>\n",
       "    </tr>\n",
       "  </tbody>\n",
       "</table>\n",
       "</div>"
      ],
      "text/plain": [
       "   editid              editor  oldrevisionid  newrevisionid  \\\n",
       "0       1  TheHeartbreakKid15      328391343      328391582   \n",
       "1       1  TheHeartbreakKid15      328391343      328391582   \n",
       "2       1  TheHeartbreakKid15      328391343      328391582   \n",
       "3       2            Stepopen      327585467      327607921   \n",
       "4       2            Stepopen      327585467      327607921   \n",
       "\n",
       "                                             diffurl              edittime  \\\n",
       "0  http://en.wikipedia.org/w/index.php?diff=32839...  2009-11-28T15:21:18Z   \n",
       "1  http://en.wikipedia.org/w/index.php?diff=32839...  2009-11-28T15:21:18Z   \n",
       "2  http://en.wikipedia.org/w/index.php?diff=32839...  2009-11-28T15:21:18Z   \n",
       "3  http://en.wikipedia.org/w/index.php?diff=32760...  2009-11-24T04:43:37Z   \n",
       "4  http://en.wikipedia.org/w/index.php?diff=32760...  2009-11-24T04:43:37Z   \n",
       "\n",
       "                           editcomment  articleid  \\\n",
       "0                       /* Episodes */   24477266   \n",
       "1                       /* Episodes */   24477266   \n",
       "2                       /* Episodes */   24477266   \n",
       "3  removed factually wrong information     476288   \n",
       "4  removed factually wrong information     476288   \n",
       "\n",
       "                                        articletitle agreed_classification  \\\n",
       "0                               Top Gear (series 14)               regular   \n",
       "1                               Top Gear (series 14)               regular   \n",
       "2                               Top Gear (series 14)               regular   \n",
       "3  List of United Nations resolutions concerning ...               regular   \n",
       "4  List of United Nations resolutions concerning ...               regular   \n",
       "\n",
       "   annotators  totalannotators  annotatorid individual_classification  \\\n",
       "0           3                3            2                        no   \n",
       "1           3                3            1                        no   \n",
       "2           3                3            3                        no   \n",
       "3          10               18          411                        no   \n",
       "4          10               18          495                        no   \n",
       "\n",
       "   decisiontime                    submittime  \n",
       "0         14156  Sat Feb 27 14:55:29 GMT 2010  \n",
       "1         43453  Sat Feb 27 03:41:24 GMT 2010  \n",
       "2         22190  Sun Feb 28 03:19:09 GMT 2010  \n",
       "3          6308  Mon Mar 22 22:25:04 GMT 2010  \n",
       "4         10067  Sun Mar 14 01:34:06 GMT 2010  "
      ]
     },
     "execution_count": 23,
     "metadata": {},
     "output_type": "execute_result"
    }
   ],
   "source": [
    "wiki_combined_2.head()"
   ]
  },
  {
   "cell_type": "markdown",
   "metadata": {},
   "source": [
    "# Testing sklearn_pandas for PCA"
   ]
  },
  {
   "cell_type": "code",
   "execution_count": 24,
   "metadata": {
    "collapsed": false
   },
   "outputs": [],
   "source": [
    "from sklearn_pandas import DataFrameMapper, cross_val_score"
   ]
  },
  {
   "cell_type": "code",
   "execution_count": 25,
   "metadata": {
    "collapsed": false
   },
   "outputs": [],
   "source": [
    "import pandas as pd\n",
    "import numpy as np\n",
    "import sklearn.preprocessing, sklearn.decomposition, sklearn.linear_model, sklearn.pipeline, sklearn.metrics"
   ]
  },
  {
   "cell_type": "code",
   "execution_count": 84,
   "metadata": {
    "collapsed": false
   },
   "outputs": [],
   "source": [
    "from sklearn.feature_extraction.text import CountVectorizer\n",
    "from sklearn import svm\n",
    "from sklearn.ensemble import RandomForestClassifier\n",
    "from sklearn import linear_model\n",
    "from sklearn import metrics"
   ]
  },
  {
   "cell_type": "code",
   "execution_count": 27,
   "metadata": {
    "collapsed": false
   },
   "outputs": [
    {
     "data": {
      "text/plain": [
       "(153620, 16)"
      ]
     },
     "execution_count": 27,
     "metadata": {},
     "output_type": "execute_result"
    }
   ],
   "source": [
    "wiki_combined_2.shape #use wiki_combined"
   ]
  },
  {
   "cell_type": "code",
   "execution_count": 88,
   "metadata": {
    "collapsed": false
   },
   "outputs": [
    {
     "data": {
      "text/plain": [
       "(32439, 12)"
      ]
     },
     "execution_count": 88,
     "metadata": {},
     "output_type": "execute_result"
    }
   ],
   "source": [
    "wiki_combined.shape"
   ]
  },
  {
   "cell_type": "code",
   "execution_count": 40,
   "metadata": {
    "collapsed": false
   },
   "outputs": [],
   "source": [
    "wiki_train_data = wiki_combined_2[:70000] #data"
   ]
  },
  {
   "cell_type": "code",
   "execution_count": 269,
   "metadata": {
    "collapsed": false
   },
   "outputs": [],
   "source": [
    "# I can use this thing to improve the Logistic Regression model\n",
    "X = DataFrameMapper([(['articletitle'], CountVectorizer()), (['editcomment'], CountVectorizer())])"
   ]
  },
  {
   "cell_type": "code",
   "execution_count": 70,
   "metadata": {
    "collapsed": true
   },
   "outputs": [],
   "source": [
    "wiki_vectorizer = CountVectorizer(max_features = 16568)"
   ]
  },
  {
   "cell_type": "code",
   "execution_count": 71,
   "metadata": {
    "collapsed": false
   },
   "outputs": [],
   "source": [
    "wiki_train_datafeatures = wiki_vectorizer.fit_transform(wiki_train_articles)"
   ]
  },
  {
   "cell_type": "code",
   "execution_count": 72,
   "metadata": {
    "collapsed": true
   },
   "outputs": [],
   "source": [
    "wiki_train_articles = wiki_train_data[\"articletitle\"].tolist()"
   ]
  },
  {
   "cell_type": "code",
   "execution_count": 73,
   "metadata": {
    "collapsed": false
   },
   "outputs": [],
   "source": [
    "wiki_train_datafeatures = wiki_train_datafeatures.toarray()"
   ]
  },
  {
   "cell_type": "code",
   "execution_count": 74,
   "metadata": {
    "collapsed": false
   },
   "outputs": [
    {
     "data": {
      "text/plain": [
       "(70000, 16568)"
      ]
     },
     "execution_count": 74,
     "metadata": {},
     "output_type": "execute_result"
    }
   ],
   "source": [
    "wiki_train_datafeatures.shape"
   ]
  },
  {
   "cell_type": "code",
   "execution_count": 75,
   "metadata": {
    "collapsed": false
   },
   "outputs": [],
   "source": [
    "wiki_SGD = linear_model.SGDClassifier(loss='log')"
   ]
  },
  {
   "cell_type": "code",
   "execution_count": 76,
   "metadata": {
    "collapsed": true
   },
   "outputs": [],
   "source": [
    "wiki_SGD = wiki_SGD.fit(wiki_train_datafeatures, y) #model"
   ]
  },
  {
   "cell_type": "code",
   "execution_count": 36,
   "metadata": {
    "collapsed": true
   },
   "outputs": [],
   "source": [
    "y = wiki_combined_2[\"agreed_classification\"][:70000].tolist()"
   ]
  },
  {
   "cell_type": "markdown",
   "metadata": {},
   "source": [
    "# Start Testing"
   ]
  },
  {
   "cell_type": "code",
   "execution_count": 77,
   "metadata": {
    "collapsed": false
   },
   "outputs": [],
   "source": [
    "wiki_test_data = wiki_combined_2[70000:]"
   ]
  },
  {
   "cell_type": "code",
   "execution_count": 78,
   "metadata": {
    "collapsed": true
   },
   "outputs": [],
   "source": [
    "wiki_test_articles = wiki_test_data[\"articletitle\"].tolist()"
   ]
  },
  {
   "cell_type": "code",
   "execution_count": 79,
   "metadata": {
    "collapsed": true
   },
   "outputs": [],
   "source": [
    "wiki_gold_annotations = wiki_combined_2[\"agreed_classification\"][70000:].tolist()"
   ]
  },
  {
   "cell_type": "code",
   "execution_count": 80,
   "metadata": {
    "collapsed": true
   },
   "outputs": [],
   "source": [
    "wiki_test_datafeatures = wiki_vectorizer.fit_transform(wiki_test_articles)"
   ]
  },
  {
   "cell_type": "code",
   "execution_count": 81,
   "metadata": {
    "collapsed": true
   },
   "outputs": [],
   "source": [
    "wiki_test_datafeatures = wiki_test_datafeatures.toarray()"
   ]
  },
  {
   "cell_type": "code",
   "execution_count": 83,
   "metadata": {
    "collapsed": false
   },
   "outputs": [],
   "source": [
    "wiki_test_result = wiki_SGD.predict(wiki_test_datafeatures)"
   ]
  },
  {
   "cell_type": "code",
   "execution_count": 86,
   "metadata": {
    "collapsed": false
   },
   "outputs": [
    {
     "name": "stdout",
     "output_type": "stream",
     "text": [
      "0.84124611337\n"
     ]
    }
   ],
   "source": [
    "wiki_test_accuracy = metrics.accuracy_score(wiki_gold_annotations, wiki_test_result)\n",
    "print(wiki_test_accuracy)"
   ]
  },
  {
   "cell_type": "code",
   "execution_count": 87,
   "metadata": {
    "collapsed": false
   },
   "outputs": [
    {
     "name": "stdout",
     "output_type": "stream",
     "text": [
      "classification report:               precision    recall  f1-score   support\n",
      "\n",
      "    regular       0.85      0.99      0.91     70934\n",
      "  vandalism       0.15      0.01      0.02     12686\n",
      "\n",
      "avg / total       0.74      0.84      0.78     83620\n",
      "\n"
     ]
    }
   ],
   "source": [
    "print(\"classification report: \", metrics.classification_report(wiki_gold_annotations, wiki_test_result))"
   ]
  },
  {
   "cell_type": "markdown",
   "metadata": {},
   "source": [
    "# END OF WIKI MODEL WORK"
   ]
  },
  {
   "cell_type": "code",
   "execution_count": null,
   "metadata": {
    "collapsed": true
   },
   "outputs": [],
   "source": []
  },
  {
   "cell_type": "code",
   "execution_count": 273,
   "metadata": {
    "collapsed": true
   },
   "outputs": [],
   "source": [
    "clf = svm.SVC()"
   ]
  },
  {
   "cell_type": "code",
   "execution_count": 274,
   "metadata": {
    "collapsed": false
   },
   "outputs": [
    {
     "ename": "TypeError",
     "evalue": "float() argument must be a string or a number, not 'DataFrameMapper'",
     "output_type": "error",
     "traceback": [
      "\u001b[0;31m---------------------------------------------------------------------------\u001b[0m",
      "\u001b[0;31mTypeError\u001b[0m                                 Traceback (most recent call last)",
      "\u001b[0;32m<ipython-input-274-d0ed00571a1e>\u001b[0m in \u001b[0;36m<module>\u001b[0;34m()\u001b[0m\n\u001b[0;32m----> 1\u001b[0;31m \u001b[0mclf\u001b[0m\u001b[0;34m.\u001b[0m\u001b[0mfit\u001b[0m\u001b[0;34m(\u001b[0m\u001b[0mX\u001b[0m\u001b[0;34m,\u001b[0m \u001b[0my\u001b[0m\u001b[0;34m)\u001b[0m\u001b[0;34m\u001b[0m\u001b[0m\n\u001b[0m\u001b[1;32m      2\u001b[0m SVC(C=100.0, cache_size=200, class_weight=None, coef0=0.0,\n\u001b[1;32m      3\u001b[0m   \u001b[0mdecision_function_shape\u001b[0m\u001b[0;34m=\u001b[0m\u001b[0;32mNone\u001b[0m\u001b[0;34m,\u001b[0m \u001b[0mdegree\u001b[0m\u001b[0;34m=\u001b[0m\u001b[0;36m3\u001b[0m\u001b[0;34m,\u001b[0m \u001b[0mgamma\u001b[0m\u001b[0;34m=\u001b[0m\u001b[0;36m0.001\u001b[0m\u001b[0;34m,\u001b[0m \u001b[0mkernel\u001b[0m\u001b[0;34m=\u001b[0m\u001b[0;34m'rbf'\u001b[0m\u001b[0;34m,\u001b[0m\u001b[0;34m\u001b[0m\u001b[0m\n\u001b[1;32m      4\u001b[0m   \u001b[0mmax_iter\u001b[0m\u001b[0;34m=\u001b[0m\u001b[0;34m-\u001b[0m\u001b[0;36m1\u001b[0m\u001b[0;34m,\u001b[0m \u001b[0mprobability\u001b[0m\u001b[0;34m=\u001b[0m\u001b[0;32mFalse\u001b[0m\u001b[0;34m,\u001b[0m \u001b[0mrandom_state\u001b[0m\u001b[0;34m=\u001b[0m\u001b[0;32mNone\u001b[0m\u001b[0;34m,\u001b[0m \u001b[0mshrinking\u001b[0m\u001b[0;34m=\u001b[0m\u001b[0;32mTrue\u001b[0m\u001b[0;34m,\u001b[0m\u001b[0;34m\u001b[0m\u001b[0m\n\u001b[1;32m      5\u001b[0m   tol=0.001, verbose=False)\n",
      "\u001b[0;32m/Users/admin/anaconda/lib/python3.5/site-packages/sklearn/svm/base.py\u001b[0m in \u001b[0;36mfit\u001b[0;34m(self, X, y, sample_weight)\u001b[0m\n\u001b[1;32m    148\u001b[0m         \u001b[0mself\u001b[0m\u001b[0;34m.\u001b[0m\u001b[0m_sparse\u001b[0m \u001b[0;34m=\u001b[0m \u001b[0msparse\u001b[0m \u001b[0;32mand\u001b[0m \u001b[0;32mnot\u001b[0m \u001b[0mcallable\u001b[0m\u001b[0;34m(\u001b[0m\u001b[0mself\u001b[0m\u001b[0;34m.\u001b[0m\u001b[0mkernel\u001b[0m\u001b[0;34m)\u001b[0m\u001b[0;34m\u001b[0m\u001b[0m\n\u001b[1;32m    149\u001b[0m \u001b[0;34m\u001b[0m\u001b[0m\n\u001b[0;32m--> 150\u001b[0;31m         \u001b[0mX\u001b[0m \u001b[0;34m=\u001b[0m \u001b[0mcheck_array\u001b[0m\u001b[0;34m(\u001b[0m\u001b[0mX\u001b[0m\u001b[0;34m,\u001b[0m \u001b[0maccept_sparse\u001b[0m\u001b[0;34m=\u001b[0m\u001b[0;34m'csr'\u001b[0m\u001b[0;34m,\u001b[0m \u001b[0mdtype\u001b[0m\u001b[0;34m=\u001b[0m\u001b[0mnp\u001b[0m\u001b[0;34m.\u001b[0m\u001b[0mfloat64\u001b[0m\u001b[0;34m,\u001b[0m \u001b[0morder\u001b[0m\u001b[0;34m=\u001b[0m\u001b[0;34m'C'\u001b[0m\u001b[0;34m)\u001b[0m\u001b[0;34m\u001b[0m\u001b[0m\n\u001b[0m\u001b[1;32m    151\u001b[0m         \u001b[0my\u001b[0m \u001b[0;34m=\u001b[0m \u001b[0mself\u001b[0m\u001b[0;34m.\u001b[0m\u001b[0m_validate_targets\u001b[0m\u001b[0;34m(\u001b[0m\u001b[0my\u001b[0m\u001b[0;34m)\u001b[0m\u001b[0;34m\u001b[0m\u001b[0m\n\u001b[1;32m    152\u001b[0m \u001b[0;34m\u001b[0m\u001b[0m\n",
      "\u001b[0;32m/Users/admin/anaconda/lib/python3.5/site-packages/sklearn/utils/validation.py\u001b[0m in \u001b[0;36mcheck_array\u001b[0;34m(array, accept_sparse, dtype, order, copy, force_all_finite, ensure_2d, allow_nd, ensure_min_samples, ensure_min_features, warn_on_dtype, estimator)\u001b[0m\n\u001b[1;32m    371\u001b[0m                                       force_all_finite)\n\u001b[1;32m    372\u001b[0m     \u001b[0;32melse\u001b[0m\u001b[0;34m:\u001b[0m\u001b[0;34m\u001b[0m\u001b[0m\n\u001b[0;32m--> 373\u001b[0;31m         \u001b[0marray\u001b[0m \u001b[0;34m=\u001b[0m \u001b[0mnp\u001b[0m\u001b[0;34m.\u001b[0m\u001b[0marray\u001b[0m\u001b[0;34m(\u001b[0m\u001b[0marray\u001b[0m\u001b[0;34m,\u001b[0m \u001b[0mdtype\u001b[0m\u001b[0;34m=\u001b[0m\u001b[0mdtype\u001b[0m\u001b[0;34m,\u001b[0m \u001b[0morder\u001b[0m\u001b[0;34m=\u001b[0m\u001b[0morder\u001b[0m\u001b[0;34m,\u001b[0m \u001b[0mcopy\u001b[0m\u001b[0;34m=\u001b[0m\u001b[0mcopy\u001b[0m\u001b[0;34m)\u001b[0m\u001b[0;34m\u001b[0m\u001b[0m\n\u001b[0m\u001b[1;32m    374\u001b[0m \u001b[0;34m\u001b[0m\u001b[0m\n\u001b[1;32m    375\u001b[0m         \u001b[0;32mif\u001b[0m \u001b[0mensure_2d\u001b[0m\u001b[0;34m:\u001b[0m\u001b[0;34m\u001b[0m\u001b[0m\n",
      "\u001b[0;31mTypeError\u001b[0m: float() argument must be a string or a number, not 'DataFrameMapper'"
     ]
    }
   ],
   "source": [
    "clf.fit(X, y)  \n",
    "SVC(C=100.0, cache_size=200, class_weight=None, coef0=0.0,\n",
    "  decision_function_shape=None, degree=3, gamma=0.001, kernel='rbf',\n",
    "  max_iter=-1, probability=False, random_state=None, shrinking=True,\n",
    "  tol=0.001, verbose=False)"
   ]
  },
  {
   "cell_type": "code",
   "execution_count": null,
   "metadata": {
    "collapsed": true
   },
   "outputs": [],
   "source": []
  },
  {
   "cell_type": "code",
   "execution_count": null,
   "metadata": {
    "collapsed": true
   },
   "outputs": [],
   "source": []
  },
  {
   "cell_type": "code",
   "execution_count": null,
   "metadata": {
    "collapsed": true
   },
   "outputs": [],
   "source": []
  },
  {
   "cell_type": "code",
   "execution_count": null,
   "metadata": {
    "collapsed": false
   },
   "outputs": [],
   "source": [
    "#wiki_combined_2.apply(lambda x: pd.to_numeric(x, errors='ignore'))"
   ]
  },
  {
   "cell_type": "code",
   "execution_count": null,
   "metadata": {
    "collapsed": false
   },
   "outputs": [],
   "source": [
    "#wiki_no_revision.apply(lambda x: pd.to_numeric(x, errors='ignore'))"
   ]
  },
  {
   "cell_type": "code",
   "execution_count": 217,
   "metadata": {
    "collapsed": false
   },
   "outputs": [
    {
     "data": {
      "text/plain": [
       "editid                        int64\n",
       "editor                       object\n",
       "oldrevisionid                 int64\n",
       "newrevisionid                 int64\n",
       "diffurl                      object\n",
       "edittime                     object\n",
       "editcomment                  object\n",
       "articleid                     int64\n",
       "articletitle                 object\n",
       "annotators                    int64\n",
       "totalannotators               int64\n",
       "annotatorid                   int64\n",
       "individual_classification    object\n",
       "decisiontime                  int64\n",
       "dtype: object"
      ]
     },
     "execution_count": 217,
     "metadata": {},
     "output_type": "execute_result"
    }
   ],
   "source": [
    "wiki_no_revision.dtypes"
   ]
  },
  {
   "cell_type": "code",
   "execution_count": 228,
   "metadata": {
    "collapsed": false
   },
   "outputs": [
    {
     "name": "stdout",
     "output_type": "stream",
     "text": [
      "no\n"
     ]
    }
   ],
   "source": [
    "word = wiki_no_revision[\"individual_classification\"][0]\n",
    "print(word)"
   ]
  },
  {
   "cell_type": "code",
   "execution_count": 230,
   "metadata": {
    "collapsed": true
   },
   "outputs": [],
   "source": [
    "ind_class = wiki_no_revision[\"individual_classification\"].tolist()"
   ]
  },
  {
   "cell_type": "code",
   "execution_count": null,
   "metadata": {
    "collapsed": false
   },
   "outputs": [],
   "source": []
  },
  {
   "cell_type": "code",
   "execution_count": null,
   "metadata": {
    "collapsed": true
   },
   "outputs": [],
   "source": []
  },
  {
   "cell_type": "code",
   "execution_count": null,
   "metadata": {
    "collapsed": false
   },
   "outputs": [],
   "source": []
  },
  {
   "cell_type": "code",
   "execution_count": null,
   "metadata": {
    "collapsed": true
   },
   "outputs": [],
   "source": []
  },
  {
   "cell_type": "code",
   "execution_count": 225,
   "metadata": {
    "collapsed": false
   },
   "outputs": [],
   "source": [
    "#wiki_no_revision.individual_classification = wiki_no_revision.individual_classification.astype(float)"
   ]
  },
  {
   "cell_type": "code",
   "execution_count": 226,
   "metadata": {
    "collapsed": false
   },
   "outputs": [],
   "source": [
    "#wiki_no_revision[['editor', 'diffurl', 'edittime', 'editcomment', 'articletitle']] = wiki_no_revision[['editor', 'diffurl', 'edittime', 'editcomment', 'articletitle']].astype(float)"
   ]
  },
  {
   "cell_type": "code",
   "execution_count": 213,
   "metadata": {
    "collapsed": false
   },
   "outputs": [],
   "source": [
    "from sklearn import svm\n",
    "from sklearn import datasets\n",
    "from sklearn.ensemble import RandomForestClassifier\n",
    "clf = svm.SVC()\n",
    "X,y = wiki_no_revision, wiki_combined_2[\"agreed_classification\"]\n"
   ]
  },
  {
   "cell_type": "code",
   "execution_count": 214,
   "metadata": {
    "collapsed": false
   },
   "outputs": [],
   "source": [
    "clf2 = RandomForestClassifier(n_estimators=10, max_depth=None, min_samples_split=2, random_state=0)"
   ]
  },
  {
   "cell_type": "code",
   "execution_count": null,
   "metadata": {
    "collapsed": false
   },
   "outputs": [],
   "source": [
    "#clf2.fit(X, y)"
   ]
  },
  {
   "cell_type": "code",
   "execution_count": 155,
   "metadata": {
    "collapsed": false
   },
   "outputs": [
    {
     "data": {
      "text/plain": [
       "array(['editid', 'editor', 'oldrevisionid', 'newrevisionid', 'diffurl',\n",
       "       'edittime', 'editcomment', 'articleid', 'articletitle',\n",
       "       'agreed_classification', 'annotators', 'totalannotators',\n",
       "       'annotatorid', 'individual_classification', 'decisiontime',\n",
       "       'submittime'], dtype=object)"
      ]
     },
     "execution_count": 155,
     "metadata": {},
     "output_type": "execute_result"
    }
   ],
   "source": [
    "wiki_combined_2.columns.values\n"
   ]
  },
  {
   "cell_type": "code",
   "execution_count": null,
   "metadata": {
    "collapsed": false
   },
   "outputs": [],
   "source": []
  },
  {
   "cell_type": "code",
   "execution_count": null,
   "metadata": {
    "collapsed": true
   },
   "outputs": [],
   "source": []
  }
 ],
 "metadata": {
  "anaconda-cloud": {},
  "kernelspec": {
   "display_name": "Python [conda root]",
   "language": "python",
   "name": "conda-root-py"
  },
  "language_info": {
   "codemirror_mode": {
    "name": "ipython",
    "version": 3
   },
   "file_extension": ".py",
   "mimetype": "text/x-python",
   "name": "python",
   "nbconvert_exporter": "python",
   "pygments_lexer": "ipython3",
   "version": "3.5.2"
  }
 },
 "nbformat": 4,
 "nbformat_minor": 1
}
