{
 "cells": [
  {
   "cell_type": "markdown",
   "metadata": {
    "collapsed": true
   },
   "source": [
    "# Wikipedia Vandelism\n",
    "## Logistic Regression Model"
   ]
  },
  {
   "cell_type": "code",
   "execution_count": 1,
   "metadata": {
    "collapsed": false
   },
   "outputs": [],
   "source": [
    "import pandas as pd\n",
    "from pandas import DataFrame, Series\n",
    "import numpy as np\n",
    "import matplotlib.pyplot as plt\n",
    "%matplotlib inline"
   ]
  },
  {
   "cell_type": "code",
   "execution_count": 2,
   "metadata": {
    "collapsed": true
   },
   "outputs": [],
   "source": [
    "edits = pd.read_csv('edits.csv')\n",
    "annotators = pd.read_csv('annotators.csv')\n",
    "annotations = pd.read_csv('annotations.csv')\n",
    "gannotations = pd.read_csv('gold-annotations.csv')"
   ]
  },
  {
   "cell_type": "code",
   "execution_count": 3,
   "metadata": {
    "collapsed": false
   },
   "outputs": [
    {
     "data": {
      "text/html": [
       "<div>\n",
       "<table border=\"1\" class=\"dataframe\">\n",
       "  <thead>\n",
       "    <tr style=\"text-align: right;\">\n",
       "      <th></th>\n",
       "      <th>editid</th>\n",
       "      <th>editor</th>\n",
       "      <th>oldrevisionid</th>\n",
       "      <th>newrevisionid</th>\n",
       "      <th>diffurl</th>\n",
       "      <th>edittime</th>\n",
       "      <th>editcomment</th>\n",
       "      <th>articleid</th>\n",
       "      <th>articletitle</th>\n",
       "    </tr>\n",
       "  </thead>\n",
       "  <tbody>\n",
       "    <tr>\n",
       "      <th>0</th>\n",
       "      <td>1</td>\n",
       "      <td>TheHeartbreakKid15</td>\n",
       "      <td>328391343</td>\n",
       "      <td>328391582</td>\n",
       "      <td>http://en.wikipedia.org/w/index.php?diff=32839...</td>\n",
       "      <td>2009-11-28T15:21:18Z</td>\n",
       "      <td>/* Episodes */</td>\n",
       "      <td>24477266</td>\n",
       "      <td>Top Gear (series 14)</td>\n",
       "    </tr>\n",
       "    <tr>\n",
       "      <th>1</th>\n",
       "      <td>2</td>\n",
       "      <td>Stepopen</td>\n",
       "      <td>327585467</td>\n",
       "      <td>327607921</td>\n",
       "      <td>http://en.wikipedia.org/w/index.php?diff=32760...</td>\n",
       "      <td>2009-11-24T04:43:37Z</td>\n",
       "      <td>removed factually wrong information</td>\n",
       "      <td>476288</td>\n",
       "      <td>List of United Nations resolutions concerning ...</td>\n",
       "    </tr>\n",
       "    <tr>\n",
       "      <th>2</th>\n",
       "      <td>3</td>\n",
       "      <td>93.6.135.185</td>\n",
       "      <td>328227083</td>\n",
       "      <td>328242890</td>\n",
       "      <td>http://en.wikipedia.org/w/index.php?diff=32824...</td>\n",
       "      <td>2009-11-27T18:22:12Z</td>\n",
       "      <td>/* History */</td>\n",
       "      <td>174853</td>\n",
       "      <td>W.A.S.P.</td>\n",
       "    </tr>\n",
       "    <tr>\n",
       "      <th>3</th>\n",
       "      <td>4</td>\n",
       "      <td>Plasticspork</td>\n",
       "      <td>314955274</td>\n",
       "      <td>327191082</td>\n",
       "      <td>http://en.wikipedia.org/w/index.php?diff=32719...</td>\n",
       "      <td>2009-11-21T23:12:24Z</td>\n",
       "      <td>Clean infobox + general fixes using [[Project:...</td>\n",
       "      <td>1418363</td>\n",
       "      <td>Psusennes II</td>\n",
       "    </tr>\n",
       "    <tr>\n",
       "      <th>4</th>\n",
       "      <td>5</td>\n",
       "      <td>Thatguyflint</td>\n",
       "      <td>329276563</td>\n",
       "      <td>329276581</td>\n",
       "      <td>http://en.wikipedia.org/w/index.php?diff=32927...</td>\n",
       "      <td>2009-12-02T17:45:02Z</td>\n",
       "      <td>Reverted edits by [[Special:Contributions/151....</td>\n",
       "      <td>1930796</td>\n",
       "      <td>James W. Robinson, Jr.</td>\n",
       "    </tr>\n",
       "  </tbody>\n",
       "</table>\n",
       "</div>"
      ],
      "text/plain": [
       "   editid              editor  oldrevisionid  newrevisionid  \\\n",
       "0       1  TheHeartbreakKid15      328391343      328391582   \n",
       "1       2            Stepopen      327585467      327607921   \n",
       "2       3        93.6.135.185      328227083      328242890   \n",
       "3       4        Plasticspork      314955274      327191082   \n",
       "4       5        Thatguyflint      329276563      329276581   \n",
       "\n",
       "                                             diffurl              edittime  \\\n",
       "0  http://en.wikipedia.org/w/index.php?diff=32839...  2009-11-28T15:21:18Z   \n",
       "1  http://en.wikipedia.org/w/index.php?diff=32760...  2009-11-24T04:43:37Z   \n",
       "2  http://en.wikipedia.org/w/index.php?diff=32824...  2009-11-27T18:22:12Z   \n",
       "3  http://en.wikipedia.org/w/index.php?diff=32719...  2009-11-21T23:12:24Z   \n",
       "4  http://en.wikipedia.org/w/index.php?diff=32927...  2009-12-02T17:45:02Z   \n",
       "\n",
       "                                         editcomment  articleid  \\\n",
       "0                                     /* Episodes */   24477266   \n",
       "1                removed factually wrong information     476288   \n",
       "2                                      /* History */     174853   \n",
       "3  Clean infobox + general fixes using [[Project:...    1418363   \n",
       "4  Reverted edits by [[Special:Contributions/151....    1930796   \n",
       "\n",
       "                                        articletitle  \n",
       "0                               Top Gear (series 14)  \n",
       "1  List of United Nations resolutions concerning ...  \n",
       "2                                           W.A.S.P.  \n",
       "3                                       Psusennes II  \n",
       "4                             James W. Robinson, Jr.  "
      ]
     },
     "execution_count": 3,
     "metadata": {},
     "output_type": "execute_result"
    }
   ],
   "source": [
    "edits.head()"
   ]
  },
  {
   "cell_type": "code",
   "execution_count": 4,
   "metadata": {
    "collapsed": false
   },
   "outputs": [
    {
     "data": {
      "text/html": [
       "<div>\n",
       "<table border=\"1\" class=\"dataframe\">\n",
       "  <thead>\n",
       "    <tr style=\"text-align: right;\">\n",
       "      <th></th>\n",
       "      <th>annotatorid</th>\n",
       "      <th>age</th>\n",
       "      <th>sex</th>\n",
       "      <th>reading</th>\n",
       "      <th>editing</th>\n",
       "      <th>vandalizing</th>\n",
       "      <th>noticing</th>\n",
       "    </tr>\n",
       "  </thead>\n",
       "  <tbody>\n",
       "    <tr>\n",
       "      <th>0</th>\n",
       "      <td>1</td>\n",
       "      <td>23.0</td>\n",
       "      <td>male</td>\n",
       "      <td>daily</td>\n",
       "      <td>less</td>\n",
       "      <td>no</td>\n",
       "      <td>weekly</td>\n",
       "    </tr>\n",
       "    <tr>\n",
       "      <th>1</th>\n",
       "      <td>2</td>\n",
       "      <td>23.0</td>\n",
       "      <td>male</td>\n",
       "      <td>daily</td>\n",
       "      <td>less</td>\n",
       "      <td>no</td>\n",
       "      <td>less</td>\n",
       "    </tr>\n",
       "    <tr>\n",
       "      <th>2</th>\n",
       "      <td>3</td>\n",
       "      <td>26.0</td>\n",
       "      <td>male</td>\n",
       "      <td>daily</td>\n",
       "      <td>less</td>\n",
       "      <td>yes</td>\n",
       "      <td>monthly</td>\n",
       "    </tr>\n",
       "    <tr>\n",
       "      <th>3</th>\n",
       "      <td>4</td>\n",
       "      <td>30.0</td>\n",
       "      <td>male</td>\n",
       "      <td>daily</td>\n",
       "      <td>never</td>\n",
       "      <td>no</td>\n",
       "      <td>never</td>\n",
       "    </tr>\n",
       "    <tr>\n",
       "      <th>4</th>\n",
       "      <td>5</td>\n",
       "      <td>27.0</td>\n",
       "      <td>male</td>\n",
       "      <td>weekly</td>\n",
       "      <td>never</td>\n",
       "      <td>no</td>\n",
       "      <td>never</td>\n",
       "    </tr>\n",
       "  </tbody>\n",
       "</table>\n",
       "</div>"
      ],
      "text/plain": [
       "   annotatorid   age   sex reading editing vandalizing noticing\n",
       "0            1  23.0  male   daily    less          no   weekly\n",
       "1            2  23.0  male   daily    less          no     less\n",
       "2            3  26.0  male   daily    less         yes  monthly\n",
       "3            4  30.0  male   daily   never          no    never\n",
       "4            5  27.0  male  weekly   never          no    never"
      ]
     },
     "execution_count": 4,
     "metadata": {},
     "output_type": "execute_result"
    }
   ],
   "source": [
    "annotators.head()"
   ]
  },
  {
   "cell_type": "code",
   "execution_count": 5,
   "metadata": {
    "collapsed": false
   },
   "outputs": [
    {
     "data": {
      "text/html": [
       "<div>\n",
       "<table border=\"1\" class=\"dataframe\">\n",
       "  <thead>\n",
       "    <tr style=\"text-align: right;\">\n",
       "      <th></th>\n",
       "      <th>editid</th>\n",
       "      <th>annotatorid</th>\n",
       "      <th>class</th>\n",
       "      <th>decisiontime</th>\n",
       "      <th>submittime</th>\n",
       "    </tr>\n",
       "  </thead>\n",
       "  <tbody>\n",
       "    <tr>\n",
       "      <th>0</th>\n",
       "      <td>1642</td>\n",
       "      <td>83</td>\n",
       "      <td>no</td>\n",
       "      <td>7755</td>\n",
       "      <td>Tue Mar 02 19:46:32 GMT 2010</td>\n",
       "    </tr>\n",
       "    <tr>\n",
       "      <th>1</th>\n",
       "      <td>1643</td>\n",
       "      <td>83</td>\n",
       "      <td>no</td>\n",
       "      <td>21713</td>\n",
       "      <td>Tue Mar 02 19:46:32 GMT 2010</td>\n",
       "    </tr>\n",
       "    <tr>\n",
       "      <th>2</th>\n",
       "      <td>1641</td>\n",
       "      <td>83</td>\n",
       "      <td>no</td>\n",
       "      <td>11653</td>\n",
       "      <td>Tue Mar 02 19:46:32 GMT 2010</td>\n",
       "    </tr>\n",
       "    <tr>\n",
       "      <th>3</th>\n",
       "      <td>1640</td>\n",
       "      <td>83</td>\n",
       "      <td>no</td>\n",
       "      <td>10387</td>\n",
       "      <td>Tue Mar 02 19:46:32 GMT 2010</td>\n",
       "    </tr>\n",
       "    <tr>\n",
       "      <th>4</th>\n",
       "      <td>1639</td>\n",
       "      <td>83</td>\n",
       "      <td>no</td>\n",
       "      <td>10776</td>\n",
       "      <td>Tue Mar 02 19:46:32 GMT 2010</td>\n",
       "    </tr>\n",
       "  </tbody>\n",
       "</table>\n",
       "</div>"
      ],
      "text/plain": [
       "   editid  annotatorid class  decisiontime                    submittime\n",
       "0    1642           83    no          7755  Tue Mar 02 19:46:32 GMT 2010\n",
       "1    1643           83    no         21713  Tue Mar 02 19:46:32 GMT 2010\n",
       "2    1641           83    no         11653  Tue Mar 02 19:46:32 GMT 2010\n",
       "3    1640           83    no         10387  Tue Mar 02 19:46:32 GMT 2010\n",
       "4    1639           83    no         10776  Tue Mar 02 19:46:32 GMT 2010"
      ]
     },
     "execution_count": 5,
     "metadata": {},
     "output_type": "execute_result"
    }
   ],
   "source": [
    "annotations.head() "
   ]
  },
  {
   "cell_type": "code",
   "execution_count": 6,
   "metadata": {
    "collapsed": false
   },
   "outputs": [
    {
     "data": {
      "text/html": [
       "<div>\n",
       "<table border=\"1\" class=\"dataframe\">\n",
       "  <thead>\n",
       "    <tr style=\"text-align: right;\">\n",
       "      <th></th>\n",
       "      <th>editid</th>\n",
       "      <th>class</th>\n",
       "      <th>annotators</th>\n",
       "      <th>totalannotators</th>\n",
       "    </tr>\n",
       "  </thead>\n",
       "  <tbody>\n",
       "    <tr>\n",
       "      <th>0</th>\n",
       "      <td>1</td>\n",
       "      <td>regular</td>\n",
       "      <td>3</td>\n",
       "      <td>3</td>\n",
       "    </tr>\n",
       "    <tr>\n",
       "      <th>1</th>\n",
       "      <td>2</td>\n",
       "      <td>regular</td>\n",
       "      <td>10</td>\n",
       "      <td>18</td>\n",
       "    </tr>\n",
       "    <tr>\n",
       "      <th>2</th>\n",
       "      <td>3</td>\n",
       "      <td>regular</td>\n",
       "      <td>3</td>\n",
       "      <td>3</td>\n",
       "    </tr>\n",
       "    <tr>\n",
       "      <th>3</th>\n",
       "      <td>4</td>\n",
       "      <td>regular</td>\n",
       "      <td>3</td>\n",
       "      <td>3</td>\n",
       "    </tr>\n",
       "    <tr>\n",
       "      <th>4</th>\n",
       "      <td>5</td>\n",
       "      <td>regular</td>\n",
       "      <td>5</td>\n",
       "      <td>6</td>\n",
       "    </tr>\n",
       "  </tbody>\n",
       "</table>\n",
       "</div>"
      ],
      "text/plain": [
       "   editid    class  annotators  totalannotators\n",
       "0       1  regular           3                3\n",
       "1       2  regular          10               18\n",
       "2       3  regular           3                3\n",
       "3       4  regular           3                3\n",
       "4       5  regular           5                6"
      ]
     },
     "execution_count": 6,
     "metadata": {},
     "output_type": "execute_result"
    }
   ],
   "source": [
    "gannotations.head()"
   ]
  },
  {
   "cell_type": "code",
   "execution_count": 7,
   "metadata": {
    "collapsed": true
   },
   "outputs": [],
   "source": [
    "# gannotations, annotations and edits has 'editid' column as a common column; then annotators and annotations has annotatorid as a common columns\n",
    "# merge annotators and annotations with annotatorid, then, \n",
    "# merge the resulting dataframe with gnnotations and edits"
   ]
  },
  {
   "cell_type": "code",
   "execution_count": 8,
   "metadata": {
    "collapsed": false
   },
   "outputs": [
    {
     "data": {
      "text/html": [
       "<div>\n",
       "<table border=\"1\" class=\"dataframe\">\n",
       "  <thead>\n",
       "    <tr style=\"text-align: right;\">\n",
       "      <th></th>\n",
       "      <th>editid</th>\n",
       "      <th>editor</th>\n",
       "      <th>oldrevisionid</th>\n",
       "      <th>newrevisionid</th>\n",
       "      <th>diffurl</th>\n",
       "      <th>edittime</th>\n",
       "      <th>editcomment</th>\n",
       "      <th>articleid</th>\n",
       "      <th>articletitle</th>\n",
       "      <th>class_x</th>\n",
       "      <th>...</th>\n",
       "      <th>annotatorid</th>\n",
       "      <th>age</th>\n",
       "      <th>sex</th>\n",
       "      <th>reading</th>\n",
       "      <th>editing</th>\n",
       "      <th>vandalizing</th>\n",
       "      <th>noticing</th>\n",
       "      <th>class_y</th>\n",
       "      <th>decisiontime</th>\n",
       "      <th>submittime</th>\n",
       "    </tr>\n",
       "  </thead>\n",
       "  <tbody>\n",
       "    <tr>\n",
       "      <th>0</th>\n",
       "      <td>1</td>\n",
       "      <td>TheHeartbreakKid15</td>\n",
       "      <td>328391343</td>\n",
       "      <td>328391582</td>\n",
       "      <td>http://en.wikipedia.org/w/index.php?diff=32839...</td>\n",
       "      <td>2009-11-28T15:21:18Z</td>\n",
       "      <td>/* Episodes */</td>\n",
       "      <td>24477266</td>\n",
       "      <td>Top Gear (series 14)</td>\n",
       "      <td>regular</td>\n",
       "      <td>...</td>\n",
       "      <td>1.0</td>\n",
       "      <td>23.0</td>\n",
       "      <td>male</td>\n",
       "      <td>daily</td>\n",
       "      <td>less</td>\n",
       "      <td>no</td>\n",
       "      <td>weekly</td>\n",
       "      <td>no</td>\n",
       "      <td>43453.0</td>\n",
       "      <td>Sat Feb 27 03:41:24 GMT 2010</td>\n",
       "    </tr>\n",
       "    <tr>\n",
       "      <th>1</th>\n",
       "      <td>1</td>\n",
       "      <td>TheHeartbreakKid15</td>\n",
       "      <td>328391343</td>\n",
       "      <td>328391582</td>\n",
       "      <td>http://en.wikipedia.org/w/index.php?diff=32839...</td>\n",
       "      <td>2009-11-28T15:21:18Z</td>\n",
       "      <td>/* Episodes */</td>\n",
       "      <td>24477266</td>\n",
       "      <td>Top Gear (series 14)</td>\n",
       "      <td>regular</td>\n",
       "      <td>...</td>\n",
       "      <td>2.0</td>\n",
       "      <td>23.0</td>\n",
       "      <td>male</td>\n",
       "      <td>daily</td>\n",
       "      <td>less</td>\n",
       "      <td>no</td>\n",
       "      <td>less</td>\n",
       "      <td>no</td>\n",
       "      <td>14156.0</td>\n",
       "      <td>Sat Feb 27 14:55:29 GMT 2010</td>\n",
       "    </tr>\n",
       "  </tbody>\n",
       "</table>\n",
       "<p>2 rows × 22 columns</p>\n",
       "</div>"
      ],
      "text/plain": [
       "   editid              editor  oldrevisionid  newrevisionid  \\\n",
       "0       1  TheHeartbreakKid15      328391343      328391582   \n",
       "1       1  TheHeartbreakKid15      328391343      328391582   \n",
       "\n",
       "                                             diffurl              edittime  \\\n",
       "0  http://en.wikipedia.org/w/index.php?diff=32839...  2009-11-28T15:21:18Z   \n",
       "1  http://en.wikipedia.org/w/index.php?diff=32839...  2009-11-28T15:21:18Z   \n",
       "\n",
       "      editcomment  articleid          articletitle  class_x  \\\n",
       "0  /* Episodes */   24477266  Top Gear (series 14)  regular   \n",
       "1  /* Episodes */   24477266  Top Gear (series 14)  regular   \n",
       "\n",
       "               ...               annotatorid   age   sex  reading editing  \\\n",
       "0              ...                       1.0  23.0  male    daily    less   \n",
       "1              ...                       2.0  23.0  male    daily    less   \n",
       "\n",
       "  vandalizing noticing class_y decisiontime                    submittime  \n",
       "0          no   weekly      no      43453.0  Sat Feb 27 03:41:24 GMT 2010  \n",
       "1          no     less      no      14156.0  Sat Feb 27 14:55:29 GMT 2010  \n",
       "\n",
       "[2 rows x 22 columns]"
      ]
     },
     "execution_count": 8,
     "metadata": {},
     "output_type": "execute_result"
    }
   ],
   "source": [
    "merge1 = pd.merge(left = annotators, right = annotations, left_on= 'annotatorid', right_on = 'annotatorid', how='left')\n",
    "merge2 = pd.merge(left = gannotations, right = merge1, left_on = 'editid', right_on = 'editid', how ='left')\n",
    "merge3 = pd.merge(left = edits, right = merge2, left_on = 'editid', right_on = 'editid', how='left')\n",
    "merge3.head(2)"
   ]
  },
  {
   "cell_type": "code",
   "execution_count": 9,
   "metadata": {
    "collapsed": false
   },
   "outputs": [
    {
     "name": "stdout",
     "output_type": "stream",
     "text": [
      "<class 'pandas.core.frame.DataFrame'>\n",
      "Int64Index: 142027 entries, 0 to 142026\n",
      "Data columns (total 22 columns):\n",
      "editid             142027 non-null int64\n",
      "editor             142027 non-null object\n",
      "oldrevisionid      142027 non-null int64\n",
      "newrevisionid      142027 non-null int64\n",
      "diffurl            142027 non-null object\n",
      "edittime           142027 non-null object\n",
      "editcomment        142027 non-null object\n",
      "articleid          142027 non-null int64\n",
      "articletitle       142027 non-null object\n",
      "class_x            142027 non-null object\n",
      "annotators         142027 non-null int64\n",
      "totalannotators    142027 non-null int64\n",
      "annotatorid        142021 non-null float64\n",
      "age                140498 non-null float64\n",
      "sex                137328 non-null object\n",
      "reading            141963 non-null object\n",
      "editing            141907 non-null object\n",
      "vandalizing        140582 non-null object\n",
      "noticing           141933 non-null object\n",
      "class_y            142021 non-null object\n",
      "decisiontime       142021 non-null float64\n",
      "submittime         142021 non-null object\n",
      "dtypes: float64(3), int64(6), object(13)\n",
      "memory usage: 24.9+ MB\n"
     ]
    }
   ],
   "source": [
    "merge3.info()"
   ]
  },
  {
   "cell_type": "code",
   "execution_count": 10,
   "metadata": {
    "collapsed": false
   },
   "outputs": [
    {
     "data": {
      "text/plain": [
       "3"
      ]
     },
     "execution_count": 10,
     "metadata": {},
     "output_type": "execute_result"
    }
   ],
   "source": [
    "len(merge3.sex.unique())"
   ]
  },
  {
   "cell_type": "code",
   "execution_count": 11,
   "metadata": {
    "collapsed": false
   },
   "outputs": [
    {
     "data": {
      "text/plain": [
       "2"
      ]
     },
     "execution_count": 11,
     "metadata": {},
     "output_type": "execute_result"
    }
   ],
   "source": [
    "len(merge3.class_x.unique())"
   ]
  },
  {
   "cell_type": "code",
   "execution_count": 12,
   "metadata": {
    "collapsed": false
   },
   "outputs": [
    {
     "data": {
      "text/plain": [
       "regular      118376\n",
       "vandalism     23651\n",
       "Name: class_x, dtype: int64"
      ]
     },
     "execution_count": 12,
     "metadata": {},
     "output_type": "execute_result"
    }
   ],
   "source": [
    "merge3.class_x.value_counts()"
   ]
  },
  {
   "cell_type": "code",
   "execution_count": 13,
   "metadata": {
    "collapsed": false
   },
   "outputs": [
    {
     "data": {
      "text/plain": [
       "Deaths in 2009                                                118\n",
       "2012 (film)                                                    72\n",
       "Gunpowder Plot                                                 59\n",
       "2009 Great Britain and Ireland floods                          50\n",
       "Louis Lesser                                                   50\n",
       "Joseph Vijay                                                   46\n",
       "Telephone (song)                                               42\n",
       "2009 in film                                                   42\n",
       "The Cry of Love                                                42\n",
       "Assassins Creed II                                             40\n",
       "Murder of Meredith Kercher                                     40\n",
       "Dancing with the Stars (U.S. season 9)                         40\n",
       "Jerome Is the New Black                                        40\n",
       "Stronger with Each Tear                                        40\n",
       "Jedward                                                        40\n",
       "George Washington and slavery                                  39\n",
       "Climatic Research Unit email controversy                       38\n",
       "WMMS                                                           38\n",
       "FIFA 10                                                        38\n",
       "52nd Grammy Awards                                             38\n",
       "Survivor Series (2009)                                         38\n",
       "Liga Deportiva Universitaria de Quito                          37\n",
       "Catholic Church                                                37\n",
       "List of iCarly episodes                                        37\n",
       "List of stage names                                            36\n",
       "Wakefield                                                      36\n",
       "Maguindanao massacre                                           36\n",
       "Herman Van Rompuy                                              36\n",
       "Rudolf-Harbig-Stadion                                          36\n",
       "Rated R (Rihanna album)                                        35\n",
       "                                                             ... \n",
       "Havana (disambiguation)                                         1\n",
       "List of National Park Service areas in Georgia (U.S state)      1\n",
       "Marshawn Lynch                                                  1\n",
       "2009 in downloadable songs for the Rock Band series             1\n",
       "1st Battalion 1st Marines                                       1\n",
       "List of Secretaries General of ASEAN                            1\n",
       "European city bike                                              1\n",
       "Gadhimai                                                        1\n",
       "Singapore Armed Forces FC                                       1\n",
       "Renault Espace                                                  1\n",
       "Institute for Sustainable Energy                                1\n",
       "The Problem Solvers                                             1\n",
       "Gatling gun                                                     1\n",
       "Edgar Smith (pitcher)                                           1\n",
       "Meat is Murder (book)                                           1\n",
       "Wojdal                                                          1\n",
       "Alpha Centauri in fiction                                       1\n",
       "Skiathos Island National Airport                                1\n",
       "Driving under the influence                                     1\n",
       "Mother Angelica                                                 1\n",
       "The Legacy (professional wrestling)                             1\n",
       "Drapers Mill, Margate                                           1\n",
       "Scroll                                                          1\n",
       "Jay Feely                                                       1\n",
       "Power Rangers: Wild Force                                       1\n",
       "Nora Tschirner                                                  1\n",
       "DeMar DeRozan                                                   1\n",
       "Catie Curtis                                                    1\n",
       "Hamdan Al Kamali                                                1\n",
       "Anthony Randolph                                                1\n",
       "Name: articletitle, dtype: int64"
      ]
     },
     "execution_count": 13,
     "metadata": {},
     "output_type": "execute_result"
    }
   ],
   "source": [
    "merge3.articletitle.value_counts()"
   ]
  },
  {
   "cell_type": "code",
   "execution_count": 14,
   "metadata": {
    "collapsed": false
   },
   "outputs": [
    {
     "data": {
      "text/plain": [
       "(142027, 22)"
      ]
     },
     "execution_count": 14,
     "metadata": {},
     "output_type": "execute_result"
    }
   ],
   "source": [
    "merge3.shape"
   ]
  },
  {
   "cell_type": "code",
   "execution_count": 15,
   "metadata": {
    "collapsed": true
   },
   "outputs": [],
   "source": [
    "# Making a copy of dataset to keep main merged dataset original\n",
    "wikivand = merge3.copy()"
   ]
  },
  {
   "cell_type": "code",
   "execution_count": 16,
   "metadata": {
    "collapsed": false
   },
   "outputs": [
    {
     "data": {
      "text/plain": [
       "(142027, 22)"
      ]
     },
     "execution_count": 16,
     "metadata": {},
     "output_type": "execute_result"
    }
   ],
   "source": [
    "wikivand.shape"
   ]
  },
  {
   "cell_type": "code",
   "execution_count": 17,
   "metadata": {
    "collapsed": false
   },
   "outputs": [
    {
     "data": {
      "text/plain": [
       "editid               int64\n",
       "editor              object\n",
       "oldrevisionid        int64\n",
       "newrevisionid        int64\n",
       "diffurl             object\n",
       "edittime            object\n",
       "editcomment         object\n",
       "articleid            int64\n",
       "articletitle        object\n",
       "class_x             object\n",
       "annotators           int64\n",
       "totalannotators      int64\n",
       "annotatorid        float64\n",
       "age                float64\n",
       "sex                 object\n",
       "reading             object\n",
       "editing             object\n",
       "vandalizing         object\n",
       "noticing            object\n",
       "class_y             object\n",
       "decisiontime       float64\n",
       "submittime          object\n",
       "dtype: object"
      ]
     },
     "execution_count": 17,
     "metadata": {},
     "output_type": "execute_result"
    }
   ],
   "source": [
    "wikivand.dtypes"
   ]
  },
  {
   "cell_type": "code",
   "execution_count": 18,
   "metadata": {
    "collapsed": false
   },
   "outputs": [
    {
     "name": "stdout",
     "output_type": "stream",
     "text": [
      "<class 'pandas.core.frame.DataFrame'>\n",
      "Int64Index: 142027 entries, 0 to 142026\n",
      "Data columns (total 22 columns):\n",
      "editid             142027 non-null int64\n",
      "editor             142027 non-null object\n",
      "oldrevisionid      142027 non-null int64\n",
      "newrevisionid      142027 non-null int64\n",
      "diffurl            142027 non-null object\n",
      "edittime           142027 non-null object\n",
      "editcomment        142027 non-null object\n",
      "articleid          142027 non-null int64\n",
      "articletitle       142027 non-null object\n",
      "class_x            142027 non-null object\n",
      "annotators         142027 non-null int64\n",
      "totalannotators    142027 non-null int64\n",
      "annotatorid        142021 non-null float64\n",
      "age                140498 non-null float64\n",
      "sex                137328 non-null object\n",
      "reading            141963 non-null object\n",
      "editing            141907 non-null object\n",
      "vandalizing        140582 non-null object\n",
      "noticing           141933 non-null object\n",
      "class_y            142021 non-null object\n",
      "decisiontime       142021 non-null float64\n",
      "submittime         142021 non-null object\n",
      "dtypes: float64(3), int64(6), object(13)\n",
      "memory usage: 24.9+ MB\n"
     ]
    }
   ],
   "source": [
    "wikivand.info()"
   ]
  },
  {
   "cell_type": "code",
   "execution_count": 19,
   "metadata": {
    "collapsed": false
   },
   "outputs": [
    {
     "data": {
      "text/plain": [
       "Index(['editid', 'editor', 'oldrevisionid', 'newrevisionid', 'diffurl',\n",
       "       'edittime', 'editcomment', 'articleid', 'articletitle', 'class_x',\n",
       "       'annotators', 'totalannotators', 'annotatorid', 'age', 'sex', 'reading',\n",
       "       'editing', 'vandalizing', 'noticing', 'class_y', 'decisiontime',\n",
       "       'submittime'],\n",
       "      dtype='object')"
      ]
     },
     "execution_count": 19,
     "metadata": {},
     "output_type": "execute_result"
    }
   ],
   "source": [
    "wikivand.columns"
   ]
  },
  {
   "cell_type": "code",
   "execution_count": 20,
   "metadata": {
    "collapsed": false
   },
   "outputs": [
    {
     "data": {
      "text/plain": [
       "array(['editid', 'editor', 'oldrevisionid', 'newrevisionid', 'diffurl',\n",
       "       'edittime', 'editcomment', 'articleid', 'articletitle', 'class_x',\n",
       "       'annotators', 'totalannotators', 'annotatorid', 'age', 'sex',\n",
       "       'reading', 'editing', 'vandalizing', 'noticing', 'class_y',\n",
       "       'decisiontime', 'submittime'], dtype=object)"
      ]
     },
     "execution_count": 20,
     "metadata": {},
     "output_type": "execute_result"
    }
   ],
   "source": [
    "wikivand.columns.values"
   ]
  },
  {
   "cell_type": "code",
   "execution_count": 21,
   "metadata": {
    "collapsed": true
   },
   "outputs": [],
   "source": [
    "# After observing all the columns:  I am going to take the following steps to clean the dataset\n",
    "# 1. Omiting few value\n",
    "# 2. Omit  rows with Na and nan - Na's\n",
    "# 3.1 formatting edittime and submit time - both are time variables \n",
    "# 3.2Adding new time differnce column\n",
    "# 3.3 removing submittime and edittime column\n",
    "# 4. Now, map vadalising yes to True and No to False\n",
    "# 5. Label Binarizer  for 'class_x', class_y', 'sex', 'reading','editing', 'noticing'\n",
    "# 6. Removed old 'class_x', class_y', 'sex', 'reading','editing', 'noticing'\n",
    "#7. split the dataset into X_train, X_test, y_train, y_test\n",
    "#8. fit the logistic Regression model\n",
    "# 9. check accuray"
   ]
  },
  {
   "cell_type": "code",
   "execution_count": 22,
   "metadata": {
    "collapsed": true
   },
   "outputs": [],
   "source": [
    "# Omit - \n",
    "# editor - as we have id's for various editors and it's just the name\n",
    "#diffurl - it's url of the wiki page, it must not have any effect on vandalism\n"
   ]
  },
  {
   "cell_type": "code",
   "execution_count": 23,
   "metadata": {
    "collapsed": false
   },
   "outputs": [],
   "source": [
    " wikivand = wikivand.drop(['editor','diffurl'], axis=1)"
   ]
  },
  {
   "cell_type": "code",
   "execution_count": 24,
   "metadata": {
    "collapsed": true
   },
   "outputs": [],
   "source": [
    "# panda.DataFrame.dropna()  - drops all the rows with any null values\n",
    "wikivand = wikivand.dropna()"
   ]
  },
  {
   "cell_type": "code",
   "execution_count": 25,
   "metadata": {
    "collapsed": false
   },
   "outputs": [
    {
     "data": {
      "text/plain": [
       "(135405, 20)"
      ]
     },
     "execution_count": 25,
     "metadata": {},
     "output_type": "execute_result"
    }
   ],
   "source": [
    "wikivand.shape"
   ]
  },
  {
   "cell_type": "code",
   "execution_count": 26,
   "metadata": {
    "collapsed": false
   },
   "outputs": [
    {
     "data": {
      "text/plain": [
       "0   2010-02-27 03:41:24\n",
       "1   2010-02-27 14:55:29\n",
       "Name: submittime, dtype: datetime64[ns]"
      ]
     },
     "execution_count": 26,
     "metadata": {},
     "output_type": "execute_result"
    }
   ],
   "source": [
    "wikivand.submittime= pd.to_datetime(wikivand.submittime)\n",
    "wikivand.submittime.head(2)"
   ]
  },
  {
   "cell_type": "code",
   "execution_count": 27,
   "metadata": {
    "collapsed": false
   },
   "outputs": [
    {
     "data": {
      "text/plain": [
       "0   2009-11-28 15:21:18\n",
       "1   2009-11-28 15:21:18\n",
       "Name: edittime, dtype: datetime64[ns]"
      ]
     },
     "execution_count": 27,
     "metadata": {},
     "output_type": "execute_result"
    }
   ],
   "source": [
    "wikivand.edittime= pd.to_datetime(wikivand.edittime)\n",
    "wikivand.edittime.head(2)"
   ]
  },
  {
   "cell_type": "code",
   "execution_count": 28,
   "metadata": {
    "collapsed": false
   },
   "outputs": [
    {
     "data": {
      "text/plain": [
       "0    2172.0\n",
       "1    2183.0\n",
       "Name: time, dtype: float64"
      ]
     },
     "execution_count": 28,
     "metadata": {},
     "output_type": "execute_result"
    }
   ],
   "source": [
    "import datetime\n",
    "wikivand['time'] =wikivand.submittime - wikivand.edittime\n",
    "# Pandas timestamp differences returns a datetime.timedelta object. This can easily be converted into hours by using the *as_type* method\n",
    "wikivand.time.astype('timedelta64[h]').head(2)\n"
   ]
  },
  {
   "cell_type": "code",
   "execution_count": 29,
   "metadata": {
    "collapsed": false
   },
   "outputs": [],
   "source": [
    "# Now, we can have a new column with differnce of submittime and edittime\n",
    "wikivand['time'] =(wikivand.submittime - wikivand.edittime).dt.days\n",
    "#wikivand.time = wikivand.time.dt.days"
   ]
  },
  {
   "cell_type": "code",
   "execution_count": 30,
   "metadata": {
    "collapsed": false
   },
   "outputs": [
    {
     "data": {
      "text/plain": [
       "Index(['editid', 'oldrevisionid', 'newrevisionid', 'edittime', 'editcomment',\n",
       "       'articleid', 'articletitle', 'class_x', 'annotators', 'totalannotators',\n",
       "       'annotatorid', 'age', 'sex', 'reading', 'editing', 'vandalizing',\n",
       "       'noticing', 'class_y', 'decisiontime', 'submittime', 'time'],\n",
       "      dtype='object')"
      ]
     },
     "execution_count": 30,
     "metadata": {},
     "output_type": "execute_result"
    }
   ],
   "source": [
    "wikivand.columns"
   ]
  },
  {
   "cell_type": "code",
   "execution_count": 31,
   "metadata": {
    "collapsed": false
   },
   "outputs": [],
   "source": [
    "#Now, I can drop submittime and edittime \n",
    "wikivand = wikivand.drop(['edittime','submittime'], axis=1)"
   ]
  },
  {
   "cell_type": "code",
   "execution_count": 32,
   "metadata": {
    "collapsed": false
   },
   "outputs": [
    {
     "name": "stdout",
     "output_type": "stream",
     "text": [
      "<class 'pandas.core.frame.DataFrame'>\n",
      "Int64Index: 135405 entries, 0 to 142026\n",
      "Data columns (total 19 columns):\n",
      "editid             135405 non-null int64\n",
      "oldrevisionid      135405 non-null int64\n",
      "newrevisionid      135405 non-null int64\n",
      "editcomment        135405 non-null object\n",
      "articleid          135405 non-null int64\n",
      "articletitle       135405 non-null object\n",
      "class_x            135405 non-null object\n",
      "annotators         135405 non-null int64\n",
      "totalannotators    135405 non-null int64\n",
      "annotatorid        135405 non-null float64\n",
      "age                135405 non-null float64\n",
      "sex                135405 non-null object\n",
      "reading            135405 non-null object\n",
      "editing            135405 non-null object\n",
      "vandalizing        135405 non-null object\n",
      "noticing           135405 non-null object\n",
      "class_y            135405 non-null object\n",
      "decisiontime       135405 non-null float64\n",
      "time               135405 non-null int64\n",
      "dtypes: float64(3), int64(7), object(9)\n",
      "memory usage: 20.7+ MB\n"
     ]
    }
   ],
   "source": [
    "wikivand.info()"
   ]
  },
  {
   "cell_type": "code",
   "execution_count": 33,
   "metadata": {
    "collapsed": false
   },
   "outputs": [
    {
     "data": {
      "text/plain": [
       "5"
      ]
     },
     "execution_count": 33,
     "metadata": {},
     "output_type": "execute_result"
    }
   ],
   "source": [
    "len(wikivand.noticing.unique())"
   ]
  },
  {
   "cell_type": "code",
   "execution_count": 34,
   "metadata": {
    "collapsed": false
   },
   "outputs": [
    {
     "data": {
      "text/plain": [
       "(135405, 19)"
      ]
     },
     "execution_count": 34,
     "metadata": {},
     "output_type": "execute_result"
    }
   ],
   "source": [
    "wikivand.shape"
   ]
  },
  {
   "cell_type": "code",
   "execution_count": 35,
   "metadata": {
    "collapsed": true
   },
   "outputs": [],
   "source": [
    "# mapping yes/ no to vandalizing to True/False\n",
    "d = {'yes': 1, 'no': 0}; \n",
    "wikivand['vandalizing']=wikivand['vandalizing'].map(d);"
   ]
  },
  {
   "cell_type": "code",
   "execution_count": 36,
   "metadata": {
    "collapsed": false
   },
   "outputs": [
    {
     "data": {
      "text/plain": [
       "[{'bar': 2, 'foo': 1}, {'baz': 1, 'foo': 3}]"
      ]
     },
     "execution_count": 36,
     "metadata": {},
     "output_type": "execute_result"
    }
   ],
   "source": [
    "D = [{'foo': 1, 'bar': 2}, {'foo': 3, 'baz': 1}]\n",
    "D"
   ]
  },
  {
   "cell_type": "code",
   "execution_count": 37,
   "metadata": {
    "collapsed": false
   },
   "outputs": [
    {
     "data": {
      "text/html": [
       "<div>\n",
       "<table border=\"1\" class=\"dataframe\">\n",
       "  <thead>\n",
       "    <tr style=\"text-align: right;\">\n",
       "      <th></th>\n",
       "      <th>editid</th>\n",
       "      <th>oldrevisionid</th>\n",
       "      <th>newrevisionid</th>\n",
       "      <th>editcomment</th>\n",
       "      <th>articleid</th>\n",
       "      <th>articletitle</th>\n",
       "      <th>class_x</th>\n",
       "      <th>annotators</th>\n",
       "      <th>totalannotators</th>\n",
       "      <th>annotatorid</th>\n",
       "      <th>...</th>\n",
       "      <th>editing</th>\n",
       "      <th>vandalizing</th>\n",
       "      <th>noticing</th>\n",
       "      <th>class_y</th>\n",
       "      <th>decisiontime</th>\n",
       "      <th>time</th>\n",
       "      <th>class_y_no</th>\n",
       "      <th>class_y_yes</th>\n",
       "      <th>class_y_dunno</th>\n",
       "      <th>class_y_error</th>\n",
       "    </tr>\n",
       "  </thead>\n",
       "  <tbody>\n",
       "    <tr>\n",
       "      <th>0</th>\n",
       "      <td>1</td>\n",
       "      <td>328391343</td>\n",
       "      <td>328391582</td>\n",
       "      <td>/* Episodes */</td>\n",
       "      <td>24477266</td>\n",
       "      <td>Top Gear (series 14)</td>\n",
       "      <td>regular</td>\n",
       "      <td>3</td>\n",
       "      <td>3</td>\n",
       "      <td>1.0</td>\n",
       "      <td>...</td>\n",
       "      <td>less</td>\n",
       "      <td>0</td>\n",
       "      <td>weekly</td>\n",
       "      <td>no</td>\n",
       "      <td>43453.0</td>\n",
       "      <td>90</td>\n",
       "      <td>0</td>\n",
       "      <td>0</td>\n",
       "      <td>1</td>\n",
       "      <td>0</td>\n",
       "    </tr>\n",
       "    <tr>\n",
       "      <th>1</th>\n",
       "      <td>1</td>\n",
       "      <td>328391343</td>\n",
       "      <td>328391582</td>\n",
       "      <td>/* Episodes */</td>\n",
       "      <td>24477266</td>\n",
       "      <td>Top Gear (series 14)</td>\n",
       "      <td>regular</td>\n",
       "      <td>3</td>\n",
       "      <td>3</td>\n",
       "      <td>2.0</td>\n",
       "      <td>...</td>\n",
       "      <td>less</td>\n",
       "      <td>0</td>\n",
       "      <td>less</td>\n",
       "      <td>no</td>\n",
       "      <td>14156.0</td>\n",
       "      <td>90</td>\n",
       "      <td>0</td>\n",
       "      <td>0</td>\n",
       "      <td>1</td>\n",
       "      <td>0</td>\n",
       "    </tr>\n",
       "  </tbody>\n",
       "</table>\n",
       "<p>2 rows × 23 columns</p>\n",
       "</div>"
      ],
      "text/plain": [
       "   editid  oldrevisionid  newrevisionid     editcomment  articleid  \\\n",
       "0       1      328391343      328391582  /* Episodes */   24477266   \n",
       "1       1      328391343      328391582  /* Episodes */   24477266   \n",
       "\n",
       "           articletitle  class_x  annotators  totalannotators  annotatorid  \\\n",
       "0  Top Gear (series 14)  regular           3                3          1.0   \n",
       "1  Top Gear (series 14)  regular           3                3          2.0   \n",
       "\n",
       "       ...        editing vandalizing noticing class_y  decisiontime time  \\\n",
       "0      ...           less           0   weekly      no       43453.0   90   \n",
       "1      ...           less           0     less      no       14156.0   90   \n",
       "\n",
       "  class_y_no  class_y_yes  class_y_dunno  class_y_error  \n",
       "0          0            0              1              0  \n",
       "1          0            0              1              0  \n",
       "\n",
       "[2 rows x 23 columns]"
      ]
     },
     "execution_count": 37,
     "metadata": {},
     "output_type": "execute_result"
    }
   ],
   "source": [
    "#Label Binarizer for class_y\n",
    "#a = wikivand[['class_y']]\n",
    "from sklearn import preprocessing\n",
    "lb = preprocessing.LabelBinarizer()\n",
    "temp1 = lb.fit_transform(wikivand[['class_y']])\n",
    "temp1 = pd.DataFrame(temp1, columns = [('class_y'+\"_\"+str(i)) for i in wikivand['class_y'].value_counts().index])\n",
    "temp1 = temp1.set_index(wikivand.index.values)\n",
    "wikivand = pd.concat([wikivand, temp1], axis = 1)\n",
    "wikivand.head(2)"
   ]
  },
  {
   "cell_type": "code",
   "execution_count": 38,
   "metadata": {
    "collapsed": false
   },
   "outputs": [
    {
     "data": {
      "text/html": [
       "<div>\n",
       "<table border=\"1\" class=\"dataframe\">\n",
       "  <thead>\n",
       "    <tr style=\"text-align: right;\">\n",
       "      <th></th>\n",
       "      <th>editid</th>\n",
       "      <th>oldrevisionid</th>\n",
       "      <th>newrevisionid</th>\n",
       "      <th>editcomment</th>\n",
       "      <th>articleid</th>\n",
       "      <th>articletitle</th>\n",
       "      <th>class_x</th>\n",
       "      <th>annotators</th>\n",
       "      <th>totalannotators</th>\n",
       "      <th>annotatorid</th>\n",
       "      <th>...</th>\n",
       "      <th>vandalizing</th>\n",
       "      <th>noticing</th>\n",
       "      <th>class_y</th>\n",
       "      <th>decisiontime</th>\n",
       "      <th>time</th>\n",
       "      <th>class_y_no</th>\n",
       "      <th>class_y_yes</th>\n",
       "      <th>class_y_dunno</th>\n",
       "      <th>class_y_error</th>\n",
       "      <th>class_x_lb</th>\n",
       "    </tr>\n",
       "  </thead>\n",
       "  <tbody>\n",
       "    <tr>\n",
       "      <th>0</th>\n",
       "      <td>1</td>\n",
       "      <td>328391343</td>\n",
       "      <td>328391582</td>\n",
       "      <td>/* Episodes */</td>\n",
       "      <td>24477266</td>\n",
       "      <td>Top Gear (series 14)</td>\n",
       "      <td>regular</td>\n",
       "      <td>3</td>\n",
       "      <td>3</td>\n",
       "      <td>1.0</td>\n",
       "      <td>...</td>\n",
       "      <td>0</td>\n",
       "      <td>weekly</td>\n",
       "      <td>no</td>\n",
       "      <td>43453.0</td>\n",
       "      <td>90</td>\n",
       "      <td>0</td>\n",
       "      <td>0</td>\n",
       "      <td>1</td>\n",
       "      <td>0</td>\n",
       "      <td>0</td>\n",
       "    </tr>\n",
       "    <tr>\n",
       "      <th>1</th>\n",
       "      <td>1</td>\n",
       "      <td>328391343</td>\n",
       "      <td>328391582</td>\n",
       "      <td>/* Episodes */</td>\n",
       "      <td>24477266</td>\n",
       "      <td>Top Gear (series 14)</td>\n",
       "      <td>regular</td>\n",
       "      <td>3</td>\n",
       "      <td>3</td>\n",
       "      <td>2.0</td>\n",
       "      <td>...</td>\n",
       "      <td>0</td>\n",
       "      <td>less</td>\n",
       "      <td>no</td>\n",
       "      <td>14156.0</td>\n",
       "      <td>90</td>\n",
       "      <td>0</td>\n",
       "      <td>0</td>\n",
       "      <td>1</td>\n",
       "      <td>0</td>\n",
       "      <td>0</td>\n",
       "    </tr>\n",
       "  </tbody>\n",
       "</table>\n",
       "<p>2 rows × 24 columns</p>\n",
       "</div>"
      ],
      "text/plain": [
       "   editid  oldrevisionid  newrevisionid     editcomment  articleid  \\\n",
       "0       1      328391343      328391582  /* Episodes */   24477266   \n",
       "1       1      328391343      328391582  /* Episodes */   24477266   \n",
       "\n",
       "           articletitle  class_x  annotators  totalannotators  annotatorid  \\\n",
       "0  Top Gear (series 14)  regular           3                3          1.0   \n",
       "1  Top Gear (series 14)  regular           3                3          2.0   \n",
       "\n",
       "      ...      vandalizing noticing class_y decisiontime  time class_y_no  \\\n",
       "0     ...                0   weekly      no      43453.0    90          0   \n",
       "1     ...                0     less      no      14156.0    90          0   \n",
       "\n",
       "  class_y_yes  class_y_dunno  class_y_error  class_x_lb  \n",
       "0           0              1              0           0  \n",
       "1           0              1              0           0  \n",
       "\n",
       "[2 rows x 24 columns]"
      ]
     },
     "execution_count": 38,
     "metadata": {},
     "output_type": "execute_result"
    }
   ],
   "source": [
    "# . Label Binarizer  for 'class_x'\n",
    "from sklearn import preprocessing\n",
    "lb = preprocessing.LabelBinarizer()\n",
    "temp2 = lb.fit_transform(wikivand[['class_x']])\n",
    "temp2 = pd.DataFrame(temp2)\n",
    "temp2.columns = ['class_x_lb']\n",
    "temp2 = temp2.set_index(wikivand.index.values)\n",
    "wikivand = pd.concat([wikivand, temp2], axis = 1)\n",
    "wikivand.head(2)"
   ]
  },
  {
   "cell_type": "code",
   "execution_count": 39,
   "metadata": {
    "collapsed": false
   },
   "outputs": [
    {
     "data": {
      "text/html": [
       "<div>\n",
       "<table border=\"1\" class=\"dataframe\">\n",
       "  <thead>\n",
       "    <tr style=\"text-align: right;\">\n",
       "      <th></th>\n",
       "      <th>editid</th>\n",
       "      <th>oldrevisionid</th>\n",
       "      <th>newrevisionid</th>\n",
       "      <th>editcomment</th>\n",
       "      <th>articleid</th>\n",
       "      <th>articletitle</th>\n",
       "      <th>class_x</th>\n",
       "      <th>annotators</th>\n",
       "      <th>totalannotators</th>\n",
       "      <th>annotatorid</th>\n",
       "      <th>...</th>\n",
       "      <th>noticing</th>\n",
       "      <th>class_y</th>\n",
       "      <th>decisiontime</th>\n",
       "      <th>time</th>\n",
       "      <th>class_y_no</th>\n",
       "      <th>class_y_yes</th>\n",
       "      <th>class_y_dunno</th>\n",
       "      <th>class_y_error</th>\n",
       "      <th>class_x_lb</th>\n",
       "      <th>sex_lb</th>\n",
       "    </tr>\n",
       "  </thead>\n",
       "  <tbody>\n",
       "    <tr>\n",
       "      <th>0</th>\n",
       "      <td>1</td>\n",
       "      <td>328391343</td>\n",
       "      <td>328391582</td>\n",
       "      <td>/* Episodes */</td>\n",
       "      <td>24477266</td>\n",
       "      <td>Top Gear (series 14)</td>\n",
       "      <td>regular</td>\n",
       "      <td>3</td>\n",
       "      <td>3</td>\n",
       "      <td>1.0</td>\n",
       "      <td>...</td>\n",
       "      <td>weekly</td>\n",
       "      <td>no</td>\n",
       "      <td>43453.0</td>\n",
       "      <td>90</td>\n",
       "      <td>0</td>\n",
       "      <td>0</td>\n",
       "      <td>1</td>\n",
       "      <td>0</td>\n",
       "      <td>0</td>\n",
       "      <td>1</td>\n",
       "    </tr>\n",
       "    <tr>\n",
       "      <th>1</th>\n",
       "      <td>1</td>\n",
       "      <td>328391343</td>\n",
       "      <td>328391582</td>\n",
       "      <td>/* Episodes */</td>\n",
       "      <td>24477266</td>\n",
       "      <td>Top Gear (series 14)</td>\n",
       "      <td>regular</td>\n",
       "      <td>3</td>\n",
       "      <td>3</td>\n",
       "      <td>2.0</td>\n",
       "      <td>...</td>\n",
       "      <td>less</td>\n",
       "      <td>no</td>\n",
       "      <td>14156.0</td>\n",
       "      <td>90</td>\n",
       "      <td>0</td>\n",
       "      <td>0</td>\n",
       "      <td>1</td>\n",
       "      <td>0</td>\n",
       "      <td>0</td>\n",
       "      <td>1</td>\n",
       "    </tr>\n",
       "  </tbody>\n",
       "</table>\n",
       "<p>2 rows × 25 columns</p>\n",
       "</div>"
      ],
      "text/plain": [
       "   editid  oldrevisionid  newrevisionid     editcomment  articleid  \\\n",
       "0       1      328391343      328391582  /* Episodes */   24477266   \n",
       "1       1      328391343      328391582  /* Episodes */   24477266   \n",
       "\n",
       "           articletitle  class_x  annotators  totalannotators  annotatorid  \\\n",
       "0  Top Gear (series 14)  regular           3                3          1.0   \n",
       "1  Top Gear (series 14)  regular           3                3          2.0   \n",
       "\n",
       "    ...    noticing class_y decisiontime time  class_y_no class_y_yes  \\\n",
       "0   ...      weekly      no      43453.0   90           0           0   \n",
       "1   ...        less      no      14156.0   90           0           0   \n",
       "\n",
       "  class_y_dunno  class_y_error  class_x_lb  sex_lb  \n",
       "0             1              0           0       1  \n",
       "1             1              0           0       1  \n",
       "\n",
       "[2 rows x 25 columns]"
      ]
     },
     "execution_count": 39,
     "metadata": {},
     "output_type": "execute_result"
    }
   ],
   "source": [
    "# . Label Binarizer  for 'sex', \n",
    "from sklearn import preprocessing\n",
    "lb = preprocessing.LabelBinarizer()\n",
    "temp3 = lb.fit_transform(wikivand[['sex']])\n",
    "temp3 = pd.DataFrame(temp3)\n",
    "temp3.columns = ['sex_lb']\n",
    "temp3 = temp3.set_index(wikivand.index.values)\n",
    "wikivand = pd.concat([wikivand, temp3], axis = 1)\n",
    "wikivand.head(2)"
   ]
  },
  {
   "cell_type": "code",
   "execution_count": 40,
   "metadata": {
    "collapsed": false
   },
   "outputs": [
    {
     "data": {
      "text/html": [
       "<div>\n",
       "<table border=\"1\" class=\"dataframe\">\n",
       "  <thead>\n",
       "    <tr style=\"text-align: right;\">\n",
       "      <th></th>\n",
       "      <th>editid</th>\n",
       "      <th>oldrevisionid</th>\n",
       "      <th>newrevisionid</th>\n",
       "      <th>editcomment</th>\n",
       "      <th>articleid</th>\n",
       "      <th>articletitle</th>\n",
       "      <th>class_x</th>\n",
       "      <th>annotators</th>\n",
       "      <th>totalannotators</th>\n",
       "      <th>annotatorid</th>\n",
       "      <th>...</th>\n",
       "      <th>class_y_no</th>\n",
       "      <th>class_y_yes</th>\n",
       "      <th>class_y_dunno</th>\n",
       "      <th>class_y_error</th>\n",
       "      <th>class_x_lb</th>\n",
       "      <th>sex_lb</th>\n",
       "      <th>reading_daily</th>\n",
       "      <th>reading_weekly</th>\n",
       "      <th>reading_monthly</th>\n",
       "      <th>reading_less</th>\n",
       "    </tr>\n",
       "  </thead>\n",
       "  <tbody>\n",
       "    <tr>\n",
       "      <th>0</th>\n",
       "      <td>1</td>\n",
       "      <td>328391343</td>\n",
       "      <td>328391582</td>\n",
       "      <td>/* Episodes */</td>\n",
       "      <td>24477266</td>\n",
       "      <td>Top Gear (series 14)</td>\n",
       "      <td>regular</td>\n",
       "      <td>3</td>\n",
       "      <td>3</td>\n",
       "      <td>1.0</td>\n",
       "      <td>...</td>\n",
       "      <td>0</td>\n",
       "      <td>0</td>\n",
       "      <td>1</td>\n",
       "      <td>0</td>\n",
       "      <td>0</td>\n",
       "      <td>1</td>\n",
       "      <td>1</td>\n",
       "      <td>0</td>\n",
       "      <td>0</td>\n",
       "      <td>0</td>\n",
       "    </tr>\n",
       "    <tr>\n",
       "      <th>1</th>\n",
       "      <td>1</td>\n",
       "      <td>328391343</td>\n",
       "      <td>328391582</td>\n",
       "      <td>/* Episodes */</td>\n",
       "      <td>24477266</td>\n",
       "      <td>Top Gear (series 14)</td>\n",
       "      <td>regular</td>\n",
       "      <td>3</td>\n",
       "      <td>3</td>\n",
       "      <td>2.0</td>\n",
       "      <td>...</td>\n",
       "      <td>0</td>\n",
       "      <td>0</td>\n",
       "      <td>1</td>\n",
       "      <td>0</td>\n",
       "      <td>0</td>\n",
       "      <td>1</td>\n",
       "      <td>1</td>\n",
       "      <td>0</td>\n",
       "      <td>0</td>\n",
       "      <td>0</td>\n",
       "    </tr>\n",
       "  </tbody>\n",
       "</table>\n",
       "<p>2 rows × 29 columns</p>\n",
       "</div>"
      ],
      "text/plain": [
       "   editid  oldrevisionid  newrevisionid     editcomment  articleid  \\\n",
       "0       1      328391343      328391582  /* Episodes */   24477266   \n",
       "1       1      328391343      328391582  /* Episodes */   24477266   \n",
       "\n",
       "           articletitle  class_x  annotators  totalannotators  annotatorid  \\\n",
       "0  Top Gear (series 14)  regular           3                3          1.0   \n",
       "1  Top Gear (series 14)  regular           3                3          2.0   \n",
       "\n",
       "       ...       class_y_no class_y_yes class_y_dunno class_y_error  \\\n",
       "0      ...                0           0             1             0   \n",
       "1      ...                0           0             1             0   \n",
       "\n",
       "   class_x_lb sex_lb reading_daily  reading_weekly  reading_monthly  \\\n",
       "0           0      1             1               0                0   \n",
       "1           0      1             1               0                0   \n",
       "\n",
       "   reading_less  \n",
       "0             0  \n",
       "1             0  \n",
       "\n",
       "[2 rows x 29 columns]"
      ]
     },
     "execution_count": 40,
     "metadata": {},
     "output_type": "execute_result"
    }
   ],
   "source": [
    "# . Label Binarizer  for  'reading'\n",
    "from sklearn import preprocessing\n",
    "lb = preprocessing.LabelBinarizer()\n",
    "temp4 = lb.fit_transform(wikivand[['reading']])\n",
    "temp4 = pd.DataFrame(temp4, columns = [('reading'+\"_\"+str(i)) for i in wikivand['reading'].value_counts().index])\n",
    "temp4 = temp4.set_index(wikivand.index.values)\n",
    "wikivand = pd.concat([wikivand, temp4], axis = 1)\n",
    "wikivand.head(2)"
   ]
  },
  {
   "cell_type": "code",
   "execution_count": 41,
   "metadata": {
    "collapsed": false
   },
   "outputs": [
    {
     "data": {
      "text/html": [
       "<div>\n",
       "<table border=\"1\" class=\"dataframe\">\n",
       "  <thead>\n",
       "    <tr style=\"text-align: right;\">\n",
       "      <th></th>\n",
       "      <th>editid</th>\n",
       "      <th>oldrevisionid</th>\n",
       "      <th>newrevisionid</th>\n",
       "      <th>editcomment</th>\n",
       "      <th>articleid</th>\n",
       "      <th>articletitle</th>\n",
       "      <th>class_x</th>\n",
       "      <th>annotators</th>\n",
       "      <th>totalannotators</th>\n",
       "      <th>annotatorid</th>\n",
       "      <th>...</th>\n",
       "      <th>sex_lb</th>\n",
       "      <th>reading_daily</th>\n",
       "      <th>reading_weekly</th>\n",
       "      <th>reading_monthly</th>\n",
       "      <th>reading_less</th>\n",
       "      <th>editing_never</th>\n",
       "      <th>editing_less</th>\n",
       "      <th>editing_monthly</th>\n",
       "      <th>editing_weekly</th>\n",
       "      <th>editing_daily</th>\n",
       "    </tr>\n",
       "  </thead>\n",
       "  <tbody>\n",
       "    <tr>\n",
       "      <th>0</th>\n",
       "      <td>1</td>\n",
       "      <td>328391343</td>\n",
       "      <td>328391582</td>\n",
       "      <td>/* Episodes */</td>\n",
       "      <td>24477266</td>\n",
       "      <td>Top Gear (series 14)</td>\n",
       "      <td>regular</td>\n",
       "      <td>3</td>\n",
       "      <td>3</td>\n",
       "      <td>1.0</td>\n",
       "      <td>...</td>\n",
       "      <td>1</td>\n",
       "      <td>1</td>\n",
       "      <td>0</td>\n",
       "      <td>0</td>\n",
       "      <td>0</td>\n",
       "      <td>0</td>\n",
       "      <td>1</td>\n",
       "      <td>0</td>\n",
       "      <td>0</td>\n",
       "      <td>0</td>\n",
       "    </tr>\n",
       "    <tr>\n",
       "      <th>1</th>\n",
       "      <td>1</td>\n",
       "      <td>328391343</td>\n",
       "      <td>328391582</td>\n",
       "      <td>/* Episodes */</td>\n",
       "      <td>24477266</td>\n",
       "      <td>Top Gear (series 14)</td>\n",
       "      <td>regular</td>\n",
       "      <td>3</td>\n",
       "      <td>3</td>\n",
       "      <td>2.0</td>\n",
       "      <td>...</td>\n",
       "      <td>1</td>\n",
       "      <td>1</td>\n",
       "      <td>0</td>\n",
       "      <td>0</td>\n",
       "      <td>0</td>\n",
       "      <td>0</td>\n",
       "      <td>1</td>\n",
       "      <td>0</td>\n",
       "      <td>0</td>\n",
       "      <td>0</td>\n",
       "    </tr>\n",
       "  </tbody>\n",
       "</table>\n",
       "<p>2 rows × 34 columns</p>\n",
       "</div>"
      ],
      "text/plain": [
       "   editid  oldrevisionid  newrevisionid     editcomment  articleid  \\\n",
       "0       1      328391343      328391582  /* Episodes */   24477266   \n",
       "1       1      328391343      328391582  /* Episodes */   24477266   \n",
       "\n",
       "           articletitle  class_x  annotators  totalannotators  annotatorid  \\\n",
       "0  Top Gear (series 14)  regular           3                3          1.0   \n",
       "1  Top Gear (series 14)  regular           3                3          2.0   \n",
       "\n",
       "       ...        sex_lb reading_daily reading_weekly reading_monthly  \\\n",
       "0      ...             1             1              0               0   \n",
       "1      ...             1             1              0               0   \n",
       "\n",
       "   reading_less editing_never editing_less  editing_monthly  editing_weekly  \\\n",
       "0             0             0            1                0               0   \n",
       "1             0             0            1                0               0   \n",
       "\n",
       "   editing_daily  \n",
       "0              0  \n",
       "1              0  \n",
       "\n",
       "[2 rows x 34 columns]"
      ]
     },
     "execution_count": 41,
     "metadata": {},
     "output_type": "execute_result"
    }
   ],
   "source": [
    "# . Label Binarizer  for editing\n",
    "from sklearn import preprocessing\n",
    "lb = preprocessing.LabelBinarizer()\n",
    "temp5 = lb.fit_transform(wikivand[['editing']])\n",
    "temp5 = pd.DataFrame(temp5, columns = [('editing'+\"_\"+str(i)) for i in wikivand['editing'].value_counts().index])\n",
    "temp5 = temp5.set_index(wikivand.index.values)\n",
    "wikivand = pd.concat([wikivand, temp5], axis = 1)\n",
    "wikivand.head(2)"
   ]
  },
  {
   "cell_type": "code",
   "execution_count": 42,
   "metadata": {
    "collapsed": false
   },
   "outputs": [
    {
     "data": {
      "text/html": [
       "<div>\n",
       "<table border=\"1\" class=\"dataframe\">\n",
       "  <thead>\n",
       "    <tr style=\"text-align: right;\">\n",
       "      <th></th>\n",
       "      <th>editid</th>\n",
       "      <th>oldrevisionid</th>\n",
       "      <th>newrevisionid</th>\n",
       "      <th>editcomment</th>\n",
       "      <th>articleid</th>\n",
       "      <th>articletitle</th>\n",
       "      <th>class_x</th>\n",
       "      <th>annotators</th>\n",
       "      <th>totalannotators</th>\n",
       "      <th>annotatorid</th>\n",
       "      <th>...</th>\n",
       "      <th>editing_never</th>\n",
       "      <th>editing_less</th>\n",
       "      <th>editing_monthly</th>\n",
       "      <th>editing_weekly</th>\n",
       "      <th>editing_daily</th>\n",
       "      <th>noticing_less</th>\n",
       "      <th>noticing_monthly</th>\n",
       "      <th>noticing_never</th>\n",
       "      <th>noticing_weekly</th>\n",
       "      <th>noticing_daily</th>\n",
       "    </tr>\n",
       "  </thead>\n",
       "  <tbody>\n",
       "    <tr>\n",
       "      <th>0</th>\n",
       "      <td>1</td>\n",
       "      <td>328391343</td>\n",
       "      <td>328391582</td>\n",
       "      <td>/* Episodes */</td>\n",
       "      <td>24477266</td>\n",
       "      <td>Top Gear (series 14)</td>\n",
       "      <td>regular</td>\n",
       "      <td>3</td>\n",
       "      <td>3</td>\n",
       "      <td>1.0</td>\n",
       "      <td>...</td>\n",
       "      <td>0</td>\n",
       "      <td>1</td>\n",
       "      <td>0</td>\n",
       "      <td>0</td>\n",
       "      <td>0</td>\n",
       "      <td>0</td>\n",
       "      <td>0</td>\n",
       "      <td>0</td>\n",
       "      <td>0</td>\n",
       "      <td>1</td>\n",
       "    </tr>\n",
       "    <tr>\n",
       "      <th>1</th>\n",
       "      <td>1</td>\n",
       "      <td>328391343</td>\n",
       "      <td>328391582</td>\n",
       "      <td>/* Episodes */</td>\n",
       "      <td>24477266</td>\n",
       "      <td>Top Gear (series 14)</td>\n",
       "      <td>regular</td>\n",
       "      <td>3</td>\n",
       "      <td>3</td>\n",
       "      <td>2.0</td>\n",
       "      <td>...</td>\n",
       "      <td>0</td>\n",
       "      <td>1</td>\n",
       "      <td>0</td>\n",
       "      <td>0</td>\n",
       "      <td>0</td>\n",
       "      <td>0</td>\n",
       "      <td>1</td>\n",
       "      <td>0</td>\n",
       "      <td>0</td>\n",
       "      <td>0</td>\n",
       "    </tr>\n",
       "  </tbody>\n",
       "</table>\n",
       "<p>2 rows × 39 columns</p>\n",
       "</div>"
      ],
      "text/plain": [
       "   editid  oldrevisionid  newrevisionid     editcomment  articleid  \\\n",
       "0       1      328391343      328391582  /* Episodes */   24477266   \n",
       "1       1      328391343      328391582  /* Episodes */   24477266   \n",
       "\n",
       "           articletitle  class_x  annotators  totalannotators  annotatorid  \\\n",
       "0  Top Gear (series 14)  regular           3                3          1.0   \n",
       "1  Top Gear (series 14)  regular           3                3          2.0   \n",
       "\n",
       "        ...        editing_never editing_less editing_monthly editing_weekly  \\\n",
       "0       ...                    0            1               0              0   \n",
       "1       ...                    0            1               0              0   \n",
       "\n",
       "   editing_daily noticing_less noticing_monthly  noticing_never  \\\n",
       "0              0             0                0               0   \n",
       "1              0             0                1               0   \n",
       "\n",
       "   noticing_weekly  noticing_daily  \n",
       "0                0               1  \n",
       "1                0               0  \n",
       "\n",
       "[2 rows x 39 columns]"
      ]
     },
     "execution_count": 42,
     "metadata": {},
     "output_type": "execute_result"
    }
   ],
   "source": [
    "# . Label Binarizer  for noticing\n",
    "from sklearn import preprocessing\n",
    "lb = preprocessing.LabelBinarizer()\n",
    "temp6 = lb.fit_transform(wikivand[['noticing']])\n",
    "temp6 = pd.DataFrame(temp6, columns = [('noticing'+\"_\"+str(i)) for i in wikivand['noticing'].value_counts().index])\n",
    "temp6 = temp6.set_index(wikivand.index.values)\n",
    "wikivand = pd.concat([wikivand, temp6], axis = 1)\n",
    "wikivand.head(2)"
   ]
  },
  {
   "cell_type": "code",
   "execution_count": 43,
   "metadata": {
    "collapsed": false
   },
   "outputs": [
    {
     "name": "stdout",
     "output_type": "stream",
     "text": [
      "<class 'pandas.core.frame.DataFrame'>\n",
      "Int64Index: 135405 entries, 0 to 142026\n",
      "Data columns (total 39 columns):\n",
      "editid              135405 non-null int64\n",
      "oldrevisionid       135405 non-null int64\n",
      "newrevisionid       135405 non-null int64\n",
      "editcomment         135405 non-null object\n",
      "articleid           135405 non-null int64\n",
      "articletitle        135405 non-null object\n",
      "class_x             135405 non-null object\n",
      "annotators          135405 non-null int64\n",
      "totalannotators     135405 non-null int64\n",
      "annotatorid         135405 non-null float64\n",
      "age                 135405 non-null float64\n",
      "sex                 135405 non-null object\n",
      "reading             135405 non-null object\n",
      "editing             135405 non-null object\n",
      "vandalizing         135405 non-null int64\n",
      "noticing            135405 non-null object\n",
      "class_y             135405 non-null object\n",
      "decisiontime        135405 non-null float64\n",
      "time                135405 non-null int64\n",
      "class_y_no          135405 non-null int64\n",
      "class_y_yes         135405 non-null int64\n",
      "class_y_dunno       135405 non-null int64\n",
      "class_y_error       135405 non-null int64\n",
      "class_x_lb          135405 non-null int64\n",
      "sex_lb              135405 non-null int64\n",
      "reading_daily       135405 non-null int64\n",
      "reading_weekly      135405 non-null int64\n",
      "reading_monthly     135405 non-null int64\n",
      "reading_less        135405 non-null int64\n",
      "editing_never       135405 non-null int64\n",
      "editing_less        135405 non-null int64\n",
      "editing_monthly     135405 non-null int64\n",
      "editing_weekly      135405 non-null int64\n",
      "editing_daily       135405 non-null int64\n",
      "noticing_less       135405 non-null int64\n",
      "noticing_monthly    135405 non-null int64\n",
      "noticing_never      135405 non-null int64\n",
      "noticing_weekly     135405 non-null int64\n",
      "noticing_daily      135405 non-null int64\n",
      "dtypes: float64(3), int64(28), object(8)\n",
      "memory usage: 41.3+ MB\n"
     ]
    }
   ],
   "source": [
    "wikivand.info()"
   ]
  },
  {
   "cell_type": "code",
   "execution_count": 44,
   "metadata": {
    "collapsed": false
   },
   "outputs": [
    {
     "data": {
      "text/html": [
       "<div>\n",
       "<table border=\"1\" class=\"dataframe\">\n",
       "  <thead>\n",
       "    <tr style=\"text-align: right;\">\n",
       "      <th></th>\n",
       "      <th>editid</th>\n",
       "      <th>oldrevisionid</th>\n",
       "      <th>newrevisionid</th>\n",
       "      <th>editcomment</th>\n",
       "      <th>articleid</th>\n",
       "      <th>articletitle</th>\n",
       "      <th>annotators</th>\n",
       "      <th>totalannotators</th>\n",
       "      <th>annotatorid</th>\n",
       "      <th>age</th>\n",
       "      <th>...</th>\n",
       "      <th>editing_never</th>\n",
       "      <th>editing_less</th>\n",
       "      <th>editing_monthly</th>\n",
       "      <th>editing_weekly</th>\n",
       "      <th>editing_daily</th>\n",
       "      <th>noticing_less</th>\n",
       "      <th>noticing_monthly</th>\n",
       "      <th>noticing_never</th>\n",
       "      <th>noticing_weekly</th>\n",
       "      <th>noticing_daily</th>\n",
       "    </tr>\n",
       "  </thead>\n",
       "  <tbody>\n",
       "    <tr>\n",
       "      <th>0</th>\n",
       "      <td>1</td>\n",
       "      <td>328391343</td>\n",
       "      <td>328391582</td>\n",
       "      <td>/* Episodes */</td>\n",
       "      <td>24477266</td>\n",
       "      <td>Top Gear (series 14)</td>\n",
       "      <td>3</td>\n",
       "      <td>3</td>\n",
       "      <td>1.0</td>\n",
       "      <td>23.0</td>\n",
       "      <td>...</td>\n",
       "      <td>0</td>\n",
       "      <td>1</td>\n",
       "      <td>0</td>\n",
       "      <td>0</td>\n",
       "      <td>0</td>\n",
       "      <td>0</td>\n",
       "      <td>0</td>\n",
       "      <td>0</td>\n",
       "      <td>0</td>\n",
       "      <td>1</td>\n",
       "    </tr>\n",
       "    <tr>\n",
       "      <th>1</th>\n",
       "      <td>1</td>\n",
       "      <td>328391343</td>\n",
       "      <td>328391582</td>\n",
       "      <td>/* Episodes */</td>\n",
       "      <td>24477266</td>\n",
       "      <td>Top Gear (series 14)</td>\n",
       "      <td>3</td>\n",
       "      <td>3</td>\n",
       "      <td>2.0</td>\n",
       "      <td>23.0</td>\n",
       "      <td>...</td>\n",
       "      <td>0</td>\n",
       "      <td>1</td>\n",
       "      <td>0</td>\n",
       "      <td>0</td>\n",
       "      <td>0</td>\n",
       "      <td>0</td>\n",
       "      <td>1</td>\n",
       "      <td>0</td>\n",
       "      <td>0</td>\n",
       "      <td>0</td>\n",
       "    </tr>\n",
       "  </tbody>\n",
       "</table>\n",
       "<p>2 rows × 33 columns</p>\n",
       "</div>"
      ],
      "text/plain": [
       "   editid  oldrevisionid  newrevisionid     editcomment  articleid  \\\n",
       "0       1      328391343      328391582  /* Episodes */   24477266   \n",
       "1       1      328391343      328391582  /* Episodes */   24477266   \n",
       "\n",
       "           articletitle  annotators  totalannotators  annotatorid   age  \\\n",
       "0  Top Gear (series 14)           3                3          1.0  23.0   \n",
       "1  Top Gear (series 14)           3                3          2.0  23.0   \n",
       "\n",
       "        ...        editing_never  editing_less  editing_monthly  \\\n",
       "0       ...                    0             1                0   \n",
       "1       ...                    0             1                0   \n",
       "\n",
       "   editing_weekly  editing_daily  noticing_less  noticing_monthly  \\\n",
       "0               0              0              0                 0   \n",
       "1               0              0              0                 1   \n",
       "\n",
       "   noticing_never  noticing_weekly  noticing_daily  \n",
       "0               0                0               1  \n",
       "1               0                0               0  \n",
       "\n",
       "[2 rows x 33 columns]"
      ]
     },
     "execution_count": 44,
     "metadata": {},
     "output_type": "execute_result"
    }
   ],
   "source": [
    "# Now I need to drop the old  ['class_x', 'class_y', 'sex', 'reading','editing', 'noticing'] from wikivand\n",
    "wikivand = wikivand.drop(['class_x', 'class_y', 'sex', 'reading','editing', 'noticing'], axis =1)\n",
    "wikivand.head(2)"
   ]
  },
  {
   "cell_type": "code",
   "execution_count": 45,
   "metadata": {
    "collapsed": true
   },
   "outputs": [],
   "source": [
    "# wikivand has all numeric features and two string features: comments and article id"
   ]
  },
  {
   "cell_type": "code",
   "execution_count": 46,
   "metadata": {
    "collapsed": false
   },
   "outputs": [
    {
     "data": {
      "text/html": [
       "<div>\n",
       "<table border=\"1\" class=\"dataframe\">\n",
       "  <thead>\n",
       "    <tr style=\"text-align: right;\">\n",
       "      <th></th>\n",
       "      <th>editid</th>\n",
       "      <th>oldrevisionid</th>\n",
       "      <th>newrevisionid</th>\n",
       "      <th>editcomment</th>\n",
       "      <th>articleid</th>\n",
       "      <th>articletitle</th>\n",
       "      <th>annotators</th>\n",
       "      <th>totalannotators</th>\n",
       "      <th>annotatorid</th>\n",
       "      <th>age</th>\n",
       "      <th>...</th>\n",
       "      <th>editing_never</th>\n",
       "      <th>editing_less</th>\n",
       "      <th>editing_monthly</th>\n",
       "      <th>editing_weekly</th>\n",
       "      <th>editing_daily</th>\n",
       "      <th>noticing_less</th>\n",
       "      <th>noticing_monthly</th>\n",
       "      <th>noticing_never</th>\n",
       "      <th>noticing_weekly</th>\n",
       "      <th>noticing_daily</th>\n",
       "    </tr>\n",
       "  </thead>\n",
       "  <tbody>\n",
       "    <tr>\n",
       "      <th>0</th>\n",
       "      <td>1</td>\n",
       "      <td>328391343</td>\n",
       "      <td>328391582</td>\n",
       "      <td>/* Episodes */</td>\n",
       "      <td>24477266</td>\n",
       "      <td>Top Gear (series 14)</td>\n",
       "      <td>3</td>\n",
       "      <td>3</td>\n",
       "      <td>1.0</td>\n",
       "      <td>23.0</td>\n",
       "      <td>...</td>\n",
       "      <td>0</td>\n",
       "      <td>1</td>\n",
       "      <td>0</td>\n",
       "      <td>0</td>\n",
       "      <td>0</td>\n",
       "      <td>0</td>\n",
       "      <td>0</td>\n",
       "      <td>0</td>\n",
       "      <td>0</td>\n",
       "      <td>1</td>\n",
       "    </tr>\n",
       "    <tr>\n",
       "      <th>1</th>\n",
       "      <td>1</td>\n",
       "      <td>328391343</td>\n",
       "      <td>328391582</td>\n",
       "      <td>/* Episodes */</td>\n",
       "      <td>24477266</td>\n",
       "      <td>Top Gear (series 14)</td>\n",
       "      <td>3</td>\n",
       "      <td>3</td>\n",
       "      <td>2.0</td>\n",
       "      <td>23.0</td>\n",
       "      <td>...</td>\n",
       "      <td>0</td>\n",
       "      <td>1</td>\n",
       "      <td>0</td>\n",
       "      <td>0</td>\n",
       "      <td>0</td>\n",
       "      <td>0</td>\n",
       "      <td>1</td>\n",
       "      <td>0</td>\n",
       "      <td>0</td>\n",
       "      <td>0</td>\n",
       "    </tr>\n",
       "  </tbody>\n",
       "</table>\n",
       "<p>2 rows × 33 columns</p>\n",
       "</div>"
      ],
      "text/plain": [
       "   editid  oldrevisionid  newrevisionid     editcomment  articleid  \\\n",
       "0       1      328391343      328391582  /* Episodes */   24477266   \n",
       "1       1      328391343      328391582  /* Episodes */   24477266   \n",
       "\n",
       "           articletitle  annotators  totalannotators  annotatorid   age  \\\n",
       "0  Top Gear (series 14)           3                3          1.0  23.0   \n",
       "1  Top Gear (series 14)           3                3          2.0  23.0   \n",
       "\n",
       "        ...        editing_never  editing_less  editing_monthly  \\\n",
       "0       ...                    0             1                0   \n",
       "1       ...                    0             1                0   \n",
       "\n",
       "   editing_weekly  editing_daily  noticing_less  noticing_monthly  \\\n",
       "0               0              0              0                 0   \n",
       "1               0              0              0                 1   \n",
       "\n",
       "   noticing_never  noticing_weekly  noticing_daily  \n",
       "0               0                0               1  \n",
       "1               0                0               0  \n",
       "\n",
       "[2 rows x 33 columns]"
      ]
     },
     "execution_count": 46,
     "metadata": {},
     "output_type": "execute_result"
    }
   ],
   "source": [
    "# Let's study all the features other than these two\n",
    "wikivand1 = wikivand.copy()\n",
    "wikivand1.head(2)"
   ]
  },
  {
   "cell_type": "code",
   "execution_count": 47,
   "metadata": {
    "collapsed": true
   },
   "outputs": [],
   "source": [
    "# Let's plot the distribution of all the continuous variables in  wikivand1"
   ]
  },
  {
   "cell_type": "code",
   "execution_count": 48,
   "metadata": {
    "collapsed": false
   },
   "outputs": [
    {
     "data": {
      "image/png": "[encoded data removed]",
      "text/plain": [
       "<matplotlib.figure.Figure at 0x117a8dda0>"
      ]
     },
     "metadata": {},
     "output_type": "display_data"
    }
   ],
   "source": [
    "import matplotlib.pyplot as plt\n",
    "%matplotlib inline \n",
    "plot1= wikivand1[wikivand1.dtypes[(wikivand1.dtypes==\"float64\")|(wikivand1.dtypes==\"int64\")].index.values].hist(figsize=[15,15])\n"
   ]
  },
  {
   "cell_type": "code",
   "execution_count": 53,
   "metadata": {
    "collapsed": false
   },
   "outputs": [
    {
     "data": {
      "text/html": [
       "<div>\n",
       "<table border=\"1\" class=\"dataframe\">\n",
       "  <thead>\n",
       "    <tr style=\"text-align: right;\">\n",
       "      <th></th>\n",
       "      <th>editid</th>\n",
       "      <th>oldrevisionid</th>\n",
       "      <th>newrevisionid</th>\n",
       "      <th>articleid</th>\n",
       "      <th>annotators</th>\n",
       "      <th>totalannotators</th>\n",
       "      <th>annotatorid</th>\n",
       "      <th>age</th>\n",
       "      <th>vandalizing</th>\n",
       "      <th>decisiontime</th>\n",
       "      <th>...</th>\n",
       "      <th>editing_never</th>\n",
       "      <th>editing_less</th>\n",
       "      <th>editing_monthly</th>\n",
       "      <th>editing_weekly</th>\n",
       "      <th>editing_daily</th>\n",
       "      <th>noticing_less</th>\n",
       "      <th>noticing_monthly</th>\n",
       "      <th>noticing_never</th>\n",
       "      <th>noticing_weekly</th>\n",
       "      <th>noticing_daily</th>\n",
       "    </tr>\n",
       "  </thead>\n",
       "  <tbody>\n",
       "    <tr>\n",
       "      <th>0</th>\n",
       "      <td>1</td>\n",
       "      <td>328391343</td>\n",
       "      <td>328391582</td>\n",
       "      <td>24477266</td>\n",
       "      <td>3</td>\n",
       "      <td>3</td>\n",
       "      <td>1.0</td>\n",
       "      <td>23.0</td>\n",
       "      <td>0</td>\n",
       "      <td>43453.0</td>\n",
       "      <td>...</td>\n",
       "      <td>0</td>\n",
       "      <td>1</td>\n",
       "      <td>0</td>\n",
       "      <td>0</td>\n",
       "      <td>0</td>\n",
       "      <td>0</td>\n",
       "      <td>0</td>\n",
       "      <td>0</td>\n",
       "      <td>0</td>\n",
       "      <td>1</td>\n",
       "    </tr>\n",
       "    <tr>\n",
       "      <th>1</th>\n",
       "      <td>1</td>\n",
       "      <td>328391343</td>\n",
       "      <td>328391582</td>\n",
       "      <td>24477266</td>\n",
       "      <td>3</td>\n",
       "      <td>3</td>\n",
       "      <td>2.0</td>\n",
       "      <td>23.0</td>\n",
       "      <td>0</td>\n",
       "      <td>14156.0</td>\n",
       "      <td>...</td>\n",
       "      <td>0</td>\n",
       "      <td>1</td>\n",
       "      <td>0</td>\n",
       "      <td>0</td>\n",
       "      <td>0</td>\n",
       "      <td>0</td>\n",
       "      <td>1</td>\n",
       "      <td>0</td>\n",
       "      <td>0</td>\n",
       "      <td>0</td>\n",
       "    </tr>\n",
       "  </tbody>\n",
       "</table>\n",
       "<p>2 rows × 31 columns</p>\n",
       "</div>"
      ],
      "text/plain": [
       "   editid  oldrevisionid  newrevisionid  articleid  annotators  \\\n",
       "0       1      328391343      328391582   24477266           3   \n",
       "1       1      328391343      328391582   24477266           3   \n",
       "\n",
       "   totalannotators  annotatorid   age  vandalizing  decisiontime  \\\n",
       "0                3          1.0  23.0            0       43453.0   \n",
       "1                3          2.0  23.0            0       14156.0   \n",
       "\n",
       "        ...        editing_never  editing_less  editing_monthly  \\\n",
       "0       ...                    0             1                0   \n",
       "1       ...                    0             1                0   \n",
       "\n",
       "   editing_weekly  editing_daily  noticing_less  noticing_monthly  \\\n",
       "0               0              0              0                 0   \n",
       "1               0              0              0                 1   \n",
       "\n",
       "   noticing_never  noticing_weekly  noticing_daily  \n",
       "0               0                0               1  \n",
       "1               0                0               0  \n",
       "\n",
       "[2 rows x 31 columns]"
      ]
     },
     "execution_count": 53,
     "metadata": {},
     "output_type": "execute_result"
    }
   ],
   "source": [
    "wikivand1 = wikivand1[wikivand1.dtypes[(wikivand1.dtypes==\"float64\")|(wikivand1.dtypes==\"int64\")].index.values]\n",
    "wikivand1.head(2)  # A dataframe with only int and float values"
   ]
  },
  {
   "cell_type": "code",
   "execution_count": 54,
   "metadata": {
    "collapsed": false
   },
   "outputs": [
    {
     "data": {
      "text/plain": [
       "0    0\n",
       "1    0\n",
       "Name: vandalizing, dtype: int64"
      ]
     },
     "execution_count": 54,
     "metadata": {},
     "output_type": "execute_result"
    }
   ],
   "source": [
    "y = wikivand1.vandalizing.astype(int)\n",
    "y.head(2)"
   ]
  },
  {
   "cell_type": "code",
   "execution_count": 55,
   "metadata": {
    "collapsed": false
   },
   "outputs": [
    {
     "data": {
      "text/html": [
       "<div>\n",
       "<table border=\"1\" class=\"dataframe\">\n",
       "  <thead>\n",
       "    <tr style=\"text-align: right;\">\n",
       "      <th></th>\n",
       "      <th>editid</th>\n",
       "      <th>oldrevisionid</th>\n",
       "      <th>newrevisionid</th>\n",
       "      <th>articleid</th>\n",
       "      <th>annotators</th>\n",
       "      <th>totalannotators</th>\n",
       "      <th>annotatorid</th>\n",
       "      <th>age</th>\n",
       "      <th>decisiontime</th>\n",
       "      <th>time</th>\n",
       "      <th>...</th>\n",
       "      <th>editing_never</th>\n",
       "      <th>editing_less</th>\n",
       "      <th>editing_monthly</th>\n",
       "      <th>editing_weekly</th>\n",
       "      <th>editing_daily</th>\n",
       "      <th>noticing_less</th>\n",
       "      <th>noticing_monthly</th>\n",
       "      <th>noticing_never</th>\n",
       "      <th>noticing_weekly</th>\n",
       "      <th>noticing_daily</th>\n",
       "    </tr>\n",
       "  </thead>\n",
       "  <tbody>\n",
       "    <tr>\n",
       "      <th>0</th>\n",
       "      <td>1</td>\n",
       "      <td>328391343</td>\n",
       "      <td>328391582</td>\n",
       "      <td>24477266</td>\n",
       "      <td>3</td>\n",
       "      <td>3</td>\n",
       "      <td>1.0</td>\n",
       "      <td>23.0</td>\n",
       "      <td>43453.0</td>\n",
       "      <td>90</td>\n",
       "      <td>...</td>\n",
       "      <td>0</td>\n",
       "      <td>1</td>\n",
       "      <td>0</td>\n",
       "      <td>0</td>\n",
       "      <td>0</td>\n",
       "      <td>0</td>\n",
       "      <td>0</td>\n",
       "      <td>0</td>\n",
       "      <td>0</td>\n",
       "      <td>1</td>\n",
       "    </tr>\n",
       "    <tr>\n",
       "      <th>1</th>\n",
       "      <td>1</td>\n",
       "      <td>328391343</td>\n",
       "      <td>328391582</td>\n",
       "      <td>24477266</td>\n",
       "      <td>3</td>\n",
       "      <td>3</td>\n",
       "      <td>2.0</td>\n",
       "      <td>23.0</td>\n",
       "      <td>14156.0</td>\n",
       "      <td>90</td>\n",
       "      <td>...</td>\n",
       "      <td>0</td>\n",
       "      <td>1</td>\n",
       "      <td>0</td>\n",
       "      <td>0</td>\n",
       "      <td>0</td>\n",
       "      <td>0</td>\n",
       "      <td>1</td>\n",
       "      <td>0</td>\n",
       "      <td>0</td>\n",
       "      <td>0</td>\n",
       "    </tr>\n",
       "  </tbody>\n",
       "</table>\n",
       "<p>2 rows × 30 columns</p>\n",
       "</div>"
      ],
      "text/plain": [
       "   editid  oldrevisionid  newrevisionid  articleid  annotators  \\\n",
       "0       1      328391343      328391582   24477266           3   \n",
       "1       1      328391343      328391582   24477266           3   \n",
       "\n",
       "   totalannotators  annotatorid   age  decisiontime  time       ...        \\\n",
       "0                3          1.0  23.0       43453.0    90       ...         \n",
       "1                3          2.0  23.0       14156.0    90       ...         \n",
       "\n",
       "   editing_never  editing_less  editing_monthly  editing_weekly  \\\n",
       "0              0             1                0               0   \n",
       "1              0             1                0               0   \n",
       "\n",
       "   editing_daily  noticing_less  noticing_monthly  noticing_never  \\\n",
       "0              0              0                 0               0   \n",
       "1              0              0                 1               0   \n",
       "\n",
       "   noticing_weekly  noticing_daily  \n",
       "0                0               1  \n",
       "1                0               0  \n",
       "\n",
       "[2 rows x 30 columns]"
      ]
     },
     "execution_count": 55,
     "metadata": {},
     "output_type": "execute_result"
    }
   ],
   "source": [
    "x = wikivand1.drop(['vandalizing'], axis = 1)\n",
    "x.head(2)"
   ]
  },
  {
   "cell_type": "code",
   "execution_count": 56,
   "metadata": {
    "collapsed": true
   },
   "outputs": [],
   "source": [
    "# Defining x_train, y_train, x_test, y_test \n",
    "from sklearn.cross_validation import train_test_split\n",
    "x_train, x_test, y_train, y_test = train_test_split(x, y, test_size=0.2, random_state=0)"
   ]
  },
  {
   "cell_type": "code",
   "execution_count": 59,
   "metadata": {
    "collapsed": false
   },
   "outputs": [
    {
     "data": {
      "text/plain": [
       "LogisticRegression(C=1.0, class_weight='balanced', dual=False,\n",
       "          fit_intercept=True, intercept_scaling=1, max_iter=100,\n",
       "          multi_class='ovr', n_jobs=1, penalty='l2', random_state=None,\n",
       "          solver='liblinear', tol=0.0001, verbose=0, warm_start=False)"
      ]
     },
     "execution_count": 59,
     "metadata": {},
     "output_type": "execute_result"
    }
   ],
   "source": [
    "from sklearn.linear_model import LogisticRegression\n",
    "from sklearn import datasets\n",
    "from sklearn import metrics\n",
    "model1 = LogisticRegression(class_weight = 'balanced')\n",
    "model1.fit(x_train,y_train)\n"
   ]
  },
  {
   "cell_type": "code",
   "execution_count": 60,
   "metadata": {
    "collapsed": false
   },
   "outputs": [
    {
     "name": "stdout",
     "output_type": "stream",
     "text": [
      "             precision    recall  f1-score   support\n",
      "\n",
      "          0       0.99      0.72      0.84     26885\n",
      "          1       0.01      0.49      0.02       196\n",
      "\n",
      "avg / total       0.99      0.72      0.83     27081\n",
      "\n"
     ]
    }
   ],
   "source": [
    "# make predictions\n",
    "expected = y_test\n",
    "predicted = model1.predict(x_test)\n",
    "# summarize the fit of the model\n",
    "print(metrics.classification_report(expected, predicted))\n"
   ]
  },
  {
   "cell_type": "code",
   "execution_count": 61,
   "metadata": {
    "collapsed": false
   },
   "outputs": [
    {
     "name": "stdout",
     "output_type": "stream",
     "text": [
      "[[19389  7496]\n",
      " [  100    96]]\n"
     ]
    }
   ],
   "source": [
    "print(metrics.confusion_matrix(expected, predicted))"
   ]
  },
  {
   "cell_type": "code",
   "execution_count": 62,
   "metadata": {
    "collapsed": false
   },
   "outputs": [
    {
     "data": {
      "text/plain": [
       "0.71950814223994686"
      ]
     },
     "execution_count": 62,
     "metadata": {},
     "output_type": "execute_result"
    }
   ],
   "source": [
    "model1.score(x_test, y_test)"
   ]
  },
  {
   "cell_type": "code",
   "execution_count": 67,
   "metadata": {
    "collapsed": false
   },
   "outputs": [
    {
     "data": {
      "text/plain": [
       "SVC(C=1.0, cache_size=200, class_weight='balanced', coef0=0.0,\n",
       "  decision_function_shape=None, degree=3, gamma='auto', kernel='rbf',\n",
       "  max_iter=-1, probability=False, random_state=None, shrinking=True,\n",
       "  tol=0.001, verbose=False)"
      ]
     },
     "execution_count": 67,
     "metadata": {},
     "output_type": "execute_result"
    }
   ],
   "source": [
    "# Support Vector Machine\n",
    "\n",
    "from sklearn import metrics\n",
    "from sklearn.svm import SVC\n",
    "# fit a SVM model to the data\n",
    "model2 = SVC(class_weight = 'balanced')\n",
    "model2.fit(x_train, y_train)"
   ]
  },
  {
   "cell_type": "code",
   "execution_count": 68,
   "metadata": {
    "collapsed": false
   },
   "outputs": [
    {
     "name": "stdout",
     "output_type": "stream",
     "text": [
      "             precision    recall  f1-score   support\n",
      "\n",
      "          0       0.99      1.00      1.00     26885\n",
      "          1       0.00      0.00      0.00       196\n",
      "\n",
      "avg / total       0.99      0.99      0.99     27081\n",
      "\n"
     ]
    },
    {
     "name": "stderr",
     "output_type": "stream",
     "text": [
      "/Users/Vivek/anaconda/lib/python3.5/site-packages/sklearn/metrics/classification.py:1074: UndefinedMetricWarning: Precision and F-score are ill-defined and being set to 0.0 in labels with no predicted samples.\n",
      "  'precision', 'predicted', average, warn_for)\n"
     ]
    }
   ],
   "source": [
    "# make predictions\n",
    "expected2 = y_test\n",
    "predicted2 = model2.predict(x_test)\n",
    "# summarize the fit of the model\n",
    "print(metrics.classification_report(expected2, predicted2))\n"
   ]
  },
  {
   "cell_type": "code",
   "execution_count": 69,
   "metadata": {
    "collapsed": false
   },
   "outputs": [
    {
     "name": "stdout",
     "output_type": "stream",
     "text": [
      "[[26885     0]\n",
      " [  196     0]]\n"
     ]
    }
   ],
   "source": [
    "print(metrics.confusion_matrix(expected2, predicted2))"
   ]
  },
  {
   "cell_type": "code",
   "execution_count": 70,
   "metadata": {
    "collapsed": false
   },
   "outputs": [
    {
     "data": {
      "text/plain": [
       "0.99276245338059899"
      ]
     },
     "execution_count": 70,
     "metadata": {},
     "output_type": "execute_result"
    }
   ],
   "source": [
    "model2.score(x_test, y_test)"
   ]
  },
  {
   "cell_type": "code",
   "execution_count": 71,
   "metadata": {
    "collapsed": false
   },
   "outputs": [
    {
     "data": {
      "text/plain": [
       "'We are getting around 99%accuracy with both Logistic Regression and Support Vector Machines\\nMay be the data is over fitting or editors id is more influencign and few are editors with specific ids are always vandalising\\nNow, we will take a look at how comment influence out prediction accuracy.'"
      ]
     },
     "execution_count": 71,
     "metadata": {},
     "output_type": "execute_result"
    }
   ],
   "source": [
    "'''We are getting around 99%accuracy with both Logistic Regression and Support Vector Machines\n",
    "May be the data is over fitting or editors id is more influencign and few are editors with specific ids are always vandalising\n",
    "Now, we will take a look at how comment influence out prediction accuracy.'''"
   ]
  },
  {
   "cell_type": "code",
   "execution_count": 72,
   "metadata": {
    "collapsed": false
   },
   "outputs": [
    {
     "data": {
      "text/html": [
       "<div>\n",
       "<table border=\"1\" class=\"dataframe\">\n",
       "  <thead>\n",
       "    <tr style=\"text-align: right;\">\n",
       "      <th></th>\n",
       "      <th>editid</th>\n",
       "      <th>oldrevisionid</th>\n",
       "      <th>newrevisionid</th>\n",
       "      <th>editcomment</th>\n",
       "      <th>articleid</th>\n",
       "      <th>articletitle</th>\n",
       "      <th>annotators</th>\n",
       "      <th>totalannotators</th>\n",
       "      <th>annotatorid</th>\n",
       "      <th>age</th>\n",
       "      <th>...</th>\n",
       "      <th>editing_never</th>\n",
       "      <th>editing_less</th>\n",
       "      <th>editing_monthly</th>\n",
       "      <th>editing_weekly</th>\n",
       "      <th>editing_daily</th>\n",
       "      <th>noticing_less</th>\n",
       "      <th>noticing_monthly</th>\n",
       "      <th>noticing_never</th>\n",
       "      <th>noticing_weekly</th>\n",
       "      <th>noticing_daily</th>\n",
       "    </tr>\n",
       "  </thead>\n",
       "  <tbody>\n",
       "    <tr>\n",
       "      <th>0</th>\n",
       "      <td>1</td>\n",
       "      <td>328391343</td>\n",
       "      <td>328391582</td>\n",
       "      <td>/* Episodes */</td>\n",
       "      <td>24477266</td>\n",
       "      <td>Top Gear (series 14)</td>\n",
       "      <td>3</td>\n",
       "      <td>3</td>\n",
       "      <td>1.0</td>\n",
       "      <td>23.0</td>\n",
       "      <td>...</td>\n",
       "      <td>0</td>\n",
       "      <td>1</td>\n",
       "      <td>0</td>\n",
       "      <td>0</td>\n",
       "      <td>0</td>\n",
       "      <td>0</td>\n",
       "      <td>0</td>\n",
       "      <td>0</td>\n",
       "      <td>0</td>\n",
       "      <td>1</td>\n",
       "    </tr>\n",
       "    <tr>\n",
       "      <th>1</th>\n",
       "      <td>1</td>\n",
       "      <td>328391343</td>\n",
       "      <td>328391582</td>\n",
       "      <td>/* Episodes */</td>\n",
       "      <td>24477266</td>\n",
       "      <td>Top Gear (series 14)</td>\n",
       "      <td>3</td>\n",
       "      <td>3</td>\n",
       "      <td>2.0</td>\n",
       "      <td>23.0</td>\n",
       "      <td>...</td>\n",
       "      <td>0</td>\n",
       "      <td>1</td>\n",
       "      <td>0</td>\n",
       "      <td>0</td>\n",
       "      <td>0</td>\n",
       "      <td>0</td>\n",
       "      <td>1</td>\n",
       "      <td>0</td>\n",
       "      <td>0</td>\n",
       "      <td>0</td>\n",
       "    </tr>\n",
       "  </tbody>\n",
       "</table>\n",
       "<p>2 rows × 33 columns</p>\n",
       "</div>"
      ],
      "text/plain": [
       "   editid  oldrevisionid  newrevisionid     editcomment  articleid  \\\n",
       "0       1      328391343      328391582  /* Episodes */   24477266   \n",
       "1       1      328391343      328391582  /* Episodes */   24477266   \n",
       "\n",
       "           articletitle  annotators  totalannotators  annotatorid   age  \\\n",
       "0  Top Gear (series 14)           3                3          1.0  23.0   \n",
       "1  Top Gear (series 14)           3                3          2.0  23.0   \n",
       "\n",
       "        ...        editing_never  editing_less  editing_monthly  \\\n",
       "0       ...                    0             1                0   \n",
       "1       ...                    0             1                0   \n",
       "\n",
       "   editing_weekly  editing_daily  noticing_less  noticing_monthly  \\\n",
       "0               0              0              0                 0   \n",
       "1               0              0              0                 1   \n",
       "\n",
       "   noticing_never  noticing_weekly  noticing_daily  \n",
       "0               0                0               1  \n",
       "1               0                0               0  \n",
       "\n",
       "[2 rows x 33 columns]"
      ]
     },
     "execution_count": 72,
     "metadata": {},
     "output_type": "execute_result"
    }
   ],
   "source": [
    "# we will make second copy of wikivand for this\n",
    "wikivand2 = wikivand.copy()\n",
    "wikivand2.head(2)"
   ]
  },
  {
   "cell_type": "code",
   "execution_count": 73,
   "metadata": {
    "collapsed": false
   },
   "outputs": [],
   "source": [
    "# Vectorising EDITComments\n",
    "from sklearn.feature_extraction.text import CountVectorizer\n",
    "corpus = wikivand2['editcomment']\n"
   ]
  },
  {
   "cell_type": "code",
   "execution_count": 74,
   "metadata": {
    "collapsed": false
   },
   "outputs": [],
   "source": [
    "# Creating 1000 features from comments\n",
    "vectorizer = CountVectorizer(min_df = 1, stop_words = 'english', max_features=1000 ) # rejecting all the words with frequency lower than 10\n"
   ]
  },
  {
   "cell_type": "code",
   "execution_count": 75,
   "metadata": {
    "collapsed": false
   },
   "outputs": [
    {
     "data": {
      "text/plain": [
       "<135405x1000 sparse matrix of type '<class 'numpy.int64'>'\n",
       "\twith 361706 stored elements in Compressed Sparse Row format>"
      ]
     },
     "execution_count": 75,
     "metadata": {},
     "output_type": "execute_result"
    }
   ],
   "source": [
    "X = vectorizer.fit_transform(corpus)\n",
    "X"
   ]
  },
  {
   "cell_type": "code",
   "execution_count": 76,
   "metadata": {
    "collapsed": false
   },
   "outputs": [
    {
     "data": {
      "text/plain": [
       "<bound method _cs_matrix.toarray of <135405x1000 sparse matrix of type '<class 'numpy.int64'>'\n",
       "\twith 361706 stored elements in Compressed Sparse Row format>>"
      ]
     },
     "execution_count": 76,
     "metadata": {},
     "output_type": "execute_result"
    }
   ],
   "source": [
    "X.toarray"
   ]
  },
  {
   "cell_type": "code",
   "execution_count": 77,
   "metadata": {
    "collapsed": false
   },
   "outputs": [
    {
     "data": {
      "text/plain": [
       "<135405x1000 sparse matrix of type '<class 'numpy.int64'>'\n",
       "\twith 361706 stored elements in Compressed Sparse Row format>"
      ]
     },
     "execution_count": 77,
     "metadata": {},
     "output_type": "execute_result"
    }
   ],
   "source": [
    "X"
   ]
  },
  {
   "cell_type": "code",
   "execution_count": 78,
   "metadata": {
    "collapsed": false
   },
   "outputs": [],
   "source": [
    "vocab = vectorizer.vocabulary_\n",
    "#vocab\n"
   ]
  },
  {
   "cell_type": "code",
   "execution_count": 79,
   "metadata": {
    "collapsed": false
   },
   "outputs": [],
   "source": [
    "columns=vectorizer.get_feature_names()\n",
    "#columns"
   ]
  },
  {
   "cell_type": "code",
   "execution_count": 80,
   "metadata": {
    "collapsed": false
   },
   "outputs": [
    {
     "data": {
      "text/html": [
       "<div>\n",
       "<table border=\"1\" class=\"dataframe\">\n",
       "  <thead>\n",
       "    <tr style=\"text-align: right;\">\n",
       "      <th></th>\n",
       "      <th>10</th>\n",
       "      <th>100</th>\n",
       "      <th>101</th>\n",
       "      <th>102</th>\n",
       "      <th>103</th>\n",
       "      <th>104</th>\n",
       "      <th>105</th>\n",
       "      <th>106</th>\n",
       "      <th>107</th>\n",
       "      <th>108</th>\n",
       "      <th>...</th>\n",
       "      <th>wp</th>\n",
       "      <th>wrestling</th>\n",
       "      <th>written</th>\n",
       "      <th>wrong</th>\n",
       "      <th>www</th>\n",
       "      <th>year</th>\n",
       "      <th>years</th>\n",
       "      <th>yes</th>\n",
       "      <th>youtube</th>\n",
       "      <th>zone</th>\n",
       "    </tr>\n",
       "  </thead>\n",
       "  <tbody>\n",
       "    <tr>\n",
       "      <th>0</th>\n",
       "      <td>0</td>\n",
       "      <td>0</td>\n",
       "      <td>0</td>\n",
       "      <td>0</td>\n",
       "      <td>0</td>\n",
       "      <td>0</td>\n",
       "      <td>0</td>\n",
       "      <td>0</td>\n",
       "      <td>0</td>\n",
       "      <td>0</td>\n",
       "      <td>...</td>\n",
       "      <td>0</td>\n",
       "      <td>0</td>\n",
       "      <td>0</td>\n",
       "      <td>0</td>\n",
       "      <td>0</td>\n",
       "      <td>0</td>\n",
       "      <td>0</td>\n",
       "      <td>0</td>\n",
       "      <td>0</td>\n",
       "      <td>0</td>\n",
       "    </tr>\n",
       "    <tr>\n",
       "      <th>1</th>\n",
       "      <td>0</td>\n",
       "      <td>0</td>\n",
       "      <td>0</td>\n",
       "      <td>0</td>\n",
       "      <td>0</td>\n",
       "      <td>0</td>\n",
       "      <td>0</td>\n",
       "      <td>0</td>\n",
       "      <td>0</td>\n",
       "      <td>0</td>\n",
       "      <td>...</td>\n",
       "      <td>0</td>\n",
       "      <td>0</td>\n",
       "      <td>0</td>\n",
       "      <td>0</td>\n",
       "      <td>0</td>\n",
       "      <td>0</td>\n",
       "      <td>0</td>\n",
       "      <td>0</td>\n",
       "      <td>0</td>\n",
       "      <td>0</td>\n",
       "    </tr>\n",
       "  </tbody>\n",
       "</table>\n",
       "<p>2 rows × 1000 columns</p>\n",
       "</div>"
      ],
      "text/plain": [
       "   10  100  101  102  103  104  105  106  107  108  ...   wp  wrestling  \\\n",
       "0   0    0    0    0    0    0    0    0    0    0  ...    0          0   \n",
       "1   0    0    0    0    0    0    0    0    0    0  ...    0          0   \n",
       "\n",
       "   written  wrong  www  year  years  yes  youtube  zone  \n",
       "0        0      0    0     0      0    0        0     0  \n",
       "1        0      0    0     0      0    0        0     0  \n",
       "\n",
       "[2 rows x 1000 columns]"
      ]
     },
     "execution_count": 80,
     "metadata": {},
     "output_type": "execute_result"
    }
   ],
   "source": [
    "temp7 = DataFrame(X.A, columns=vectorizer.get_feature_names())\n",
    "temp7.head(2)"
   ]
  },
  {
   "cell_type": "code",
   "execution_count": 81,
   "metadata": {
    "collapsed": false
   },
   "outputs": [
    {
     "data": {
      "text/html": [
       "<div>\n",
       "<table border=\"1\" class=\"dataframe\">\n",
       "  <thead>\n",
       "    <tr style=\"text-align: right;\">\n",
       "      <th></th>\n",
       "      <th>10</th>\n",
       "      <th>100</th>\n",
       "      <th>101</th>\n",
       "      <th>102</th>\n",
       "      <th>103</th>\n",
       "      <th>104</th>\n",
       "      <th>105</th>\n",
       "      <th>106</th>\n",
       "      <th>107</th>\n",
       "      <th>108</th>\n",
       "      <th>...</th>\n",
       "      <th>wp</th>\n",
       "      <th>wrestling</th>\n",
       "      <th>written</th>\n",
       "      <th>wrong</th>\n",
       "      <th>www</th>\n",
       "      <th>year</th>\n",
       "      <th>years</th>\n",
       "      <th>yes</th>\n",
       "      <th>youtube</th>\n",
       "      <th>zone</th>\n",
       "    </tr>\n",
       "  </thead>\n",
       "  <tbody>\n",
       "    <tr>\n",
       "      <th>0</th>\n",
       "      <td>0</td>\n",
       "      <td>0</td>\n",
       "      <td>0</td>\n",
       "      <td>0</td>\n",
       "      <td>0</td>\n",
       "      <td>0</td>\n",
       "      <td>0</td>\n",
       "      <td>0</td>\n",
       "      <td>0</td>\n",
       "      <td>0</td>\n",
       "      <td>...</td>\n",
       "      <td>0</td>\n",
       "      <td>0</td>\n",
       "      <td>0</td>\n",
       "      <td>0</td>\n",
       "      <td>0</td>\n",
       "      <td>0</td>\n",
       "      <td>0</td>\n",
       "      <td>0</td>\n",
       "      <td>0</td>\n",
       "      <td>0</td>\n",
       "    </tr>\n",
       "    <tr>\n",
       "      <th>1</th>\n",
       "      <td>0</td>\n",
       "      <td>0</td>\n",
       "      <td>0</td>\n",
       "      <td>0</td>\n",
       "      <td>0</td>\n",
       "      <td>0</td>\n",
       "      <td>0</td>\n",
       "      <td>0</td>\n",
       "      <td>0</td>\n",
       "      <td>0</td>\n",
       "      <td>...</td>\n",
       "      <td>0</td>\n",
       "      <td>0</td>\n",
       "      <td>0</td>\n",
       "      <td>0</td>\n",
       "      <td>0</td>\n",
       "      <td>0</td>\n",
       "      <td>0</td>\n",
       "      <td>0</td>\n",
       "      <td>0</td>\n",
       "      <td>0</td>\n",
       "    </tr>\n",
       "  </tbody>\n",
       "</table>\n",
       "<p>2 rows × 1000 columns</p>\n",
       "</div>"
      ],
      "text/plain": [
       "   10  100  101  102  103  104  105  106  107  108  ...   wp  wrestling  \\\n",
       "0   0    0    0    0    0    0    0    0    0    0  ...    0          0   \n",
       "1   0    0    0    0    0    0    0    0    0    0  ...    0          0   \n",
       "\n",
       "   written  wrong  www  year  years  yes  youtube  zone  \n",
       "0        0      0    0     0      0    0        0     0  \n",
       "1        0      0    0     0      0    0        0     0  \n",
       "\n",
       "[2 rows x 1000 columns]"
      ]
     },
     "execution_count": 81,
     "metadata": {},
     "output_type": "execute_result"
    }
   ],
   "source": [
    "temp7 = temp7.set_index(wikivand2.index.values)\n",
    "temp7.head(2)"
   ]
  },
  {
   "cell_type": "code",
   "execution_count": 82,
   "metadata": {
    "collapsed": false
   },
   "outputs": [
    {
     "data": {
      "text/html": [
       "<div>\n",
       "<table border=\"1\" class=\"dataframe\">\n",
       "  <thead>\n",
       "    <tr style=\"text-align: right;\">\n",
       "      <th></th>\n",
       "      <th>editid</th>\n",
       "      <th>oldrevisionid</th>\n",
       "      <th>newrevisionid</th>\n",
       "      <th>editcomment</th>\n",
       "      <th>articleid</th>\n",
       "      <th>articletitle</th>\n",
       "      <th>annotators</th>\n",
       "      <th>totalannotators</th>\n",
       "      <th>annotatorid</th>\n",
       "      <th>age</th>\n",
       "      <th>...</th>\n",
       "      <th>wp</th>\n",
       "      <th>wrestling</th>\n",
       "      <th>written</th>\n",
       "      <th>wrong</th>\n",
       "      <th>www</th>\n",
       "      <th>year</th>\n",
       "      <th>years</th>\n",
       "      <th>yes</th>\n",
       "      <th>youtube</th>\n",
       "      <th>zone</th>\n",
       "    </tr>\n",
       "  </thead>\n",
       "  <tbody>\n",
       "    <tr>\n",
       "      <th>0</th>\n",
       "      <td>1</td>\n",
       "      <td>328391343</td>\n",
       "      <td>328391582</td>\n",
       "      <td>/* Episodes */</td>\n",
       "      <td>24477266</td>\n",
       "      <td>Top Gear (series 14)</td>\n",
       "      <td>3</td>\n",
       "      <td>3</td>\n",
       "      <td>1.0</td>\n",
       "      <td>23.0</td>\n",
       "      <td>...</td>\n",
       "      <td>0</td>\n",
       "      <td>0</td>\n",
       "      <td>0</td>\n",
       "      <td>0</td>\n",
       "      <td>0</td>\n",
       "      <td>0</td>\n",
       "      <td>0</td>\n",
       "      <td>0</td>\n",
       "      <td>0</td>\n",
       "      <td>0</td>\n",
       "    </tr>\n",
       "    <tr>\n",
       "      <th>1</th>\n",
       "      <td>1</td>\n",
       "      <td>328391343</td>\n",
       "      <td>328391582</td>\n",
       "      <td>/* Episodes */</td>\n",
       "      <td>24477266</td>\n",
       "      <td>Top Gear (series 14)</td>\n",
       "      <td>3</td>\n",
       "      <td>3</td>\n",
       "      <td>2.0</td>\n",
       "      <td>23.0</td>\n",
       "      <td>...</td>\n",
       "      <td>0</td>\n",
       "      <td>0</td>\n",
       "      <td>0</td>\n",
       "      <td>0</td>\n",
       "      <td>0</td>\n",
       "      <td>0</td>\n",
       "      <td>0</td>\n",
       "      <td>0</td>\n",
       "      <td>0</td>\n",
       "      <td>0</td>\n",
       "    </tr>\n",
       "  </tbody>\n",
       "</table>\n",
       "<p>2 rows × 1033 columns</p>\n",
       "</div>"
      ],
      "text/plain": [
       "   editid  oldrevisionid  newrevisionid     editcomment  articleid  \\\n",
       "0       1      328391343      328391582  /* Episodes */   24477266   \n",
       "1       1      328391343      328391582  /* Episodes */   24477266   \n",
       "\n",
       "           articletitle  annotators  totalannotators  annotatorid   age  ...   \\\n",
       "0  Top Gear (series 14)           3                3          1.0  23.0  ...    \n",
       "1  Top Gear (series 14)           3                3          2.0  23.0  ...    \n",
       "\n",
       "   wp  wrestling  written  wrong  www  year  years  yes  youtube  zone  \n",
       "0   0          0        0      0    0     0      0    0        0     0  \n",
       "1   0          0        0      0    0     0      0    0        0     0  \n",
       "\n",
       "[2 rows x 1033 columns]"
      ]
     },
     "execution_count": 82,
     "metadata": {},
     "output_type": "execute_result"
    }
   ],
   "source": [
    "wikivand2 = pd.concat([wikivand2, temp7], axis = 1)\n",
    "wikivand2.head(2)"
   ]
  },
  {
   "cell_type": "code",
   "execution_count": 83,
   "metadata": {
    "collapsed": false
   },
   "outputs": [
    {
     "data": {
      "text/html": [
       "<div>\n",
       "<table border=\"1\" class=\"dataframe\">\n",
       "  <thead>\n",
       "    <tr style=\"text-align: right;\">\n",
       "      <th></th>\n",
       "      <th>editid</th>\n",
       "      <th>oldrevisionid</th>\n",
       "      <th>newrevisionid</th>\n",
       "      <th>editcomment</th>\n",
       "      <th>articleid</th>\n",
       "      <th>articletitle</th>\n",
       "      <th>annotators</th>\n",
       "      <th>totalannotators</th>\n",
       "      <th>annotatorid</th>\n",
       "      <th>age</th>\n",
       "      <th>...</th>\n",
       "      <th>williams</th>\n",
       "      <th>winter</th>\n",
       "      <th>wisconsin</th>\n",
       "      <th>womens</th>\n",
       "      <th>world</th>\n",
       "      <th>wrestling</th>\n",
       "      <th>wwe</th>\n",
       "      <th>year</th>\n",
       "      <th>york</th>\n",
       "      <th>young</th>\n",
       "    </tr>\n",
       "  </thead>\n",
       "  <tbody>\n",
       "    <tr>\n",
       "      <th>0</th>\n",
       "      <td>1</td>\n",
       "      <td>328391343</td>\n",
       "      <td>328391582</td>\n",
       "      <td>/* Episodes */</td>\n",
       "      <td>24477266</td>\n",
       "      <td>Top Gear (series 14)</td>\n",
       "      <td>3</td>\n",
       "      <td>3</td>\n",
       "      <td>1.0</td>\n",
       "      <td>23.0</td>\n",
       "      <td>...</td>\n",
       "      <td>0</td>\n",
       "      <td>0</td>\n",
       "      <td>0</td>\n",
       "      <td>0</td>\n",
       "      <td>0</td>\n",
       "      <td>0</td>\n",
       "      <td>0</td>\n",
       "      <td>0</td>\n",
       "      <td>0</td>\n",
       "      <td>0</td>\n",
       "    </tr>\n",
       "    <tr>\n",
       "      <th>1</th>\n",
       "      <td>1</td>\n",
       "      <td>328391343</td>\n",
       "      <td>328391582</td>\n",
       "      <td>/* Episodes */</td>\n",
       "      <td>24477266</td>\n",
       "      <td>Top Gear (series 14)</td>\n",
       "      <td>3</td>\n",
       "      <td>3</td>\n",
       "      <td>2.0</td>\n",
       "      <td>23.0</td>\n",
       "      <td>...</td>\n",
       "      <td>0</td>\n",
       "      <td>0</td>\n",
       "      <td>0</td>\n",
       "      <td>0</td>\n",
       "      <td>0</td>\n",
       "      <td>0</td>\n",
       "      <td>0</td>\n",
       "      <td>0</td>\n",
       "      <td>0</td>\n",
       "      <td>0</td>\n",
       "    </tr>\n",
       "  </tbody>\n",
       "</table>\n",
       "<p>2 rows × 1533 columns</p>\n",
       "</div>"
      ],
      "text/plain": [
       "   editid  oldrevisionid  newrevisionid     editcomment  articleid  \\\n",
       "0       1      328391343      328391582  /* Episodes */   24477266   \n",
       "1       1      328391343      328391582  /* Episodes */   24477266   \n",
       "\n",
       "           articletitle  annotators  totalannotators  annotatorid   age  \\\n",
       "0  Top Gear (series 14)           3                3          1.0  23.0   \n",
       "1  Top Gear (series 14)           3                3          2.0  23.0   \n",
       "\n",
       "   ...    williams  winter  wisconsin  womens  world  wrestling  wwe  year  \\\n",
       "0  ...           0       0          0       0      0          0    0     0   \n",
       "1  ...           0       0          0       0      0          0    0     0   \n",
       "\n",
       "   york  young  \n",
       "0     0      0  \n",
       "1     0      0  \n",
       "\n",
       "[2 rows x 1533 columns]"
      ]
     },
     "execution_count": 83,
     "metadata": {},
     "output_type": "execute_result"
    }
   ],
   "source": [
    "# Vectorising ARTICLETITLE\n",
    "# creating 500 features from article title\n",
    "from sklearn.feature_extraction.text import CountVectorizer\n",
    "corpus = wikivand2['articletitle']\n",
    "vectorizer = CountVectorizer(min_df = 1, stop_words = 'english', max_features=500) \n",
    "X = vectorizer.fit_transform(corpus)\n",
    "X.toarray\n",
    "#vocab = vectorizer.vocabulary_\n",
    "temp8 = DataFrame(X.A, columns=vectorizer.get_feature_names())\n",
    "temp8 = temp8.set_index(wikivand2.index.values)\n",
    "wikivand2 = pd.concat([wikivand2, temp8], axis = 1)\n",
    "wikivand2.head(2)"
   ]
  },
  {
   "cell_type": "code",
   "execution_count": 84,
   "metadata": {
    "collapsed": false
   },
   "outputs": [
    {
     "data": {
      "text/html": [
       "<div>\n",
       "<table border=\"1\" class=\"dataframe\">\n",
       "  <thead>\n",
       "    <tr style=\"text-align: right;\">\n",
       "      <th></th>\n",
       "      <th>editid</th>\n",
       "      <th>oldrevisionid</th>\n",
       "      <th>newrevisionid</th>\n",
       "      <th>articleid</th>\n",
       "      <th>annotators</th>\n",
       "      <th>totalannotators</th>\n",
       "      <th>annotatorid</th>\n",
       "      <th>age</th>\n",
       "      <th>vandalizing</th>\n",
       "      <th>decisiontime</th>\n",
       "      <th>...</th>\n",
       "      <th>williams</th>\n",
       "      <th>winter</th>\n",
       "      <th>wisconsin</th>\n",
       "      <th>womens</th>\n",
       "      <th>world</th>\n",
       "      <th>wrestling</th>\n",
       "      <th>wwe</th>\n",
       "      <th>year</th>\n",
       "      <th>york</th>\n",
       "      <th>young</th>\n",
       "    </tr>\n",
       "  </thead>\n",
       "  <tbody>\n",
       "    <tr>\n",
       "      <th>0</th>\n",
       "      <td>1</td>\n",
       "      <td>328391343</td>\n",
       "      <td>328391582</td>\n",
       "      <td>24477266</td>\n",
       "      <td>3</td>\n",
       "      <td>3</td>\n",
       "      <td>1.0</td>\n",
       "      <td>23.0</td>\n",
       "      <td>0</td>\n",
       "      <td>43453.0</td>\n",
       "      <td>...</td>\n",
       "      <td>0</td>\n",
       "      <td>0</td>\n",
       "      <td>0</td>\n",
       "      <td>0</td>\n",
       "      <td>0</td>\n",
       "      <td>0</td>\n",
       "      <td>0</td>\n",
       "      <td>0</td>\n",
       "      <td>0</td>\n",
       "      <td>0</td>\n",
       "    </tr>\n",
       "    <tr>\n",
       "      <th>1</th>\n",
       "      <td>1</td>\n",
       "      <td>328391343</td>\n",
       "      <td>328391582</td>\n",
       "      <td>24477266</td>\n",
       "      <td>3</td>\n",
       "      <td>3</td>\n",
       "      <td>2.0</td>\n",
       "      <td>23.0</td>\n",
       "      <td>0</td>\n",
       "      <td>14156.0</td>\n",
       "      <td>...</td>\n",
       "      <td>0</td>\n",
       "      <td>0</td>\n",
       "      <td>0</td>\n",
       "      <td>0</td>\n",
       "      <td>0</td>\n",
       "      <td>0</td>\n",
       "      <td>0</td>\n",
       "      <td>0</td>\n",
       "      <td>0</td>\n",
       "      <td>0</td>\n",
       "    </tr>\n",
       "  </tbody>\n",
       "</table>\n",
       "<p>2 rows × 1531 columns</p>\n",
       "</div>"
      ],
      "text/plain": [
       "   editid  oldrevisionid  newrevisionid  articleid  annotators  \\\n",
       "0       1      328391343      328391582   24477266           3   \n",
       "1       1      328391343      328391582   24477266           3   \n",
       "\n",
       "   totalannotators  annotatorid   age  vandalizing  decisiontime  ...    \\\n",
       "0                3          1.0  23.0            0       43453.0  ...     \n",
       "1                3          2.0  23.0            0       14156.0  ...     \n",
       "\n",
       "   williams  winter  wisconsin  womens  world  wrestling  wwe  year  york  \\\n",
       "0         0       0          0       0      0          0    0     0     0   \n",
       "1         0       0          0       0      0          0    0     0     0   \n",
       "\n",
       "   young  \n",
       "0      0  \n",
       "1      0  \n",
       "\n",
       "[2 rows x 1531 columns]"
      ]
     },
     "execution_count": 84,
     "metadata": {},
     "output_type": "execute_result"
    }
   ],
   "source": [
    "# Dropping editcommnet and articletitle\n",
    "wikivand2 = wikivand2.drop( ['editcomment','articletitle'], axis=1)\n",
    "wikivand2.head(2)"
   ]
  },
  {
   "cell_type": "code",
   "execution_count": 85,
   "metadata": {
    "collapsed": true
   },
   "outputs": [],
   "source": [
    "# Let's apply Logistic regression to this crazy new dataset\n"
   ]
  },
  {
   "cell_type": "code",
   "execution_count": 86,
   "metadata": {
    "collapsed": true
   },
   "outputs": [],
   "source": [
    "y2 = wikivand2.vandalizing.astype(int)\n",
    "x2 = wikivand2.drop(['vandalizing'], axis = 1)"
   ]
  },
  {
   "cell_type": "code",
   "execution_count": 87,
   "metadata": {
    "collapsed": true
   },
   "outputs": [],
   "source": [
    "\n",
    "# Defining x_train, y_train, x_test, y_test \n",
    "from sklearn.cross_validation import train_test_split\n",
    "x2_train, x2_test, y2_train, y2_test = train_test_split(x2, y2, test_size=0.2, random_state=0)\n",
    "\n"
   ]
  },
  {
   "cell_type": "code",
   "execution_count": 88,
   "metadata": {
    "collapsed": false
   },
   "outputs": [
    {
     "data": {
      "text/plain": [
       "LogisticRegression(C=1.0, class_weight='balanced', dual=False,\n",
       "          fit_intercept=True, intercept_scaling=1, max_iter=100,\n",
       "          multi_class='ovr', n_jobs=1, penalty='l2', random_state=None,\n",
       "          solver='liblinear', tol=0.0001, verbose=0, warm_start=False)"
      ]
     },
     "execution_count": 88,
     "metadata": {},
     "output_type": "execute_result"
    }
   ],
   "source": [
    "from sklearn.linear_model import LogisticRegression\n",
    "from sklearn import datasets\n",
    "from sklearn import metrics\n",
    "model3 = LogisticRegression(class_weight = 'balanced')\n",
    "model3.fit(x2_train,y2_train)"
   ]
  },
  {
   "cell_type": "code",
   "execution_count": 89,
   "metadata": {
    "collapsed": false
   },
   "outputs": [
    {
     "name": "stdout",
     "output_type": "stream",
     "text": [
      "             precision    recall  f1-score   support\n",
      "\n",
      "          0       0.99      0.72      0.84     26885\n",
      "          1       0.01      0.47      0.02       196\n",
      "\n",
      "avg / total       0.99      0.72      0.83     27081\n",
      "\n"
     ]
    }
   ],
   "source": [
    "# make predictions\n",
    "expected = y2_test\n",
    "predicted = model3.predict(x2_test)\n",
    "# summarize the fit of the model\n",
    "print(metrics.classification_report(expected, predicted))"
   ]
  },
  {
   "cell_type": "code",
   "execution_count": 90,
   "metadata": {
    "collapsed": false
   },
   "outputs": [
    {
     "name": "stdout",
     "output_type": "stream",
     "text": [
      "[[19485  7400]\n",
      " [  104    92]]\n"
     ]
    }
   ],
   "source": [
    "print(metrics.confusion_matrix(expected, predicted))\n"
   ]
  },
  {
   "cell_type": "code",
   "execution_count": 91,
   "metadata": {
    "collapsed": false
   },
   "outputs": [
    {
     "data": {
      "text/plain": [
       "0.72290535800007383"
      ]
     },
     "execution_count": 91,
     "metadata": {},
     "output_type": "execute_result"
    }
   ],
   "source": [
    "model3.score(x2_test, y2_test)"
   ]
  },
  {
   "cell_type": "code",
   "execution_count": 92,
   "metadata": {
    "collapsed": true
   },
   "outputs": [],
   "source": [
    "# again an accuray of around 99 %"
   ]
  },
  {
   "cell_type": "code",
   "execution_count": 93,
   "metadata": {
    "collapsed": false
   },
   "outputs": [
    {
     "data": {
      "text/plain": [
       "'\\n# Support Vector Machine\\n\\nfrom sklearn import metrics\\nfrom sklearn.svm import SVC\\n# fit a SVM model to the data\\nmodel4 = SVC()\\nmodel4.fit(x2_train, y2_train)\\n\\n# make predictions\\nexpected4 = y2_test\\npredicted4 = model2.predict(x2_test)\\n# summarize the fit of the model\\nprint(metrics.classification_report(expected4, predicted4))\\nprint(metrics.confusion_matrix(expected4, predicted4))\\nprint(model4.score(x2_test, y2_test))\\n'"
      ]
     },
     "execution_count": 93,
     "metadata": {},
     "output_type": "execute_result"
    }
   ],
   "source": [
    "'''\n",
    "# Support Vector Machine\n",
    "\n",
    "from sklearn import metrics\n",
    "from sklearn.svm import SVC\n",
    "# fit a SVM model to the data\n",
    "model4 = SVC()\n",
    "model4.fit(x2_train, y2_train)\n",
    "\n",
    "# make predictions\n",
    "expected4 = y2_test\n",
    "predicted4 = model2.predict(x2_test)\n",
    "# summarize the fit of the model\n",
    "print(metrics.classification_report(expected4, predicted4))\n",
    "print(metrics.confusion_matrix(expected4, predicted4))\n",
    "print(model4.score(x2_test, y2_test))\n",
    "'''\n",
    "\n",
    "\n",
    "\n"
   ]
  },
  {
   "cell_type": "code",
   "execution_count": 94,
   "metadata": {
    "collapsed": true
   },
   "outputs": [],
   "source": [
    "# Now, I will some visualisation on wikivand1 dataset\n",
    "# it has all the columns as int or float except article name or comments\n",
    "# I want to get an idea about how age, time-taken in edit affect vandalism\n"
   ]
  },
  {
   "cell_type": "code",
   "execution_count": 95,
   "metadata": {
    "collapsed": false,
    "scrolled": true
   },
   "outputs": [
    {
     "data": {
      "text/html": [
       "<div>\n",
       "<table border=\"1\" class=\"dataframe\">\n",
       "  <thead>\n",
       "    <tr style=\"text-align: right;\">\n",
       "      <th></th>\n",
       "      <th>editid</th>\n",
       "      <th>oldrevisionid</th>\n",
       "      <th>newrevisionid</th>\n",
       "      <th>articleid</th>\n",
       "      <th>annotators</th>\n",
       "      <th>totalannotators</th>\n",
       "      <th>annotatorid</th>\n",
       "      <th>age</th>\n",
       "      <th>vandalizing</th>\n",
       "      <th>decisiontime</th>\n",
       "      <th>...</th>\n",
       "      <th>editing_never</th>\n",
       "      <th>editing_less</th>\n",
       "      <th>editing_monthly</th>\n",
       "      <th>editing_weekly</th>\n",
       "      <th>editing_daily</th>\n",
       "      <th>noticing_less</th>\n",
       "      <th>noticing_monthly</th>\n",
       "      <th>noticing_never</th>\n",
       "      <th>noticing_weekly</th>\n",
       "      <th>noticing_daily</th>\n",
       "    </tr>\n",
       "  </thead>\n",
       "  <tbody>\n",
       "    <tr>\n",
       "      <th>0</th>\n",
       "      <td>1</td>\n",
       "      <td>328391343</td>\n",
       "      <td>328391582</td>\n",
       "      <td>24477266</td>\n",
       "      <td>3</td>\n",
       "      <td>3</td>\n",
       "      <td>1.0</td>\n",
       "      <td>23.0</td>\n",
       "      <td>0</td>\n",
       "      <td>43453.0</td>\n",
       "      <td>...</td>\n",
       "      <td>0</td>\n",
       "      <td>1</td>\n",
       "      <td>0</td>\n",
       "      <td>0</td>\n",
       "      <td>0</td>\n",
       "      <td>0</td>\n",
       "      <td>0</td>\n",
       "      <td>0</td>\n",
       "      <td>0</td>\n",
       "      <td>1</td>\n",
       "    </tr>\n",
       "    <tr>\n",
       "      <th>1</th>\n",
       "      <td>1</td>\n",
       "      <td>328391343</td>\n",
       "      <td>328391582</td>\n",
       "      <td>24477266</td>\n",
       "      <td>3</td>\n",
       "      <td>3</td>\n",
       "      <td>2.0</td>\n",
       "      <td>23.0</td>\n",
       "      <td>0</td>\n",
       "      <td>14156.0</td>\n",
       "      <td>...</td>\n",
       "      <td>0</td>\n",
       "      <td>1</td>\n",
       "      <td>0</td>\n",
       "      <td>0</td>\n",
       "      <td>0</td>\n",
       "      <td>0</td>\n",
       "      <td>1</td>\n",
       "      <td>0</td>\n",
       "      <td>0</td>\n",
       "      <td>0</td>\n",
       "    </tr>\n",
       "    <tr>\n",
       "      <th>2</th>\n",
       "      <td>1</td>\n",
       "      <td>328391343</td>\n",
       "      <td>328391582</td>\n",
       "      <td>24477266</td>\n",
       "      <td>3</td>\n",
       "      <td>3</td>\n",
       "      <td>3.0</td>\n",
       "      <td>26.0</td>\n",
       "      <td>1</td>\n",
       "      <td>22190.0</td>\n",
       "      <td>...</td>\n",
       "      <td>0</td>\n",
       "      <td>1</td>\n",
       "      <td>0</td>\n",
       "      <td>0</td>\n",
       "      <td>0</td>\n",
       "      <td>0</td>\n",
       "      <td>0</td>\n",
       "      <td>1</td>\n",
       "      <td>0</td>\n",
       "      <td>0</td>\n",
       "    </tr>\n",
       "    <tr>\n",
       "      <th>3</th>\n",
       "      <td>2</td>\n",
       "      <td>327585467</td>\n",
       "      <td>327607921</td>\n",
       "      <td>476288</td>\n",
       "      <td>10</td>\n",
       "      <td>18</td>\n",
       "      <td>1.0</td>\n",
       "      <td>23.0</td>\n",
       "      <td>0</td>\n",
       "      <td>24203.0</td>\n",
       "      <td>...</td>\n",
       "      <td>0</td>\n",
       "      <td>1</td>\n",
       "      <td>0</td>\n",
       "      <td>0</td>\n",
       "      <td>0</td>\n",
       "      <td>0</td>\n",
       "      <td>0</td>\n",
       "      <td>0</td>\n",
       "      <td>0</td>\n",
       "      <td>1</td>\n",
       "    </tr>\n",
       "    <tr>\n",
       "      <th>4</th>\n",
       "      <td>2</td>\n",
       "      <td>327585467</td>\n",
       "      <td>327607921</td>\n",
       "      <td>476288</td>\n",
       "      <td>10</td>\n",
       "      <td>18</td>\n",
       "      <td>2.0</td>\n",
       "      <td>23.0</td>\n",
       "      <td>0</td>\n",
       "      <td>25283.0</td>\n",
       "      <td>...</td>\n",
       "      <td>0</td>\n",
       "      <td>1</td>\n",
       "      <td>0</td>\n",
       "      <td>0</td>\n",
       "      <td>0</td>\n",
       "      <td>0</td>\n",
       "      <td>1</td>\n",
       "      <td>0</td>\n",
       "      <td>0</td>\n",
       "      <td>0</td>\n",
       "    </tr>\n",
       "  </tbody>\n",
       "</table>\n",
       "<p>5 rows × 31 columns</p>\n",
       "</div>"
      ],
      "text/plain": [
       "   editid  oldrevisionid  newrevisionid  articleid  annotators  \\\n",
       "0       1      328391343      328391582   24477266           3   \n",
       "1       1      328391343      328391582   24477266           3   \n",
       "2       1      328391343      328391582   24477266           3   \n",
       "3       2      327585467      327607921     476288          10   \n",
       "4       2      327585467      327607921     476288          10   \n",
       "\n",
       "   totalannotators  annotatorid   age  vandalizing  decisiontime  \\\n",
       "0                3          1.0  23.0            0       43453.0   \n",
       "1                3          2.0  23.0            0       14156.0   \n",
       "2                3          3.0  26.0            1       22190.0   \n",
       "3               18          1.0  23.0            0       24203.0   \n",
       "4               18          2.0  23.0            0       25283.0   \n",
       "\n",
       "        ...        editing_never  editing_less  editing_monthly  \\\n",
       "0       ...                    0             1                0   \n",
       "1       ...                    0             1                0   \n",
       "2       ...                    0             1                0   \n",
       "3       ...                    0             1                0   \n",
       "4       ...                    0             1                0   \n",
       "\n",
       "   editing_weekly  editing_daily  noticing_less  noticing_monthly  \\\n",
       "0               0              0              0                 0   \n",
       "1               0              0              0                 1   \n",
       "2               0              0              0                 0   \n",
       "3               0              0              0                 0   \n",
       "4               0              0              0                 1   \n",
       "\n",
       "   noticing_never  noticing_weekly  noticing_daily  \n",
       "0               0                0               1  \n",
       "1               0                0               0  \n",
       "2               1                0               0  \n",
       "3               0                0               1  \n",
       "4               0                0               0  \n",
       "\n",
       "[5 rows x 31 columns]"
      ]
     },
     "execution_count": 95,
     "metadata": {},
     "output_type": "execute_result"
    }
   ],
   "source": [
    "wikivand1.head()"
   ]
  },
  {
   "cell_type": "code",
   "execution_count": 96,
   "metadata": {
    "collapsed": false
   },
   "outputs": [
    {
     "data": {
      "text/plain": [
       "Index(['editid', 'oldrevisionid', 'newrevisionid', 'articleid', 'annotators',\n",
       "       'totalannotators', 'annotatorid', 'age', 'vandalizing', 'decisiontime',\n",
       "       'time', 'class_y_no', 'class_y_yes', 'class_y_dunno', 'class_y_error',\n",
       "       'class_x_lb', 'sex_lb', 'reading_daily', 'reading_weekly',\n",
       "       'reading_monthly', 'reading_less', 'editing_never', 'editing_less',\n",
       "       'editing_monthly', 'editing_weekly', 'editing_daily', 'noticing_less',\n",
       "       'noticing_monthly', 'noticing_never', 'noticing_weekly',\n",
       "       'noticing_daily'],\n",
       "      dtype='object')"
      ]
     },
     "execution_count": 96,
     "metadata": {},
     "output_type": "execute_result"
    }
   ],
   "source": [
    "wikivand1.columns"
   ]
  },
  {
   "cell_type": "code",
   "execution_count": 97,
   "metadata": {
    "collapsed": false,
    "scrolled": true
   },
   "outputs": [
    {
     "data": {
      "text/plain": [
       "<matplotlib.figure.Figure at 0x121bc0048>"
      ]
     },
     "metadata": {},
     "output_type": "display_data"
    }
   ],
   "source": [
    "import matplotlib.pyplot as plt\n",
    "alpha = 0.6\n",
    "fig = plt.figure(figsize=(8, 12))\n",
    "grouped = wikivand1.groupby(['vandalizing'])\n",
    "group0 = grouped.get_group(0)\n",
    "group1 = grouped.get_group(1)"
   ]
  },
  {
   "cell_type": "code",
   "execution_count": 98,
   "metadata": {
    "collapsed": true
   },
   "outputs": [],
   "source": [
    "plot_rows = 3\n",
    "plot_cols = 1"
   ]
  },
  {
   "cell_type": "code",
   "execution_count": 99,
   "metadata": {
    "collapsed": false
   },
   "outputs": [
    {
     "data": {
      "text/plain": [
       "<matplotlib.text.Text at 0x123326160>"
      ]
     },
     "execution_count": 99,
     "metadata": {},
     "output_type": "execute_result"
    },
    {
     "data": {
      "image/png": "[encoded data removed]",
      "text/plain": [
       "<matplotlib.figure.Figure at 0x121c07fd0>"
      ]
     },
     "metadata": {},
     "output_type": "display_data"
    }
   ],
   "source": [
    "#ax1 = fig.add_subplot(2,2,1)\n",
    "ax1 = plt.subplot2grid((plot_rows,plot_cols), (0,0), rowspan=1, colspan=1)\n",
    "plt.hist([group0.age, group1.age], bins=16, range=(10,60), stacked=False, \n",
    "        label=['Not vandalism', 'Vandalism'], alpha=alpha)\n",
    "plt.legend(loc='best', fontsize='x-small')\n",
    "ax1.set_title('Vandalism by Age')\n"
   ]
  },
  {
   "cell_type": "code",
   "execution_count": 100,
   "metadata": {
    "collapsed": false
   },
   "outputs": [
    {
     "data": {
      "text/plain": [
       "<matplotlib.text.Text at 0x1233b69b0>"
      ]
     },
     "execution_count": 100,
     "metadata": {},
     "output_type": "execute_result"
    },
    {
     "data": {
      "image/png": "[encoded data removed]",
      "text/plain": [
       "<matplotlib.figure.Figure at 0x121c075c0>"
      ]
     },
     "metadata": {},
     "output_type": "display_data"
    }
   ],
   "source": [
    "ax2 = plt.subplot2grid((plot_rows,plot_cols), (0,0), rowspan=1, colspan=1)\n",
    "plt.hist([group0.sex_lb, group1.sex_lb],  stacked=True, \n",
    "        label=['Not Vandalism', 'Vandalism'], alpha=alpha)\n",
    "plt.legend(loc='best', fontsize='x-small')\n",
    "ax2.set_title('Vandalism by Gender')\n",
    "\n"
   ]
  },
  {
   "cell_type": "code",
   "execution_count": 101,
   "metadata": {
    "collapsed": false
   },
   "outputs": [
    {
     "data": {
      "text/plain": [
       "<matplotlib.text.Text at 0x126e9ecf8>"
      ]
     },
     "execution_count": 101,
     "metadata": {},
     "output_type": "execute_result"
    },
    {
     "data": {
      "image/png": "[encoded data removed]",
      "text/plain": [
       "<matplotlib.figure.Figure at 0x121cf7ba8>"
      ]
     },
     "metadata": {},
     "output_type": "display_data"
    }
   ],
   "source": [
    "ax3 = plt.subplot2grid((plot_rows,plot_cols), (0,0), rowspan=1, colspan=1)\n",
    "plt.hist([group0.time, group1.time],  stacked=True, \n",
    "        label=['Vandalism', 'not-vandalism'], alpha=alpha)\n",
    "plt.legend(loc='best', fontsize='x-small')\n",
    "ax3.set_title('Vandalism by Time taken in submission')"
   ]
  },
  {
   "cell_type": "code",
   "execution_count": 102,
   "metadata": {
    "collapsed": false
   },
   "outputs": [
    {
     "data": {
      "text/plain": [
       "0    134413\n",
       "1       992\n",
       "Name: vandalizing, dtype: int64"
      ]
     },
     "execution_count": 102,
     "metadata": {},
     "output_type": "execute_result"
    }
   ],
   "source": [
    "wikivand2['vandalizing'].value_counts()"
   ]
  },
  {
   "cell_type": "code",
   "execution_count": 103,
   "metadata": {
    "collapsed": false
   },
   "outputs": [
    {
     "data": {
      "text/plain": [
       "1    103069\n",
       "0     32336\n",
       "Name: sex_lb, dtype: int64"
      ]
     },
     "execution_count": 103,
     "metadata": {},
     "output_type": "execute_result"
    }
   ],
   "source": [
    "wikivand2['sex_lb'].value_counts()"
   ]
  },
  {
   "cell_type": "code",
   "execution_count": null,
   "metadata": {
    "collapsed": false
   },
   "outputs": [],
   "source": []
  },
  {
   "cell_type": "code",
   "execution_count": null,
   "metadata": {
    "collapsed": true
   },
   "outputs": [],
   "source": []
  },
  {
   "cell_type": "code",
   "execution_count": null,
   "metadata": {
    "collapsed": true
   },
   "outputs": [],
   "source": []
  }
 ],
 "metadata": {
  "anaconda-cloud": {},
  "kernelspec": {
   "display_name": "Python [conda root]",
   "language": "python",
   "name": "conda-root-py"
  },
  "language_info": {
   "codemirror_mode": {
    "name": "ipython",
    "version": 3
   },
   "file_extension": ".py",
   "mimetype": "text/x-python",
   "name": "python",
   "nbconvert_exporter": "python",
   "pygments_lexer": "ipython3",
   "version": "3.5.2"
  }
 },
 "nbformat": 4,
 "nbformat_minor": 1
}
